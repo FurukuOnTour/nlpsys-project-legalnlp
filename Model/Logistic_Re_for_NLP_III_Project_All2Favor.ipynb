{
  "cells": [
    {
      "cell_type": "markdown",
      "metadata": {
        "id": "view-in-github",
        "colab_type": "text"
      },
      "source": [
        "<a href=\"https://colab.research.google.com/github/FurukuOnTour/nlpsys-project-legalnlp/blob/main/Model/Logistic_Re_for_NLP_III_Project_All2Favor.ipynb\" target=\"_parent\"><img src=\"https://colab.research.google.com/assets/colab-badge.svg\" alt=\"Open In Colab\"/></a>"
      ]
    },
    {
      "cell_type": "markdown",
      "source": [
        "### IMPORT"
      ],
      "metadata": {
        "id": "qK9hX6OpTi5o"
      },
      "id": "qK9hX6OpTi5o"
    },
    {
      "cell_type": "code",
      "source": [
        "!pip install pythainlp\n",
        "import pythainlp as pyth\n",
        "import pandas as pd\n",
        "import re"
      ],
      "metadata": {
        "colab": {
          "base_uri": "https://localhost:8080/"
        },
        "id": "kSt23c09aRid",
        "outputId": "900ae912-ebdd-45a6-fb7e-81eca4c0323e"
      },
      "id": "kSt23c09aRid",
      "execution_count": null,
      "outputs": [
        {
          "output_type": "stream",
          "name": "stdout",
          "text": [
            "Looking in indexes: https://pypi.org/simple, https://us-python.pkg.dev/colab-wheels/public/simple/\n",
            "Collecting pythainlp\n",
            "  Downloading pythainlp-3.1.1-py3-none-any.whl (9.6 MB)\n",
            "\u001b[K     |████████████████████████████████| 9.6 MB 25.4 MB/s \n",
            "\u001b[?25hRequirement already satisfied: requests>=2.22.0 in /usr/local/lib/python3.7/dist-packages (from pythainlp) (2.23.0)\n",
            "Requirement already satisfied: chardet<4,>=3.0.2 in /usr/local/lib/python3.7/dist-packages (from requests>=2.22.0->pythainlp) (3.0.4)\n",
            "Requirement already satisfied: idna<3,>=2.5 in /usr/local/lib/python3.7/dist-packages (from requests>=2.22.0->pythainlp) (2.10)\n",
            "Requirement already satisfied: urllib3!=1.25.0,!=1.25.1,<1.26,>=1.21.1 in /usr/local/lib/python3.7/dist-packages (from requests>=2.22.0->pythainlp) (1.24.3)\n",
            "Requirement already satisfied: certifi>=2017.4.17 in /usr/local/lib/python3.7/dist-packages (from requests>=2.22.0->pythainlp) (2022.9.24)\n",
            "Installing collected packages: pythainlp\n",
            "Successfully installed pythainlp-3.1.1\n"
          ]
        }
      ]
    },
    {
      "cell_type": "markdown",
      "source": [
        "### CHECK AND PREPARE DATA"
      ],
      "metadata": {
        "id": "rRApe8nmTml4"
      },
      "id": "rRApe8nmTml4"
    },
    {
      "cell_type": "code",
      "source": [
        "!gdown https://drive.google.com/uc?id=1bfPtPoRoIZ_3nZLozDqD8SukmA9B8tRr\n",
        "!gdown https://drive.google.com/uc?id=19Q78VuatujnL08ndnwj6VWHZlio6J4Au"
      ],
      "metadata": {
        "colab": {
          "base_uri": "https://localhost:8080/"
        },
        "id": "u4qDR6WIqTdv",
        "outputId": "165ce4ed-dec0-4901-cd08-8c8fbcb589d2"
      },
      "id": "u4qDR6WIqTdv",
      "execution_count": null,
      "outputs": [
        {
          "output_type": "stream",
          "name": "stdout",
          "text": [
            "Downloading...\n",
            "From: https://drive.google.com/uc?id=1bfPtPoRoIZ_3nZLozDqD8SukmA9B8tRr\n",
            "To: /content/all2favor-train.csv\n",
            "100% 3.95M/3.95M [00:00<00:00, 14.2MB/s]\n",
            "Downloading...\n",
            "From: https://drive.google.com/uc?id=19Q78VuatujnL08ndnwj6VWHZlio6J4Au\n",
            "To: /content/all2favor-dev.csv\n",
            "100% 913k/913k [00:00<00:00, 77.8MB/s]\n"
          ]
        }
      ]
    },
    {
      "cell_type": "code",
      "source": [
        "train = pd.read_csv('/content/all2favor-train.csv')"
      ],
      "metadata": {
        "id": "tOXSfphiN6gZ"
      },
      "id": "tOXSfphiN6gZ",
      "execution_count": null,
      "outputs": []
    },
    {
      "cell_type": "code",
      "source": [
        "dev = pd.read_csv('/content/all2favor-dev.csv')"
      ],
      "metadata": {
        "id": "K3YTfqypN8VQ"
      },
      "id": "K3YTfqypN8VQ",
      "execution_count": null,
      "outputs": []
    },
    {
      "cell_type": "code",
      "execution_count": null,
      "id": "40faca24",
      "metadata": {
        "id": "40faca24",
        "outputId": "c0156498-e5a3-421c-f76a-038015e638fe",
        "colab": {
          "base_uri": "https://localhost:8080/",
          "height": 206
        }
      },
      "outputs": [
        {
          "output_type": "execute_result",
          "data": {
            "text/plain": [
              "                                                text                label\n",
              "0  2523/139 ย่อสั้น คนของโจทก์รับเงินจากลูกค้าแล้...  partially favorable\n",
              "1  2545/3535 ย่อสั้น ตามสัญญาซื้อขายระบุว่า ป. ซื...          unfavorable\n",
              "2  2558/10955 ย่อสั้น ตาม พ . ร . บ . องค์การสงเค...          unfavorable\n",
              "3  2548/4823 ย่อสั้น จำเลยที่ 1 เป็นเจ้าพนักงานที...  partially favorable\n",
              "4  2511/1204 ย่อสั้น ค่าเสียหายฐานทำละเมิดปิดทางภ...  partially favorable"
            ],
            "text/html": [
              "\n",
              "  <div id=\"df-08d67633-be0a-4c38-8079-16e3f1fddd64\">\n",
              "    <div class=\"colab-df-container\">\n",
              "      <div>\n",
              "<style scoped>\n",
              "    .dataframe tbody tr th:only-of-type {\n",
              "        vertical-align: middle;\n",
              "    }\n",
              "\n",
              "    .dataframe tbody tr th {\n",
              "        vertical-align: top;\n",
              "    }\n",
              "\n",
              "    .dataframe thead th {\n",
              "        text-align: right;\n",
              "    }\n",
              "</style>\n",
              "<table border=\"1\" class=\"dataframe\">\n",
              "  <thead>\n",
              "    <tr style=\"text-align: right;\">\n",
              "      <th></th>\n",
              "      <th>text</th>\n",
              "      <th>label</th>\n",
              "    </tr>\n",
              "  </thead>\n",
              "  <tbody>\n",
              "    <tr>\n",
              "      <th>0</th>\n",
              "      <td>2523/139 ย่อสั้น คนของโจทก์รับเงินจากลูกค้าแล้...</td>\n",
              "      <td>partially favorable</td>\n",
              "    </tr>\n",
              "    <tr>\n",
              "      <th>1</th>\n",
              "      <td>2545/3535 ย่อสั้น ตามสัญญาซื้อขายระบุว่า ป. ซื...</td>\n",
              "      <td>unfavorable</td>\n",
              "    </tr>\n",
              "    <tr>\n",
              "      <th>2</th>\n",
              "      <td>2558/10955 ย่อสั้น ตาม พ . ร . บ . องค์การสงเค...</td>\n",
              "      <td>unfavorable</td>\n",
              "    </tr>\n",
              "    <tr>\n",
              "      <th>3</th>\n",
              "      <td>2548/4823 ย่อสั้น จำเลยที่ 1 เป็นเจ้าพนักงานที...</td>\n",
              "      <td>partially favorable</td>\n",
              "    </tr>\n",
              "    <tr>\n",
              "      <th>4</th>\n",
              "      <td>2511/1204 ย่อสั้น ค่าเสียหายฐานทำละเมิดปิดทางภ...</td>\n",
              "      <td>partially favorable</td>\n",
              "    </tr>\n",
              "  </tbody>\n",
              "</table>\n",
              "</div>\n",
              "      <button class=\"colab-df-convert\" onclick=\"convertToInteractive('df-08d67633-be0a-4c38-8079-16e3f1fddd64')\"\n",
              "              title=\"Convert this dataframe to an interactive table.\"\n",
              "              style=\"display:none;\">\n",
              "        \n",
              "  <svg xmlns=\"http://www.w3.org/2000/svg\" height=\"24px\"viewBox=\"0 0 24 24\"\n",
              "       width=\"24px\">\n",
              "    <path d=\"M0 0h24v24H0V0z\" fill=\"none\"/>\n",
              "    <path d=\"M18.56 5.44l.94 2.06.94-2.06 2.06-.94-2.06-.94-.94-2.06-.94 2.06-2.06.94zm-11 1L8.5 8.5l.94-2.06 2.06-.94-2.06-.94L8.5 2.5l-.94 2.06-2.06.94zm10 10l.94 2.06.94-2.06 2.06-.94-2.06-.94-.94-2.06-.94 2.06-2.06.94z\"/><path d=\"M17.41 7.96l-1.37-1.37c-.4-.4-.92-.59-1.43-.59-.52 0-1.04.2-1.43.59L10.3 9.45l-7.72 7.72c-.78.78-.78 2.05 0 2.83L4 21.41c.39.39.9.59 1.41.59.51 0 1.02-.2 1.41-.59l7.78-7.78 2.81-2.81c.8-.78.8-2.07 0-2.86zM5.41 20L4 18.59l7.72-7.72 1.47 1.35L5.41 20z\"/>\n",
              "  </svg>\n",
              "      </button>\n",
              "      \n",
              "  <style>\n",
              "    .colab-df-container {\n",
              "      display:flex;\n",
              "      flex-wrap:wrap;\n",
              "      gap: 12px;\n",
              "    }\n",
              "\n",
              "    .colab-df-convert {\n",
              "      background-color: #E8F0FE;\n",
              "      border: none;\n",
              "      border-radius: 50%;\n",
              "      cursor: pointer;\n",
              "      display: none;\n",
              "      fill: #1967D2;\n",
              "      height: 32px;\n",
              "      padding: 0 0 0 0;\n",
              "      width: 32px;\n",
              "    }\n",
              "\n",
              "    .colab-df-convert:hover {\n",
              "      background-color: #E2EBFA;\n",
              "      box-shadow: 0px 1px 2px rgba(60, 64, 67, 0.3), 0px 1px 3px 1px rgba(60, 64, 67, 0.15);\n",
              "      fill: #174EA6;\n",
              "    }\n",
              "\n",
              "    [theme=dark] .colab-df-convert {\n",
              "      background-color: #3B4455;\n",
              "      fill: #D2E3FC;\n",
              "    }\n",
              "\n",
              "    [theme=dark] .colab-df-convert:hover {\n",
              "      background-color: #434B5C;\n",
              "      box-shadow: 0px 1px 3px 1px rgba(0, 0, 0, 0.15);\n",
              "      filter: drop-shadow(0px 1px 2px rgba(0, 0, 0, 0.3));\n",
              "      fill: #FFFFFF;\n",
              "    }\n",
              "  </style>\n",
              "\n",
              "      <script>\n",
              "        const buttonEl =\n",
              "          document.querySelector('#df-08d67633-be0a-4c38-8079-16e3f1fddd64 button.colab-df-convert');\n",
              "        buttonEl.style.display =\n",
              "          google.colab.kernel.accessAllowed ? 'block' : 'none';\n",
              "\n",
              "        async function convertToInteractive(key) {\n",
              "          const element = document.querySelector('#df-08d67633-be0a-4c38-8079-16e3f1fddd64');\n",
              "          const dataTable =\n",
              "            await google.colab.kernel.invokeFunction('convertToInteractive',\n",
              "                                                     [key], {});\n",
              "          if (!dataTable) return;\n",
              "\n",
              "          const docLinkHtml = 'Like what you see? Visit the ' +\n",
              "            '<a target=\"_blank\" href=https://colab.research.google.com/notebooks/data_table.ipynb>data table notebook</a>'\n",
              "            + ' to learn more about interactive tables.';\n",
              "          element.innerHTML = '';\n",
              "          dataTable['output_type'] = 'display_data';\n",
              "          await google.colab.output.renderOutput(dataTable, element);\n",
              "          const docLink = document.createElement('div');\n",
              "          docLink.innerHTML = docLinkHtml;\n",
              "          element.appendChild(docLink);\n",
              "        }\n",
              "      </script>\n",
              "    </div>\n",
              "  </div>\n",
              "  "
            ]
          },
          "metadata": {},
          "execution_count": 5
        }
      ],
      "source": [
        "train.head()"
      ]
    },
    {
      "cell_type": "code",
      "execution_count": null,
      "id": "501e830f",
      "metadata": {
        "id": "501e830f",
        "outputId": "1fb5f086-dc17-4ce9-8035-bd644f895b0b",
        "colab": {
          "base_uri": "https://localhost:8080/"
        }
      },
      "outputs": [
        {
          "output_type": "stream",
          "name": "stdout",
          "text": [
            "                     precision    recall  f1-score   support\n",
            "\n",
            "          favorable       0.55      0.85      0.67        13\n",
            "              other       0.80      0.80      0.80        15\n",
            "partially favorable       0.87      0.62      0.73        32\n",
            "        unfavorable       0.83      0.94      0.88        16\n",
            "\n",
            "           accuracy                           0.76        76\n",
            "          macro avg       0.76      0.80      0.77        76\n",
            "       weighted avg       0.79      0.76      0.76        76\n",
            "\n"
          ]
        }
      ],
      "source": [
        "from sklearn.feature_extraction import DictVectorizer\n",
        "from sklearn.linear_model import LogisticRegression\n",
        "from sklearn.model_selection import train_test_split\n",
        "from sklearn.metrics import classification_report\n",
        "\n",
        "# Feature engineering\n",
        "def featurize(text):\n",
        "  return {x:1 for x in pyth.word_tokenize(text)}\n",
        "\n",
        "vectorizer = DictVectorizer(sparse=True)\n",
        "train_features = train['text'].apply(featurize)\n",
        "feature_vectors = vectorizer.fit_transform(train_features)\n",
        "\n",
        "# Train model\n",
        "lr_text_classifier = LogisticRegression(solver='lbfgs', max_iter=1000)\n",
        "lr_text_classifier.fit(feature_vectors, train['label'])\n",
        "\n",
        "# Evaluation\n",
        "dev_features = dev['text'].apply(featurize)\n",
        "dev_feature_vectors = vectorizer.transform(dev_features)\n",
        "dev_predictions = lr_text_classifier.predict(dev_feature_vectors)\n",
        "print (classification_report(dev_predictions, dev['label']))"
      ]
    },
    {
      "cell_type": "markdown",
      "source": [
        "# ผลลัพธ์ Verdict2Favor"
      ],
      "metadata": {
        "id": "mwyxAx0urI0V"
      },
      "id": "mwyxAx0urI0V"
    },
    {
      "cell_type": "markdown",
      "source": [
        "featurize แบบเดิม ๆ"
      ],
      "metadata": {
        "id": "i5LTic_5rhCY"
      },
      "id": "i5LTic_5rhCY"
    },
    {
      "cell_type": "markdown",
      "source": [
        "![nlpsysproj all2favor lr word featurize.png](data:image/png;base64,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)"
      ],
      "metadata": {
        "id": "J_DpfrEtrdob"
      },
      "id": "J_DpfrEtrdob"
    }
  ],
  "metadata": {
    "kernelspec": {
      "display_name": "Python 3 (ipykernel)",
      "language": "python",
      "name": "python3"
    },
    "language_info": {
      "codemirror_mode": {
        "name": "ipython",
        "version": 3
      },
      "file_extension": ".py",
      "mimetype": "text/x-python",
      "name": "python",
      "nbconvert_exporter": "python",
      "pygments_lexer": "ipython3",
      "version": "3.7.6"
    },
    "colab": {
      "provenance": [],
      "collapsed_sections": [
        "MGIgcG7zrNmR",
        "RjrUdy4fXEoj"
      ],
      "toc_visible": true,
      "include_colab_link": true
    }
  },
  "nbformat": 4,
  "nbformat_minor": 5
}