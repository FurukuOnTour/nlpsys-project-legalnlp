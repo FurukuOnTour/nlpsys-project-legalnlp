{
  "cells": [
    {
      "cell_type": "markdown",
      "metadata": {
        "id": "view-in-github",
        "colab_type": "text"
      },
      "source": [
        "<a href=\"https://colab.research.google.com/github/FurukuOnTour/nlpsys-project-legalnlp/blob/main/Model/CNN_for_NLP_III_Project_All2Favor.ipynb\" target=\"_parent\"><img src=\"https://colab.research.google.com/assets/colab-badge.svg\" alt=\"Open In Colab\"/></a>"
      ]
    },
    {
      "cell_type": "markdown",
      "source": [
        "# import"
      ],
      "metadata": {
        "id": "cYRdivdIkPAQ"
      },
      "id": "cYRdivdIkPAQ"
    },
    {
      "cell_type": "code",
      "execution_count": null,
      "metadata": {
        "id": "47149511-186b-4cd1-b484-a1a1d03f46aa",
        "colab": {
          "base_uri": "https://localhost:8080/"
        },
        "outputId": "e03b6e35-702f-499c-dfd1-6c7d69974bad"
      },
      "outputs": [
        {
          "output_type": "stream",
          "name": "stdout",
          "text": [
            "/usr/local/lib/python3.7/dist-packages/gdown/cli.py:131: FutureWarning: Option `--id` was deprecated in version 4.3.1 and will be removed in 5.0. You don't need to pass it anymore to use a file ID.\n",
            "  category=FutureWarning,\n",
            "Downloading...\n",
            "From: https://drive.google.com/uc?id=14lAF3cOiYkcagFvNnW4o9BKIDXMB0RPg\n",
            "To: /content/TNC_embeddings-50.bin\n",
            "100% 13.6M/13.6M [00:00<00:00, 30.9MB/s]\n",
            "/usr/local/lib/python3.7/dist-packages/gdown/cli.py:131: FutureWarning: Option `--id` was deprecated in version 4.3.1 and will be removed in 5.0. You don't need to pass it anymore to use a file ID.\n",
            "  category=FutureWarning,\n",
            "Downloading...\n",
            "From: https://drive.google.com/uc?id=14bv_aTSP-8rs_Bkudvpp8zcU3UpyRen6\n",
            "To: /content/TNC_embeddings-100.bin\n",
            "100% 25.9M/25.9M [00:01<00:00, 24.9MB/s]\n",
            "/usr/local/lib/python3.7/dist-packages/gdown/cli.py:131: FutureWarning: Option `--id` was deprecated in version 4.3.1 and will be removed in 5.0. You don't need to pass it anymore to use a file ID.\n",
            "  category=FutureWarning,\n",
            "Downloading...\n",
            "From: https://drive.google.com/uc?id=14k1PLN9MVszCK6zUIRcLzWLwEGdR0ABw\n",
            "To: /content/TNC_embeddings-200.bin\n",
            "100% 50.6M/50.6M [00:01<00:00, 35.4MB/s]\n"
          ]
        }
      ],
      "source": [
        "### embedd ไทย\n",
        "# # 50-unit embeddings\n",
        "!gdown --id 14lAF3cOiYkcagFvNnW4o9BKIDXMB0RPg\n",
        "\n",
        "# # 100-unit embeddings\n",
        "!gdown --id 14bv_aTSP-8rs_Bkudvpp8zcU3UpyRen6\n",
        "\n",
        "# # 200-unit embeddings\n",
        "!gdown --id 14k1PLN9MVszCK6zUIRcLzWLwEGdR0ABw"
      ],
      "id": "47149511-186b-4cd1-b484-a1a1d03f46aa"
    },
    {
      "cell_type": "code",
      "source": [
        "!pip install pythainlp\n",
        "import pythainlp as pyth\n",
        "import pandas as pd\n",
        "import re"
      ],
      "metadata": {
        "id": "h9kqpQIUyOlw",
        "colab": {
          "base_uri": "https://localhost:8080/"
        },
        "outputId": "2d83ba7e-0f31-4e24-e6c7-20d117429c0f"
      },
      "id": "h9kqpQIUyOlw",
      "execution_count": null,
      "outputs": [
        {
          "output_type": "stream",
          "name": "stdout",
          "text": [
            "Looking in indexes: https://pypi.org/simple, https://us-python.pkg.dev/colab-wheels/public/simple/\n",
            "Collecting pythainlp\n",
            "  Downloading pythainlp-3.1.1-py3-none-any.whl (9.6 MB)\n",
            "\u001b[K     |████████████████████████████████| 9.6 MB 5.2 MB/s \n",
            "\u001b[?25hRequirement already satisfied: requests>=2.22.0 in /usr/local/lib/python3.7/dist-packages (from pythainlp) (2.23.0)\n",
            "Requirement already satisfied: certifi>=2017.4.17 in /usr/local/lib/python3.7/dist-packages (from requests>=2.22.0->pythainlp) (2022.9.24)\n",
            "Requirement already satisfied: urllib3!=1.25.0,!=1.25.1,<1.26,>=1.21.1 in /usr/local/lib/python3.7/dist-packages (from requests>=2.22.0->pythainlp) (1.24.3)\n",
            "Requirement already satisfied: chardet<4,>=3.0.2 in /usr/local/lib/python3.7/dist-packages (from requests>=2.22.0->pythainlp) (3.0.4)\n",
            "Requirement already satisfied: idna<3,>=2.5 in /usr/local/lib/python3.7/dist-packages (from requests>=2.22.0->pythainlp) (2.10)\n",
            "Installing collected packages: pythainlp\n",
            "Successfully installed pythainlp-3.1.1\n"
          ]
        }
      ]
    },
    {
      "cell_type": "code",
      "source": [
        "!gdown https://drive.google.com/uc?id=1bfPtPoRoIZ_3nZLozDqD8SukmA9B8tRr\n",
        "!gdown https://drive.google.com/uc?id=19Q78VuatujnL08ndnwj6VWHZlio6J4Au"
      ],
      "metadata": {
        "colab": {
          "base_uri": "https://localhost:8080/"
        },
        "id": "u4qDR6WIqTdv",
        "outputId": "51f4f5bd-bd33-4623-90b8-e2c10290866b"
      },
      "execution_count": null,
      "outputs": [
        {
          "output_type": "stream",
          "name": "stdout",
          "text": [
            "Downloading...\n",
            "From: https://drive.google.com/uc?id=1bfPtPoRoIZ_3nZLozDqD8SukmA9B8tRr\n",
            "To: /content/all2favor-train.csv\n",
            "100% 3.95M/3.95M [00:00<00:00, 166MB/s]\n",
            "Downloading...\n",
            "From: https://drive.google.com/uc?id=19Q78VuatujnL08ndnwj6VWHZlio6J4Au\n",
            "To: /content/all2favor-dev.csv\n",
            "100% 913k/913k [00:00<00:00, 140MB/s]\n"
          ]
        }
      ],
      "id": "u4qDR6WIqTdv"
    },
    {
      "cell_type": "code",
      "source": [
        "train = pd.read_csv('/content/all2favor-train.csv')\n",
        "dev = pd.read_csv('/content/all2favor-dev.csv')"
      ],
      "metadata": {
        "id": "tOXSfphiN6gZ"
      },
      "execution_count": null,
      "outputs": [],
      "id": "tOXSfphiN6gZ"
    },
    {
      "cell_type": "code",
      "execution_count": null,
      "metadata": {
        "colab": {
          "base_uri": "https://localhost:8080/"
        },
        "id": "d5e1fd1c-f9a0-4b2c-8015-17c473dbc783",
        "outputId": "14ce7215-a803-442c-d9e7-4b10eb7832bc"
      },
      "outputs": [
        {
          "output_type": "stream",
          "name": "stdout",
          "text": [
            "Colab only includes TensorFlow 2.x; %tensorflow_version has no effect.\n"
          ]
        }
      ],
      "source": [
        "%tensorflow_version 2.x\n",
        "\n",
        "import numpy as np\n",
        "import pandas as pd\n",
        "from numpy.linalg import norm\n",
        "from sklearn.metrics import classification_report, confusion_matrix\n",
        "from IPython.display import Image, display_png\n",
        "from gensim.models import word2vec, KeyedVectors\n",
        "from tensorflow.keras.models import Sequential\n",
        "from tensorflow.keras.layers import (\n",
        "    Input, Embedding, Dense, Dropout, Flatten, GlobalAveragePooling1D, Conv1D, GlobalMaxPooling1D\n",
        "    )\n",
        "from tensorflow.keras.utils import to_categorical, plot_model\n",
        "from tensorflow.keras.preprocessing.sequence import pad_sequences\n",
        "from tensorflow.keras.optimizers import RMSprop\n",
        "import matplotlib.pyplot as plt\n",
        "plt.style.use('ggplot')"
      ],
      "id": "d5e1fd1c-f9a0-4b2c-8015-17c473dbc783"
    },
    {
      "cell_type": "markdown",
      "metadata": {
        "id": "rg0R3ZLhjYYM"
      },
      "source": [
        "# Load the word embeddings and the data"
      ],
      "id": "rg0R3ZLhjYYM"
    },
    {
      "cell_type": "code",
      "execution_count": null,
      "metadata": {
        "id": "29b8a874-b9ae-40b3-be7a-5966be797dc1",
        "colab": {
          "base_uri": "https://localhost:8080/"
        },
        "outputId": "0661289e-8d02-4b2b-b572-b0d7885ef6da"
      },
      "outputs": [
        {
          "output_type": "stream",
          "name": "stderr",
          "text": [
            "WARNING:gensim.models.utils_any2vec:duplicate word 'พระบาทสมเด็จพระพุทธยอดฟ้าจุฬาโลก' in /content/TNC_embeddings-100.bin, ignoring all but first\n"
          ]
        }
      ],
      "source": [
        "w2v_model = KeyedVectors.load_word2vec_format('/content/TNC_embeddings-100.bin', binary=True,limit=500000, unicode_errors='ignore')\n",
        "vocab_size = len(w2v_model.vocab)\n",
        "vector_dim = w2v_model.vector_size\n",
        "# make weight matrix of word embedding, vocab size + 1 (for padding)\n",
        "embedding_matrix = np.zeros((vocab_size+1, vector_dim), dtype=\"float32\")\n",
        "embedding_matrix[0] = np.zeros(vector_dim)\n",
        "\n",
        "word_to_index = {word:i+1 for i, word in enumerate(w2v_model.vocab)}\n",
        "# word to index dictionary, 0 for padding, UNKNOWN\n",
        "word_to_index['PADDING'] = 0 \n",
        "\n",
        "for i, word in enumerate(w2v_model.vocab):\n",
        "    embedding_matrix[i+1] = w2v_model[word] \n",
        "\n",
        "def convert_words(df, word_to_index, max_length):\n",
        "    tokens = df['text'].apply(lambda x: pyth.word_tokenize(x)) #ทำการ splitt text\n",
        "    list_of_list_of_indices = list(tokens.map(lambda x: [word_to_index.get(word, 0) for word in x]))\n",
        "    return pad_sequences(list_of_list_of_indices, max_length, padding='post', value=0, truncating='post')"
      ],
      "id": "29b8a874-b9ae-40b3-be7a-5966be797dc1"
    },
    {
      "cell_type": "code",
      "execution_count": null,
      "metadata": {
        "id": "aXCMPYsNyaMw"
      },
      "outputs": [],
      "source": [
        "# max length (กำหนดเอง)\n",
        "max_len = 600\n",
        "train_x = convert_words(train, word_to_index, max_len)\n",
        "dev_x = convert_words(dev, word_to_index, max_len)\n",
        "num_classes = 4\n",
        "\n",
        "def get_label(df):\n",
        "    star_to_label = {'favorable':0, 'other':1, 'partially favorable':2, 'unfavorable':3}\n",
        "    # apply functions & convert to np.array\n",
        "    label = np.array(df['label'].replace(star_to_label).tolist())\n",
        "    df['label'] = label\n",
        "    return to_categorical(label, num_classes=num_classes)\n",
        "\n",
        "# label : one-hot vector\n",
        "train_y = get_label(train)\n",
        "dev_y = get_label(dev)"
      ],
      "id": "aXCMPYsNyaMw"
    },
    {
      "cell_type": "markdown",
      "metadata": {
        "id": "JGEVOxT4jUCk"
      },
      "source": [
        "# Train the models"
      ],
      "id": "JGEVOxT4jUCk"
    },
    {
      "cell_type": "code",
      "execution_count": null,
      "metadata": {
        "id": "fd77a06a-3bba-4356-8067-cb874191cdc1"
      },
      "outputs": [],
      "source": [
        "def make_cnn_model(print_model=True):\n",
        "    filters = 150 #number of filters in your Convnet\n",
        "    kernel_size = 45 # a window size of tokens\n",
        "    hidden_dims = 150 #number of neurons at the normal feedforward NN\n",
        "\n",
        "    cnn_model = Sequential()\n",
        "    cnn_model.add(Embedding(input_dim=vocab_size+1,\n",
        "                        input_length=max_len,\n",
        "                        output_dim=vector_dim, \n",
        "                        weights=[embedding_matrix], \n",
        "                        #mask_zero=True,\n",
        "                        trainable=True))\n",
        "\n",
        "    cnn_model.add(Conv1D(filters,\n",
        "                        kernel_size,\n",
        "                        input_shape=(max_len ,vector_dim),\n",
        "                        #padding='valid',\n",
        "                        activation='relu',\n",
        "                        strides=1,))\n",
        "    cnn_model.add(GlobalMaxPooling1D())\n",
        "    #GlobalMaxPooling1D(n) default = 2.\n",
        "    cnn_model.add(Dense(hidden_dims, activation='relu'))\n",
        "    cnn_model.add(Dropout(0.4))\n",
        "    cnn_model.add(Dense(4, activation='softmax'))\n",
        "    # compile model\n",
        "    cnn_model.compile(optimizer=\"adam\", loss=\"categorical_crossentropy\", metrics=[\"accuracy\"])\n",
        "    if print_model:\n",
        "        cnn_model.summary()\n",
        "        plot_model(cnn_model, show_shapes=True,to_file='model.png')\n",
        "        # display_png(Image('model.png'))\n",
        "    return cnn_model"
      ],
      "id": "fd77a06a-3bba-4356-8067-cb874191cdc1"
    },
    {
      "cell_type": "code",
      "execution_count": null,
      "metadata": {
        "colab": {
          "base_uri": "https://localhost:8080/"
        },
        "id": "EMSh89OtZj9P",
        "outputId": "4f7def57-8a5a-4233-b373-f5254f6ff6df"
      },
      "outputs": [
        {
          "output_type": "stream",
          "name": "stdout",
          "text": [
            "Model: \"sequential_1\"\n",
            "_________________________________________________________________\n",
            " Layer (type)                Output Shape              Param #   \n",
            "=================================================================\n",
            " embedding_1 (Embedding)     (None, 600, 100)          6165900   \n",
            "                                                                 \n",
            " conv1d_1 (Conv1D)           (None, 556, 150)          675150    \n",
            "                                                                 \n",
            " global_max_pooling1d_1 (Glo  (None, 150)              0         \n",
            " balMaxPooling1D)                                                \n",
            "                                                                 \n",
            " dense_2 (Dense)             (None, 150)               22650     \n",
            "                                                                 \n",
            " dropout_1 (Dropout)         (None, 150)               0         \n",
            "                                                                 \n",
            " dense_3 (Dense)             (None, 4)                 604       \n",
            "                                                                 \n",
            "=================================================================\n",
            "Total params: 6,864,304\n",
            "Trainable params: 6,864,304\n",
            "Non-trainable params: 0\n",
            "_________________________________________________________________\n"
          ]
        }
      ],
      "source": [
        "cnn_model = make_cnn_model()"
      ],
      "id": "EMSh89OtZj9P"
    },
    {
      "cell_type": "code",
      "execution_count": null,
      "metadata": {
        "colab": {
          "base_uri": "https://localhost:8080/"
        },
        "id": "c83f276a-ff0c-48cb-9cbb-b00dadf2eef5",
        "outputId": "e6e9c15e-b86f-4476-d650-bfb6b9c827a6"
      },
      "outputs": [
        {
          "output_type": "stream",
          "name": "stdout",
          "text": [
            "Epoch 1/12\n",
            "4/4 [==============================] - 1s 113ms/step - loss: 4.4179 - accuracy: 0.2829 - val_loss: 1.8286 - val_accuracy: 0.4474\n",
            "Epoch 2/12\n",
            "4/4 [==============================] - 0s 41ms/step - loss: 1.7285 - accuracy: 0.5395 - val_loss: 1.4803 - val_accuracy: 0.5526\n",
            "Epoch 3/12\n",
            "4/4 [==============================] - 0s 39ms/step - loss: 0.8360 - accuracy: 0.7072 - val_loss: 1.2847 - val_accuracy: 0.5395\n",
            "Epoch 4/12\n",
            "4/4 [==============================] - 0s 40ms/step - loss: 0.4279 - accuracy: 0.8553 - val_loss: 1.3216 - val_accuracy: 0.5658\n",
            "Epoch 5/12\n",
            "4/4 [==============================] - 0s 41ms/step - loss: 0.3907 - accuracy: 0.8750 - val_loss: 1.4871 - val_accuracy: 0.5658\n",
            "Epoch 6/12\n",
            "4/4 [==============================] - 0s 40ms/step - loss: 0.2513 - accuracy: 0.9079 - val_loss: 1.3069 - val_accuracy: 0.6447\n",
            "Epoch 7/12\n",
            "4/4 [==============================] - 0s 39ms/step - loss: 0.1639 - accuracy: 0.9474 - val_loss: 1.2510 - val_accuracy: 0.6447\n",
            "Epoch 8/12\n",
            "4/4 [==============================] - 0s 39ms/step - loss: 0.1420 - accuracy: 0.9539 - val_loss: 1.1629 - val_accuracy: 0.6711\n",
            "Epoch 9/12\n",
            "4/4 [==============================] - 0s 39ms/step - loss: 0.1747 - accuracy: 0.9605 - val_loss: 1.1759 - val_accuracy: 0.6579\n",
            "Epoch 10/12\n",
            "4/4 [==============================] - 0s 40ms/step - loss: 0.1515 - accuracy: 0.9638 - val_loss: 1.1737 - val_accuracy: 0.6579\n",
            "Epoch 11/12\n",
            "4/4 [==============================] - 0s 39ms/step - loss: 0.1660 - accuracy: 0.9539 - val_loss: 1.2193 - val_accuracy: 0.6579\n",
            "Epoch 12/12\n",
            "4/4 [==============================] - 0s 40ms/step - loss: 0.0963 - accuracy: 0.9704 - val_loss: 1.3941 - val_accuracy: 0.6447\n"
          ]
        }
      ],
      "source": [
        "# train\n",
        "cnn_history = cnn_model.fit(train_x, train_y, batch_size=96, epochs=12, validation_data=(dev_x, dev_y))"
      ],
      "id": "c83f276a-ff0c-48cb-9cbb-b00dadf2eef5"
    },
    {
      "cell_type": "code",
      "execution_count": null,
      "metadata": {
        "colab": {
          "base_uri": "https://localhost:8080/"
        },
        "id": "hQ3jJ21cUhK8",
        "outputId": "c9f42c7d-2c33-493a-e8e0-e7e3382eb01a"
      },
      "outputs": [
        {
          "output_type": "stream",
          "name": "stdout",
          "text": [
            "3/3 [==============================] - 0s 4ms/step\n",
            "              precision    recall  f1-score   support\n",
            "\n",
            "           0       0.69      0.45      0.55        20\n",
            "           1       0.78      0.47      0.58        15\n",
            "           2       0.50      0.91      0.65        23\n",
            "           3       1.00      0.67      0.80        18\n",
            "\n",
            "    accuracy                           0.64        76\n",
            "   macro avg       0.74      0.62      0.64        76\n",
            "weighted avg       0.72      0.64      0.64        76\n",
            "\n"
          ]
        }
      ],
      "source": [
        "prediction = [np.argmax(x) for x in cnn_model.predict(dev_x)]\n",
        "print(classification_report(dev['label'], prediction))"
      ],
      "id": "hQ3jJ21cUhK8"
    },
    {
      "cell_type": "markdown",
      "metadata": {
        "id": "TvBRzG6Yv99B"
      },
      "source": [],
      "id": "TvBRzG6Yv99B"
    },
    {
      "cell_type": "code",
      "execution_count": null,
      "metadata": {
        "colab": {
          "base_uri": "https://localhost:8080/",
          "height": 285
        },
        "id": "d188bc80-3284-44a1-adf0-f69032d2f93d",
        "outputId": "64e02b3c-5c6c-4b32-fbba-544197681c17"
      },
      "outputs": [
        {
          "output_type": "display_data",
          "data": {
            "text/plain": [
              "<Figure size 432x288 with 1 Axes>"
            ],
            "image/png": "[encoded data removed]"
          },
          "metadata": {}
        }
      ],
      "source": [
        "plt.plot(cnn_history.history['accuracy'])\n",
        "plt.plot(cnn_history.history['val_accuracy'])\n",
        "plt.ylabel('accuracy')\n",
        "plt.xlabel('epoch')\n",
        "plt.legend(['train', 'dev'], loc='best')\n",
        "plt.show()"
      ],
      "id": "d188bc80-3284-44a1-adf0-f69032d2f93d"
    },
    {
      "cell_type": "code",
      "execution_count": null,
      "metadata": {
        "colab": {
          "base_uri": "https://localhost:8080/",
          "height": 282
        },
        "id": "56416512-bd77-4d2b-82b6-c45b79cfe97e",
        "outputId": "f8d556ac-b8b1-4810-9b06-9c09da9ac7ec"
      },
      "outputs": [
        {
          "output_type": "display_data",
          "data": {
            "text/plain": [
              "<Figure size 432x288 with 1 Axes>"
            ],
            "image/png": "[encoded data removed]"
          },
          "metadata": {}
        }
      ],
      "source": [
        "plt.plot(cnn_history.history['loss'])\n",
        "plt.plot(cnn_history.history['val_loss'])\n",
        "plt.ylabel('loss')\n",
        "plt.xlabel('epoch')\n",
        "plt.legend(['train', 'dev'], loc='best')\n",
        "plt.show()"
      ],
      "id": "56416512-bd77-4d2b-82b6-c45b79cfe97e"
    },
    {
      "cell_type": "code",
      "execution_count": null,
      "metadata": {
        "colab": {
          "base_uri": "https://localhost:8080/"
        },
        "id": "bOx5xT6eXs0j",
        "outputId": "99a28cfe-376a-46c5-c99d-ed55c41b3d32"
      },
      "outputs": [
        {
          "output_type": "stream",
          "name": "stdout",
          "text": [
            "3/3 [==============================] - 0s 6ms/step - loss: 1.3941 - accuracy: 0.6447\n"
          ]
        },
        {
          "output_type": "execute_result",
          "data": {
            "text/plain": [
              "0.6447368264198303"
            ]
          },
          "metadata": {},
          "execution_count": 27
        }
      ],
      "source": [
        "cnn_model.evaluate(dev_x, dev_y)[1]"
      ],
      "id": "bOx5xT6eXs0j"
    },
    {
      "cell_type": "markdown",
      "source": [
        "# Results\n",
        "- TNC_embeddings-100.bin\n",
        "- max len = 600\n",
        "- filters = 150\n",
        "- kernel_size = 45\n",
        "- hidden_dims = 150\n",
        "- trainable=True\n",
        "- GlobalMaxPooling1D(n) default = 2\n",
        "- strides=1\n",
        "\n",
        "![nlpsysproj all2favor cnn.png](data:image/png;base64,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)"
      ],
      "metadata": {
        "id": "E_KTKP5hrE-W"
      },
      "id": "E_KTKP5hrE-W"
    }
  ],
  "metadata": {
    "accelerator": "GPU",
    "colab": {
      "provenance": [],
      "toc_visible": true,
      "include_colab_link": true
    },
    "kernelspec": {
      "display_name": "Python 3.7.6 64-bit ('base')",
      "language": "python",
      "name": "python37664bitbase8b8d68f032284cc1a31661d8852815cb"
    },
    "language_info": {
      "codemirror_mode": {
        "name": "ipython",
        "version": 3
      },
      "file_extension": ".py",
      "mimetype": "text/x-python",
      "name": "python",
      "nbconvert_exporter": "python",
      "pygments_lexer": "ipython3",
      "version": "3.7.6"
    },
    "gpuClass": "standard"
  },
  "nbformat": 4,
  "nbformat_minor": 5
}