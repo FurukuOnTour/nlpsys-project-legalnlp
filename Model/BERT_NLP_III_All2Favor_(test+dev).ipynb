{
  "nbformat": 4,
  "nbformat_minor": 0,
  "metadata": {
    "colab": {
      "provenance": [],
      "collapsed_sections": [
        "htqyxbC2GnJJ",
        "BmgiR3fwGrdE",
        "GG-qhc_dGweV"
      ],
      "include_colab_link": true
    },
    "kernelspec": {
      "name": "python3",
      "display_name": "Python 3"
    },
    "language_info": {
      "name": "python"
    },
    "accelerator": "GPU",
    "gpuClass": "standard",
    "widgets": {
      "application/vnd.jupyter.widget-state+json": {
        "18c1ac82599a43e78d01323e21685bf8": {
          "model_module": "@jupyter-widgets/controls",
          "model_name": "HBoxModel",
          "model_module_version": "1.5.0",
          "state": {
            "_dom_classes": [],
            "_model_module": "@jupyter-widgets/controls",
            "_model_module_version": "1.5.0",
            "_model_name": "HBoxModel",
            "_view_count": null,
            "_view_module": "@jupyter-widgets/controls",
            "_view_module_version": "1.5.0",
            "_view_name": "HBoxView",
            "box_style": "",
            "children": [
              "IPY_MODEL_9c6c55208c9e4ab1be5db0a6d23921f5",
              "IPY_MODEL_ca2db20820994f1586f03da789472c55",
              "IPY_MODEL_f10964c6e3be48239f878a78477148c4"
            ],
            "layout": "IPY_MODEL_265c4b5949234090a127ca7b2aea763f"
          }
        },
        "9c6c55208c9e4ab1be5db0a6d23921f5": {
          "model_module": "@jupyter-widgets/controls",
          "model_name": "HTMLModel",
          "model_module_version": "1.5.0",
          "state": {
            "_dom_classes": [],
            "_model_module": "@jupyter-widgets/controls",
            "_model_module_version": "1.5.0",
            "_model_name": "HTMLModel",
            "_view_count": null,
            "_view_module": "@jupyter-widgets/controls",
            "_view_module_version": "1.5.0",
            "_view_name": "HTMLView",
            "description": "",
            "description_tooltip": null,
            "layout": "IPY_MODEL_ddadb62c46fb430089c39ab01e1cca41",
            "placeholder": "​",
            "style": "IPY_MODEL_824f745fca14447693a8503aaf3cd3ba",
            "value": "100%"
          }
        },
        "ca2db20820994f1586f03da789472c55": {
          "model_module": "@jupyter-widgets/controls",
          "model_name": "FloatProgressModel",
          "model_module_version": "1.5.0",
          "state": {
            "_dom_classes": [],
            "_model_module": "@jupyter-widgets/controls",
            "_model_module_version": "1.5.0",
            "_model_name": "FloatProgressModel",
            "_view_count": null,
            "_view_module": "@jupyter-widgets/controls",
            "_view_module_version": "1.5.0",
            "_view_name": "ProgressView",
            "bar_style": "success",
            "description": "",
            "description_tooltip": null,
            "layout": "IPY_MODEL_61e46e1b687544ebbdf13ba3e0e82225",
            "max": 1,
            "min": 0,
            "orientation": "horizontal",
            "style": "IPY_MODEL_1365a0f107324380b8d21e0fc5f0ca4d",
            "value": 1
          }
        },
        "f10964c6e3be48239f878a78477148c4": {
          "model_module": "@jupyter-widgets/controls",
          "model_name": "HTMLModel",
          "model_module_version": "1.5.0",
          "state": {
            "_dom_classes": [],
            "_model_module": "@jupyter-widgets/controls",
            "_model_module_version": "1.5.0",
            "_model_name": "HTMLModel",
            "_view_count": null,
            "_view_module": "@jupyter-widgets/controls",
            "_view_module_version": "1.5.0",
            "_view_name": "HTMLView",
            "description": "",
            "description_tooltip": null,
            "layout": "IPY_MODEL_f5ce3f0d9568438784145b164539ca9c",
            "placeholder": "​",
            "style": "IPY_MODEL_f0484cc8156344c6bbe94dde36f2c942",
            "value": " 1/1 [00:01&lt;00:00,  1.83s/ba]"
          }
        },
        "265c4b5949234090a127ca7b2aea763f": {
          "model_module": "@jupyter-widgets/base",
          "model_name": "LayoutModel",
          "model_module_version": "1.2.0",
          "state": {
            "_model_module": "@jupyter-widgets/base",
            "_model_module_version": "1.2.0",
            "_model_name": "LayoutModel",
            "_view_count": null,
            "_view_module": "@jupyter-widgets/base",
            "_view_module_version": "1.2.0",
            "_view_name": "LayoutView",
            "align_content": null,
            "align_items": null,
            "align_self": null,
            "border": null,
            "bottom": null,
            "display": null,
            "flex": null,
            "flex_flow": null,
            "grid_area": null,
            "grid_auto_columns": null,
            "grid_auto_flow": null,
            "grid_auto_rows": null,
            "grid_column": null,
            "grid_gap": null,
            "grid_row": null,
            "grid_template_areas": null,
            "grid_template_columns": null,
            "grid_template_rows": null,
            "height": null,
            "justify_content": null,
            "justify_items": null,
            "left": null,
            "margin": null,
            "max_height": null,
            "max_width": null,
            "min_height": null,
            "min_width": null,
            "object_fit": null,
            "object_position": null,
            "order": null,
            "overflow": null,
            "overflow_x": null,
            "overflow_y": null,
            "padding": null,
            "right": null,
            "top": null,
            "visibility": null,
            "width": null
          }
        },
        "ddadb62c46fb430089c39ab01e1cca41": {
          "model_module": "@jupyter-widgets/base",
          "model_name": "LayoutModel",
          "model_module_version": "1.2.0",
          "state": {
            "_model_module": "@jupyter-widgets/base",
            "_model_module_version": "1.2.0",
            "_model_name": "LayoutModel",
            "_view_count": null,
            "_view_module": "@jupyter-widgets/base",
            "_view_module_version": "1.2.0",
            "_view_name": "LayoutView",
            "align_content": null,
            "align_items": null,
            "align_self": null,
            "border": null,
            "bottom": null,
            "display": null,
            "flex": null,
            "flex_flow": null,
            "grid_area": null,
            "grid_auto_columns": null,
            "grid_auto_flow": null,
            "grid_auto_rows": null,
            "grid_column": null,
            "grid_gap": null,
            "grid_row": null,
            "grid_template_areas": null,
            "grid_template_columns": null,
            "grid_template_rows": null,
            "height": null,
            "justify_content": null,
            "justify_items": null,
            "left": null,
            "margin": null,
            "max_height": null,
            "max_width": null,
            "min_height": null,
            "min_width": null,
            "object_fit": null,
            "object_position": null,
            "order": null,
            "overflow": null,
            "overflow_x": null,
            "overflow_y": null,
            "padding": null,
            "right": null,
            "top": null,
            "visibility": null,
            "width": null
          }
        },
        "824f745fca14447693a8503aaf3cd3ba": {
          "model_module": "@jupyter-widgets/controls",
          "model_name": "DescriptionStyleModel",
          "model_module_version": "1.5.0",
          "state": {
            "_model_module": "@jupyter-widgets/controls",
            "_model_module_version": "1.5.0",
            "_model_name": "DescriptionStyleModel",
            "_view_count": null,
            "_view_module": "@jupyter-widgets/base",
            "_view_module_version": "1.2.0",
            "_view_name": "StyleView",
            "description_width": ""
          }
        },
        "61e46e1b687544ebbdf13ba3e0e82225": {
          "model_module": "@jupyter-widgets/base",
          "model_name": "LayoutModel",
          "model_module_version": "1.2.0",
          "state": {
            "_model_module": "@jupyter-widgets/base",
            "_model_module_version": "1.2.0",
            "_model_name": "LayoutModel",
            "_view_count": null,
            "_view_module": "@jupyter-widgets/base",
            "_view_module_version": "1.2.0",
            "_view_name": "LayoutView",
            "align_content": null,
            "align_items": null,
            "align_self": null,
            "border": null,
            "bottom": null,
            "display": null,
            "flex": null,
            "flex_flow": null,
            "grid_area": null,
            "grid_auto_columns": null,
            "grid_auto_flow": null,
            "grid_auto_rows": null,
            "grid_column": null,
            "grid_gap": null,
            "grid_row": null,
            "grid_template_areas": null,
            "grid_template_columns": null,
            "grid_template_rows": null,
            "height": null,
            "justify_content": null,
            "justify_items": null,
            "left": null,
            "margin": null,
            "max_height": null,
            "max_width": null,
            "min_height": null,
            "min_width": null,
            "object_fit": null,
            "object_position": null,
            "order": null,
            "overflow": null,
            "overflow_x": null,
            "overflow_y": null,
            "padding": null,
            "right": null,
            "top": null,
            "visibility": null,
            "width": null
          }
        },
        "1365a0f107324380b8d21e0fc5f0ca4d": {
          "model_module": "@jupyter-widgets/controls",
          "model_name": "ProgressStyleModel",
          "model_module_version": "1.5.0",
          "state": {
            "_model_module": "@jupyter-widgets/controls",
            "_model_module_version": "1.5.0",
            "_model_name": "ProgressStyleModel",
            "_view_count": null,
            "_view_module": "@jupyter-widgets/base",
            "_view_module_version": "1.2.0",
            "_view_name": "StyleView",
            "bar_color": null,
            "description_width": ""
          }
        },
        "f5ce3f0d9568438784145b164539ca9c": {
          "model_module": "@jupyter-widgets/base",
          "model_name": "LayoutModel",
          "model_module_version": "1.2.0",
          "state": {
            "_model_module": "@jupyter-widgets/base",
            "_model_module_version": "1.2.0",
            "_model_name": "LayoutModel",
            "_view_count": null,
            "_view_module": "@jupyter-widgets/base",
            "_view_module_version": "1.2.0",
            "_view_name": "LayoutView",
            "align_content": null,
            "align_items": null,
            "align_self": null,
            "border": null,
            "bottom": null,
            "display": null,
            "flex": null,
            "flex_flow": null,
            "grid_area": null,
            "grid_auto_columns": null,
            "grid_auto_flow": null,
            "grid_auto_rows": null,
            "grid_column": null,
            "grid_gap": null,
            "grid_row": null,
            "grid_template_areas": null,
            "grid_template_columns": null,
            "grid_template_rows": null,
            "height": null,
            "justify_content": null,
            "justify_items": null,
            "left": null,
            "margin": null,
            "max_height": null,
            "max_width": null,
            "min_height": null,
            "min_width": null,
            "object_fit": null,
            "object_position": null,
            "order": null,
            "overflow": null,
            "overflow_x": null,
            "overflow_y": null,
            "padding": null,
            "right": null,
            "top": null,
            "visibility": null,
            "width": null
          }
        },
        "f0484cc8156344c6bbe94dde36f2c942": {
          "model_module": "@jupyter-widgets/controls",
          "model_name": "DescriptionStyleModel",
          "model_module_version": "1.5.0",
          "state": {
            "_model_module": "@jupyter-widgets/controls",
            "_model_module_version": "1.5.0",
            "_model_name": "DescriptionStyleModel",
            "_view_count": null,
            "_view_module": "@jupyter-widgets/base",
            "_view_module_version": "1.2.0",
            "_view_name": "StyleView",
            "description_width": ""
          }
        },
        "9ca6c9277bfa46ae9f9e6cfd7bf64911": {
          "model_module": "@jupyter-widgets/controls",
          "model_name": "HBoxModel",
          "model_module_version": "1.5.0",
          "state": {
            "_dom_classes": [],
            "_model_module": "@jupyter-widgets/controls",
            "_model_module_version": "1.5.0",
            "_model_name": "HBoxModel",
            "_view_count": null,
            "_view_module": "@jupyter-widgets/controls",
            "_view_module_version": "1.5.0",
            "_view_name": "HBoxView",
            "box_style": "",
            "children": [
              "IPY_MODEL_51b17345b48f4dc9a3bd74662d37ae2c",
              "IPY_MODEL_82556ae991ee42549e8018a096da5579",
              "IPY_MODEL_1fb100b8d57d420db3c9ed4d94774b38"
            ],
            "layout": "IPY_MODEL_104e770f9095429f88d325cd6266c3cc"
          }
        },
        "51b17345b48f4dc9a3bd74662d37ae2c": {
          "model_module": "@jupyter-widgets/controls",
          "model_name": "HTMLModel",
          "model_module_version": "1.5.0",
          "state": {
            "_dom_classes": [],
            "_model_module": "@jupyter-widgets/controls",
            "_model_module_version": "1.5.0",
            "_model_name": "HTMLModel",
            "_view_count": null,
            "_view_module": "@jupyter-widgets/controls",
            "_view_module_version": "1.5.0",
            "_view_name": "HTMLView",
            "description": "",
            "description_tooltip": null,
            "layout": "IPY_MODEL_faec037a2ce640c299e779bbbd793c73",
            "placeholder": "​",
            "style": "IPY_MODEL_6302746a80fe4eb3823584a906cc0568",
            "value": "100%"
          }
        },
        "82556ae991ee42549e8018a096da5579": {
          "model_module": "@jupyter-widgets/controls",
          "model_name": "FloatProgressModel",
          "model_module_version": "1.5.0",
          "state": {
            "_dom_classes": [],
            "_model_module": "@jupyter-widgets/controls",
            "_model_module_version": "1.5.0",
            "_model_name": "FloatProgressModel",
            "_view_count": null,
            "_view_module": "@jupyter-widgets/controls",
            "_view_module_version": "1.5.0",
            "_view_name": "ProgressView",
            "bar_style": "success",
            "description": "",
            "description_tooltip": null,
            "layout": "IPY_MODEL_ceb9e4cbd2ff409b8ede1573a17fc709",
            "max": 1,
            "min": 0,
            "orientation": "horizontal",
            "style": "IPY_MODEL_cd1c7abb40c14a44815d4d0cca19e4ae",
            "value": 1
          }
        },
        "1fb100b8d57d420db3c9ed4d94774b38": {
          "model_module": "@jupyter-widgets/controls",
          "model_name": "HTMLModel",
          "model_module_version": "1.5.0",
          "state": {
            "_dom_classes": [],
            "_model_module": "@jupyter-widgets/controls",
            "_model_module_version": "1.5.0",
            "_model_name": "HTMLModel",
            "_view_count": null,
            "_view_module": "@jupyter-widgets/controls",
            "_view_module_version": "1.5.0",
            "_view_name": "HTMLView",
            "description": "",
            "description_tooltip": null,
            "layout": "IPY_MODEL_63ad92eb910b4ff781017ccf5409e703",
            "placeholder": "​",
            "style": "IPY_MODEL_c0404774c43149019dc85e262fa5a761",
            "value": " 1/1 [00:00&lt;00:00,  2.85ba/s]"
          }
        },
        "104e770f9095429f88d325cd6266c3cc": {
          "model_module": "@jupyter-widgets/base",
          "model_name": "LayoutModel",
          "model_module_version": "1.2.0",
          "state": {
            "_model_module": "@jupyter-widgets/base",
            "_model_module_version": "1.2.0",
            "_model_name": "LayoutModel",
            "_view_count": null,
            "_view_module": "@jupyter-widgets/base",
            "_view_module_version": "1.2.0",
            "_view_name": "LayoutView",
            "align_content": null,
            "align_items": null,
            "align_self": null,
            "border": null,
            "bottom": null,
            "display": null,
            "flex": null,
            "flex_flow": null,
            "grid_area": null,
            "grid_auto_columns": null,
            "grid_auto_flow": null,
            "grid_auto_rows": null,
            "grid_column": null,
            "grid_gap": null,
            "grid_row": null,
            "grid_template_areas": null,
            "grid_template_columns": null,
            "grid_template_rows": null,
            "height": null,
            "justify_content": null,
            "justify_items": null,
            "left": null,
            "margin": null,
            "max_height": null,
            "max_width": null,
            "min_height": null,
            "min_width": null,
            "object_fit": null,
            "object_position": null,
            "order": null,
            "overflow": null,
            "overflow_x": null,
            "overflow_y": null,
            "padding": null,
            "right": null,
            "top": null,
            "visibility": null,
            "width": null
          }
        },
        "faec037a2ce640c299e779bbbd793c73": {
          "model_module": "@jupyter-widgets/base",
          "model_name": "LayoutModel",
          "model_module_version": "1.2.0",
          "state": {
            "_model_module": "@jupyter-widgets/base",
            "_model_module_version": "1.2.0",
            "_model_name": "LayoutModel",
            "_view_count": null,
            "_view_module": "@jupyter-widgets/base",
            "_view_module_version": "1.2.0",
            "_view_name": "LayoutView",
            "align_content": null,
            "align_items": null,
            "align_self": null,
            "border": null,
            "bottom": null,
            "display": null,
            "flex": null,
            "flex_flow": null,
            "grid_area": null,
            "grid_auto_columns": null,
            "grid_auto_flow": null,
            "grid_auto_rows": null,
            "grid_column": null,
            "grid_gap": null,
            "grid_row": null,
            "grid_template_areas": null,
            "grid_template_columns": null,
            "grid_template_rows": null,
            "height": null,
            "justify_content": null,
            "justify_items": null,
            "left": null,
            "margin": null,
            "max_height": null,
            "max_width": null,
            "min_height": null,
            "min_width": null,
            "object_fit": null,
            "object_position": null,
            "order": null,
            "overflow": null,
            "overflow_x": null,
            "overflow_y": null,
            "padding": null,
            "right": null,
            "top": null,
            "visibility": null,
            "width": null
          }
        },
        "6302746a80fe4eb3823584a906cc0568": {
          "model_module": "@jupyter-widgets/controls",
          "model_name": "DescriptionStyleModel",
          "model_module_version": "1.5.0",
          "state": {
            "_model_module": "@jupyter-widgets/controls",
            "_model_module_version": "1.5.0",
            "_model_name": "DescriptionStyleModel",
            "_view_count": null,
            "_view_module": "@jupyter-widgets/base",
            "_view_module_version": "1.2.0",
            "_view_name": "StyleView",
            "description_width": ""
          }
        },
        "ceb9e4cbd2ff409b8ede1573a17fc709": {
          "model_module": "@jupyter-widgets/base",
          "model_name": "LayoutModel",
          "model_module_version": "1.2.0",
          "state": {
            "_model_module": "@jupyter-widgets/base",
            "_model_module_version": "1.2.0",
            "_model_name": "LayoutModel",
            "_view_count": null,
            "_view_module": "@jupyter-widgets/base",
            "_view_module_version": "1.2.0",
            "_view_name": "LayoutView",
            "align_content": null,
            "align_items": null,
            "align_self": null,
            "border": null,
            "bottom": null,
            "display": null,
            "flex": null,
            "flex_flow": null,
            "grid_area": null,
            "grid_auto_columns": null,
            "grid_auto_flow": null,
            "grid_auto_rows": null,
            "grid_column": null,
            "grid_gap": null,
            "grid_row": null,
            "grid_template_areas": null,
            "grid_template_columns": null,
            "grid_template_rows": null,
            "height": null,
            "justify_content": null,
            "justify_items": null,
            "left": null,
            "margin": null,
            "max_height": null,
            "max_width": null,
            "min_height": null,
            "min_width": null,
            "object_fit": null,
            "object_position": null,
            "order": null,
            "overflow": null,
            "overflow_x": null,
            "overflow_y": null,
            "padding": null,
            "right": null,
            "top": null,
            "visibility": null,
            "width": null
          }
        },
        "cd1c7abb40c14a44815d4d0cca19e4ae": {
          "model_module": "@jupyter-widgets/controls",
          "model_name": "ProgressStyleModel",
          "model_module_version": "1.5.0",
          "state": {
            "_model_module": "@jupyter-widgets/controls",
            "_model_module_version": "1.5.0",
            "_model_name": "ProgressStyleModel",
            "_view_count": null,
            "_view_module": "@jupyter-widgets/base",
            "_view_module_version": "1.2.0",
            "_view_name": "StyleView",
            "bar_color": null,
            "description_width": ""
          }
        },
        "63ad92eb910b4ff781017ccf5409e703": {
          "model_module": "@jupyter-widgets/base",
          "model_name": "LayoutModel",
          "model_module_version": "1.2.0",
          "state": {
            "_model_module": "@jupyter-widgets/base",
            "_model_module_version": "1.2.0",
            "_model_name": "LayoutModel",
            "_view_count": null,
            "_view_module": "@jupyter-widgets/base",
            "_view_module_version": "1.2.0",
            "_view_name": "LayoutView",
            "align_content": null,
            "align_items": null,
            "align_self": null,
            "border": null,
            "bottom": null,
            "display": null,
            "flex": null,
            "flex_flow": null,
            "grid_area": null,
            "grid_auto_columns": null,
            "grid_auto_flow": null,
            "grid_auto_rows": null,
            "grid_column": null,
            "grid_gap": null,
            "grid_row": null,
            "grid_template_areas": null,
            "grid_template_columns": null,
            "grid_template_rows": null,
            "height": null,
            "justify_content": null,
            "justify_items": null,
            "left": null,
            "margin": null,
            "max_height": null,
            "max_width": null,
            "min_height": null,
            "min_width": null,
            "object_fit": null,
            "object_position": null,
            "order": null,
            "overflow": null,
            "overflow_x": null,
            "overflow_y": null,
            "padding": null,
            "right": null,
            "top": null,
            "visibility": null,
            "width": null
          }
        },
        "c0404774c43149019dc85e262fa5a761": {
          "model_module": "@jupyter-widgets/controls",
          "model_name": "DescriptionStyleModel",
          "model_module_version": "1.5.0",
          "state": {
            "_model_module": "@jupyter-widgets/controls",
            "_model_module_version": "1.5.0",
            "_model_name": "DescriptionStyleModel",
            "_view_count": null,
            "_view_module": "@jupyter-widgets/base",
            "_view_module_version": "1.2.0",
            "_view_name": "StyleView",
            "description_width": ""
          }
        }
      }
    }
  },
  "cells": [
    {
      "cell_type": "markdown",
      "metadata": {
        "id": "view-in-github",
        "colab_type": "text"
      },
      "source": [
        "<a href=\"https://colab.research.google.com/github/FurukuOnTour/nlpsys-project-legalnlp/blob/main/Model/BERT_NLP_III_All2Favor_(test%2Bdev).ipynb\" target=\"_parent\"><img src=\"https://colab.research.google.com/assets/colab-badge.svg\" alt=\"Open In Colab\"/></a>"
      ]
    },
    {
      "cell_type": "markdown",
      "source": [
        "### IMPORT"
      ],
      "metadata": {
        "id": "qK9hX6OpTi5o"
      }
    },
    {
      "cell_type": "code",
      "source": [
        "import pandas as pd\n",
        "import re"
      ],
      "metadata": {
        "id": "kSt23c09aRid"
      },
      "execution_count": null,
      "outputs": []
    },
    {
      "cell_type": "markdown",
      "source": [
        "### CHECK AND PREPARE DATA"
      ],
      "metadata": {
        "id": "rRApe8nmTml4"
      }
    },
    {
      "cell_type": "code",
      "source": [
        "!gdown --id 1IvPNfORnBtDSoxwH5D8S9lqV3Hcu_Pmy "
      ],
      "metadata": {
        "colab": {
          "base_uri": "https://localhost:8080/"
        },
        "id": "m2Xs6uZpy1ke",
        "outputId": "7f4db647-692e-4015-8e98-e13d401b422e"
      },
      "execution_count": null,
      "outputs": [
        {
          "output_type": "stream",
          "name": "stdout",
          "text": [
            "/usr/local/lib/python3.8/dist-packages/gdown/cli.py:127: FutureWarning: Option `--id` was deprecated in version 4.3.1 and will be removed in 5.0. You don't need to pass it anymore to use a file ID.\n",
            "  warnings.warn(\n",
            "Downloading...\n",
            "From: https://drive.google.com/uc?id=1IvPNfORnBtDSoxwH5D8S9lqV3Hcu_Pmy\n",
            "To: /content/all2favor_all.csv\n",
            "100% 4.86M/4.86M [00:00<00:00, 288MB/s]\n"
          ]
        }
      ]
    },
    {
      "cell_type": "code",
      "source": [
        "data = pd.read_csv('/content/all2favor_all.csv')"
      ],
      "metadata": {
        "id": "tOXSfphiN6gZ"
      },
      "execution_count": null,
      "outputs": []
    },
    {
      "cell_type": "code",
      "source": [
        "from sklearn.model_selection import train_test_split\n",
        "\n",
        "train_df, dev_df = train_test_split(data, train_size=0.8, random_state=77)\n",
        "\n",
        "labels = list(set(data['label'].to_list()))\n",
        "label_to_idx = {label:i for i,label in enumerate(labels)}\n",
        "label_list = [0] * len(labels)\n",
        "\n",
        "label_list = [0] * len(label_to_idx)\n",
        "for label in label_to_idx:\n",
        "  label_list[label_to_idx[label]] = label \n",
        "\n",
        "train_df['label'] = train_df['label'].apply(lambda x: label_to_idx[x])\n",
        "dev_df['label'] = dev_df['label'].apply(lambda x: label_to_idx[x])"
      ],
      "metadata": {
        "id": "piIv9wWd6h5s"
      },
      "execution_count": null,
      "outputs": []
    },
    {
      "cell_type": "markdown",
      "source": [
        "# Transformer"
      ],
      "metadata": {
        "id": "lTV9OX8_42OD"
      }
    },
    {
      "cell_type": "code",
      "source": [
        "gpu_info = !nvidia-smi\n",
        "gpu_info = '\\n'.join(gpu_info)\n",
        "if gpu_info.find('failed') >= 0:\n",
        "  print('Not connected to a GPU')\n",
        "else:\n",
        "  print(gpu_info)"
      ],
      "metadata": {
        "colab": {
          "base_uri": "https://localhost:8080/"
        },
        "id": "L_ruNakf41aM",
        "outputId": "bbd14d11-5800-4816-dadf-4a3edca6a605"
      },
      "execution_count": null,
      "outputs": [
        {
          "output_type": "stream",
          "name": "stdout",
          "text": [
            "Thu Dec  1 06:49:22 2022       \n",
            "+-----------------------------------------------------------------------------+\n",
            "| NVIDIA-SMI 460.32.03    Driver Version: 460.32.03    CUDA Version: 11.2     |\n",
            "|-------------------------------+----------------------+----------------------+\n",
            "| GPU  Name        Persistence-M| Bus-Id        Disp.A | Volatile Uncorr. ECC |\n",
            "| Fan  Temp  Perf  Pwr:Usage/Cap|         Memory-Usage | GPU-Util  Compute M. |\n",
            "|                               |                      |               MIG M. |\n",
            "|===============================+======================+======================|\n",
            "|   0  Tesla T4            Off  | 00000000:00:04.0 Off |                    0 |\n",
            "| N/A   70C    P0    31W /  70W |      0MiB / 15109MiB |      0%      Default |\n",
            "|                               |                      |                  N/A |\n",
            "+-------------------------------+----------------------+----------------------+\n",
            "                                                                               \n",
            "+-----------------------------------------------------------------------------+\n",
            "| Processes:                                                                  |\n",
            "|  GPU   GI   CI        PID   Type   Process name                  GPU Memory |\n",
            "|        ID   ID                                                   Usage      |\n",
            "|=============================================================================|\n",
            "|  No running processes found                                                 |\n",
            "+-----------------------------------------------------------------------------+\n"
          ]
        }
      ]
    },
    {
      "cell_type": "code",
      "source": [
        "!pip install transformers"
      ],
      "metadata": {
        "colab": {
          "base_uri": "https://localhost:8080/"
        },
        "id": "v0Ug41v0w5Mw",
        "outputId": "aa621ac6-488c-4fba-a9f9-06ac4a9d855b"
      },
      "execution_count": null,
      "outputs": [
        {
          "output_type": "stream",
          "name": "stdout",
          "text": [
            "Looking in indexes: https://pypi.org/simple, https://us-python.pkg.dev/colab-wheels/public/simple/\n",
            "Requirement already satisfied: transformers in /usr/local/lib/python3.8/dist-packages (4.24.0)\n",
            "Requirement already satisfied: filelock in /usr/local/lib/python3.8/dist-packages (from transformers) (3.8.0)\n",
            "Requirement already satisfied: tqdm>=4.27 in /usr/local/lib/python3.8/dist-packages (from transformers) (4.64.1)\n",
            "Requirement already satisfied: pyyaml>=5.1 in /usr/local/lib/python3.8/dist-packages (from transformers) (6.0)\n",
            "Requirement already satisfied: regex!=2019.12.17 in /usr/local/lib/python3.8/dist-packages (from transformers) (2022.6.2)\n",
            "Requirement already satisfied: numpy>=1.17 in /usr/local/lib/python3.8/dist-packages (from transformers) (1.21.6)\n",
            "Requirement already satisfied: requests in /usr/local/lib/python3.8/dist-packages (from transformers) (2.23.0)\n",
            "Requirement already satisfied: tokenizers!=0.11.3,<0.14,>=0.11.1 in /usr/local/lib/python3.8/dist-packages (from transformers) (0.13.2)\n",
            "Requirement already satisfied: huggingface-hub<1.0,>=0.10.0 in /usr/local/lib/python3.8/dist-packages (from transformers) (0.11.1)\n",
            "Requirement already satisfied: packaging>=20.0 in /usr/local/lib/python3.8/dist-packages (from transformers) (21.3)\n",
            "Requirement already satisfied: typing-extensions>=3.7.4.3 in /usr/local/lib/python3.8/dist-packages (from huggingface-hub<1.0,>=0.10.0->transformers) (4.1.1)\n",
            "Requirement already satisfied: pyparsing!=3.0.5,>=2.0.2 in /usr/local/lib/python3.8/dist-packages (from packaging>=20.0->transformers) (3.0.9)\n",
            "Requirement already satisfied: certifi>=2017.4.17 in /usr/local/lib/python3.8/dist-packages (from requests->transformers) (2022.9.24)\n",
            "Requirement already satisfied: idna<3,>=2.5 in /usr/local/lib/python3.8/dist-packages (from requests->transformers) (2.10)\n",
            "Requirement already satisfied: urllib3!=1.25.0,!=1.25.1,<1.26,>=1.21.1 in /usr/local/lib/python3.8/dist-packages (from requests->transformers) (1.25.11)\n",
            "Requirement already satisfied: chardet<4,>=3.0.2 in /usr/local/lib/python3.8/dist-packages (from requests->transformers) (3.0.4)\n"
          ]
        }
      ]
    },
    {
      "cell_type": "code",
      "source": [
        "!pip install datasets"
      ],
      "metadata": {
        "colab": {
          "base_uri": "https://localhost:8080/"
        },
        "id": "7S7ytf9_7Cg0",
        "outputId": "a9bfe59f-b594-4f56-90a8-04089cc1a459"
      },
      "execution_count": null,
      "outputs": [
        {
          "output_type": "stream",
          "name": "stdout",
          "text": [
            "Looking in indexes: https://pypi.org/simple, https://us-python.pkg.dev/colab-wheels/public/simple/\n",
            "Requirement already satisfied: datasets in /usr/local/lib/python3.8/dist-packages (2.7.1)\n",
            "Requirement already satisfied: fsspec[http]>=2021.11.1 in /usr/local/lib/python3.8/dist-packages (from datasets) (2022.11.0)\n",
            "Requirement already satisfied: requests>=2.19.0 in /usr/local/lib/python3.8/dist-packages (from datasets) (2.23.0)\n",
            "Requirement already satisfied: responses<0.19 in /usr/local/lib/python3.8/dist-packages (from datasets) (0.18.0)\n",
            "Requirement already satisfied: pandas in /usr/local/lib/python3.8/dist-packages (from datasets) (1.3.5)\n",
            "Requirement already satisfied: tqdm>=4.62.1 in /usr/local/lib/python3.8/dist-packages (from datasets) (4.64.1)\n",
            "Requirement already satisfied: multiprocess in /usr/local/lib/python3.8/dist-packages (from datasets) (0.70.14)\n",
            "Requirement already satisfied: xxhash in /usr/local/lib/python3.8/dist-packages (from datasets) (3.1.0)\n",
            "Requirement already satisfied: pyarrow>=6.0.0 in /usr/local/lib/python3.8/dist-packages (from datasets) (9.0.0)\n",
            "Requirement already satisfied: huggingface-hub<1.0.0,>=0.2.0 in /usr/local/lib/python3.8/dist-packages (from datasets) (0.11.1)\n",
            "Requirement already satisfied: aiohttp in /usr/local/lib/python3.8/dist-packages (from datasets) (3.8.3)\n",
            "Requirement already satisfied: packaging in /usr/local/lib/python3.8/dist-packages (from datasets) (21.3)\n",
            "Requirement already satisfied: numpy>=1.17 in /usr/local/lib/python3.8/dist-packages (from datasets) (1.21.6)\n",
            "Requirement already satisfied: pyyaml>=5.1 in /usr/local/lib/python3.8/dist-packages (from datasets) (6.0)\n",
            "Requirement already satisfied: dill<0.3.7 in /usr/local/lib/python3.8/dist-packages (from datasets) (0.3.6)\n",
            "Requirement already satisfied: async-timeout<5.0,>=4.0.0a3 in /usr/local/lib/python3.8/dist-packages (from aiohttp->datasets) (4.0.2)\n",
            "Requirement already satisfied: aiosignal>=1.1.2 in /usr/local/lib/python3.8/dist-packages (from aiohttp->datasets) (1.3.1)\n",
            "Requirement already satisfied: frozenlist>=1.1.1 in /usr/local/lib/python3.8/dist-packages (from aiohttp->datasets) (1.3.3)\n",
            "Requirement already satisfied: attrs>=17.3.0 in /usr/local/lib/python3.8/dist-packages (from aiohttp->datasets) (22.1.0)\n",
            "Requirement already satisfied: charset-normalizer<3.0,>=2.0 in /usr/local/lib/python3.8/dist-packages (from aiohttp->datasets) (2.1.1)\n",
            "Requirement already satisfied: yarl<2.0,>=1.0 in /usr/local/lib/python3.8/dist-packages (from aiohttp->datasets) (1.8.1)\n",
            "Requirement already satisfied: multidict<7.0,>=4.5 in /usr/local/lib/python3.8/dist-packages (from aiohttp->datasets) (6.0.2)\n",
            "Requirement already satisfied: filelock in /usr/local/lib/python3.8/dist-packages (from huggingface-hub<1.0.0,>=0.2.0->datasets) (3.8.0)\n",
            "Requirement already satisfied: typing-extensions>=3.7.4.3 in /usr/local/lib/python3.8/dist-packages (from huggingface-hub<1.0.0,>=0.2.0->datasets) (4.1.1)\n",
            "Requirement already satisfied: pyparsing!=3.0.5,>=2.0.2 in /usr/local/lib/python3.8/dist-packages (from packaging->datasets) (3.0.9)\n",
            "Requirement already satisfied: idna<3,>=2.5 in /usr/local/lib/python3.8/dist-packages (from requests>=2.19.0->datasets) (2.10)\n",
            "Requirement already satisfied: certifi>=2017.4.17 in /usr/local/lib/python3.8/dist-packages (from requests>=2.19.0->datasets) (2022.9.24)\n",
            "Requirement already satisfied: urllib3!=1.25.0,!=1.25.1,<1.26,>=1.21.1 in /usr/local/lib/python3.8/dist-packages (from requests>=2.19.0->datasets) (1.25.11)\n",
            "Requirement already satisfied: chardet<4,>=3.0.2 in /usr/local/lib/python3.8/dist-packages (from requests>=2.19.0->datasets) (3.0.4)\n",
            "Requirement already satisfied: pytz>=2017.3 in /usr/local/lib/python3.8/dist-packages (from pandas->datasets) (2022.6)\n",
            "Requirement already satisfied: python-dateutil>=2.7.3 in /usr/local/lib/python3.8/dist-packages (from pandas->datasets) (2.8.2)\n",
            "Requirement already satisfied: six>=1.5 in /usr/local/lib/python3.8/dist-packages (from python-dateutil>=2.7.3->pandas->datasets) (1.15.0)\n"
          ]
        }
      ]
    },
    {
      "cell_type": "code",
      "source": [
        "!pip install sentencepiece"
      ],
      "metadata": {
        "colab": {
          "base_uri": "https://localhost:8080/"
        },
        "id": "myELEpzJHbml",
        "outputId": "993b2a1d-5de9-4a6d-cccd-724aca69cf93"
      },
      "execution_count": null,
      "outputs": [
        {
          "output_type": "stream",
          "name": "stdout",
          "text": [
            "Looking in indexes: https://pypi.org/simple, https://us-python.pkg.dev/colab-wheels/public/simple/\n",
            "Requirement already satisfied: sentencepiece in /usr/local/lib/python3.8/dist-packages (0.1.97)\n"
          ]
        }
      ]
    },
    {
      "cell_type": "code",
      "source": [
        "from transformers import (\n",
        "    AutoTokenizer, \n",
        "    AutoModel,\n",
        "    AutoModelForSequenceClassification, \n",
        "    AutoConfig,\n",
        "\n",
        "    Trainer, \n",
        "    TrainingArguments,\n",
        ")\n",
        "\n",
        "from datasets import (\n",
        "    Dataset,\n",
        "    DatasetDict,\n",
        "    Features, Sequence, ClassLabel, Value\n",
        ")"
      ],
      "metadata": {
        "id": "OdwPef1jDRs8"
      },
      "execution_count": null,
      "outputs": []
    },
    {
      "cell_type": "code",
      "source": [
        "model_name = 'airesearch/wangchanberta-base-att-spm-uncased'\n",
        "config = AutoConfig.from_pretrained(model_name, num_labels=len(labels))\n",
        "tokenizer = AutoTokenizer.from_pretrained(model_name)\n",
        "model = AutoModelForSequenceClassification.from_pretrained(model_name, \n",
        "                                                           config=config)\n",
        "\n"
      ],
      "metadata": {
        "colab": {
          "base_uri": "https://localhost:8080/"
        },
        "id": "3gByEy5ZUvHw",
        "outputId": "b905ab19-13ab-4edb-e175-971df4cf2afb"
      },
      "execution_count": null,
      "outputs": [
        {
          "output_type": "stream",
          "name": "stderr",
          "text": [
            "Some weights of the model checkpoint at airesearch/wangchanberta-base-att-spm-uncased were not used when initializing CamembertForSequenceClassification: ['roberta.pooler.dense.bias', 'lm_head.dense.weight', 'lm_head.layer_norm.weight', 'lm_head.dense.bias', 'lm_head.bias', 'lm_head.layer_norm.bias', 'lm_head.decoder.bias', 'roberta.pooler.dense.weight', 'lm_head.decoder.weight']\n",
            "- This IS expected if you are initializing CamembertForSequenceClassification from the checkpoint of a model trained on another task or with another architecture (e.g. initializing a BertForSequenceClassification model from a BertForPreTraining model).\n",
            "- This IS NOT expected if you are initializing CamembertForSequenceClassification from the checkpoint of a model that you expect to be exactly identical (initializing a BertForSequenceClassification model from a BertForSequenceClassification model).\n",
            "Some weights of CamembertForSequenceClassification were not initialized from the model checkpoint at airesearch/wangchanberta-base-att-spm-uncased and are newly initialized: ['classifier.dense.weight', 'classifier.out_proj.bias', 'classifier.out_proj.weight', 'classifier.dense.bias']\n",
            "You should probably TRAIN this model on a down-stream task to be able to use it for predictions and inference.\n"
          ]
        }
      ]
    },
    {
      "cell_type": "markdown",
      "source": [
        "# Use Dataset Module"
      ],
      "metadata": {
        "id": "htqyxbC2GnJJ"
      }
    },
    {
      "cell_type": "code",
      "source": [
        "train_dict = train_df.to_dict('series')\n",
        "dev_dict = dev_df.to_dict('series')"
      ],
      "metadata": {
        "id": "FOKib1JC_qNe"
      },
      "execution_count": null,
      "outputs": []
    },
    {
      "cell_type": "code",
      "source": [
        "features= Features({\n",
        "                    \"text\": Value(dtype='string'),\n",
        "                    \"label\": ClassLabel(names=label_list)\n",
        "                })\n",
        "d = DatasetDict({'train': Dataset.from_dict(train_dict, features=features), \n",
        "                 'dev': Dataset.from_dict(dev_dict, features=features)})"
      ],
      "metadata": {
        "id": "TxotnaDQ6_Cc"
      },
      "execution_count": null,
      "outputs": []
    },
    {
      "cell_type": "code",
      "source": [
        "d"
      ],
      "metadata": {
        "colab": {
          "base_uri": "https://localhost:8080/"
        },
        "id": "pAMBhAYz8avJ",
        "outputId": "ec0dbc5a-d6b7-4653-b9ab-96589de6ccd3"
      },
      "execution_count": null,
      "outputs": [
        {
          "output_type": "execute_result",
          "data": {
            "text/plain": [
              "DatasetDict({\n",
              "    train: Dataset({\n",
              "        features: ['text', 'label'],\n",
              "        num_rows: 304\n",
              "    })\n",
              "    dev: Dataset({\n",
              "        features: ['text', 'label'],\n",
              "        num_rows: 76\n",
              "    })\n",
              "})"
            ]
          },
          "metadata": {},
          "execution_count": 13
        }
      ]
    },
    {
      "cell_type": "code",
      "source": [
        "d['train'][0]"
      ],
      "metadata": {
        "colab": {
          "base_uri": "https://localhost:8080/"
        },
        "id": "U7gD5il7ME1j",
        "outputId": "36743ee9-81ac-4ec7-de59-401ce1958495"
      },
      "execution_count": null,
      "outputs": [
        {
          "output_type": "execute_result",
          "data": {
            "text/plain": [
              "{'text': '2547/269 ย่อสั้น คำพิพากษาศาลฎีกาซึ่งยกฟ้องจำเลยที่ 2 ในข้อหาขับรถโดยประมาทเป็นเหตุให้ผู้อื่นได้รับอันตรายแก่กาย ได้รับอันตรายสาหัส และถึงแก่ความตาย มีประเด็นตรงกับประเด็นในคดีนี้ที่ว่า จำเลยที่ 2 ขับรถด้วยความประมาทเลินเล่อปราศจากความระมัดระวังตามที่โจทก์ที่ 1 ฟ้องหรือไม่ เมื่อโจทก์ที่ 1 และจำเลยที่ 2 เป็นคู่ความในคดีดังกล่าว จึงต้องผูกพันตามคำพิพากษาคดีอาญาดังกล่าว คดีนี้เป็นคดีแพ่งที่เกี่ยวเนื่องกับคดีอาญาในการพิพากษาคดีส่วนแพ่ง ศาลจำต้องถือข้อเท็จจริงตามที่ปรากฏในคำพิพากษาคดีส่วนอาญาจึงต้องฟังว่าจำเลยที่ 2 มิได้ขับรถด้วยความประมาทเลินเล่อเป็นเหตุให้ผู้อื่นถึงแก่ความตายได้รับอันตรายสาหัสและได้รับอันตรายแก่กายตามฟ้อง เมื่อจำเลยที่ 2 มิได้กระทำละเมิดต่อโจทก์ที่ 1 จำเลยที่ 1 ซึ่งเป็นนายจ้างของจำเลยที่ 2 จึงไม่ต้องรับผิดใช้ค่าสินไหมทดแทนตามที่โจทก์ที่ 1 ฟ้องด้วย การที่ศาลอุทธรณ์พิพากษายืนตามคำพิพากษาของศาลชั้นต้น ให้จำเลยที่ 3 ถึงที่ 6 ชดใช้เงินแก่โจทก์ที่ 3 ที่ 8 ที่ 17 ที่ 56 และที่ 63 เกินกว่าจำนวนที่ปรากฏในคำขอท้ายฟ้องโจทก์แต่ละคนดังกล่าวนั้น เป็นปัญหาข้อกฎหมายอันเกี่ยวกับความสงบเรียบร้อยของประชาชน แม้จะไม่มีคู่ความฝ่ายใดยกขึ้นฎีกา ศาลฎีกาก็มีอำนาจยกขึ้นวินิจฉัยและแก้ไขให้ถูกต้องได้ตาม ป . วิ . พ . มาตรา 142 ( 5 ) ประกอบมาตรา 246 และ 247 โดยให้จำเลยที่ 3 ถึงที่ 6 ชดใช้เงินเป็นจำนวนตามคำขอของโจทก์แต่ละคนดังกล่าว พร้อมดอกเบี้ยอัตราร้อยละ 7.5 ต่อปี นับแต่วันทำละเมิดเป็นต้นไป ย่อยาว โจทก์ทั้งหกสิบสี่ฟ้องว่า จำเลยที่ 2 เป็นลูกจ้างจำเลยที่ 1 มีหน้าที่ขับขี่รถโดยสารประจำทางสาย 1067 หมายเลขทะเบียน 11-0354 กรุงเทพมหานคร จำเลยที่ 4 เป็นลูกจ้างของจำเลยที่ 3 ที่ 5 และที่ 6 มีหน้าที่ขับรถบรรทุกสิบล้อ หมายเลขทะเบียน 81-3185 นครปฐม จำเลยที่ 2 และที่ 4 ขับรถในทางการที่จ้างของจำเลยที่ 1 และที่ 3 ที่ 5 ที่ 6 ตามลำดับโดยประมาทเป็นเหตุให้รถทั้งสองคันเบียดชนกันอย่างแรงที่บริเวณกึ่งกลางทางโค้ง ประกอบกับรถยนต์ของจำเลยที่ 1 มีสภาพชำรุดทรุดโทรมโครงสร้างไม่แข็งแรงพอ และรับคนโดยสารเกินกว่าอัตราที่กฎหมายกำหนดเป็นเหตุให้ผู้โดยสารได้รับอันตรายแก่กาย อันตรายสาหัส และถึงแก่ความตาย ซึ่งโจทก์ทั้งหกสิบสี่ได้รับความเสียหายดังกล่าว จึงขอให้บังคับจำเลยทั้งหกร่วมกันชำระค่าสินไหมทดแทนแก่โจทก์ทั้งหกสิบสี่ตามจำนวนต่างๆ พร้อมดอกเบี้ยในอัตราร้อยละ 7.5 ต่อปีของต้นเงินตามจำนวนต่างๆ ดังกล่าว นับแต่วันฟ้องเป็นต้นไปจนกว่าจะชำระเสร็จ จำเลยที่ 1 และที่ 2 ให้การว่า จำเลยที่ 2 ขับรถโดยใช้ความระมัดระวังตามวิสัยและพฤติการณ์ แต่จำเลยที่ 4 เป็นผู้ขับรถบรรทุกแล่นสวนทางมาด้วยความเร็วสูงและเสียหลักแล่นแฉลบเข้าในช่องเดินรถของจำเลยที่ 2 เป็นเหตุให้รถบรรทุกที่จำเลยที่ 4 ขับพุ่งชนรถโดยสารที่จำเลยที่ 2 ขับอย่างแรงตรงบริเวณไหล่ทางในช่องเดินรถของจำเลยที่ 2 สุดวิสัยที่จำเลยที่ 2 จะป้องกันขัดขวางไว้ ทั้งรถยนต์ที่จำเลยที่ 2 ขับมีสภาพมั่นคงแข็งแรง ไม่ชำรุดทรุดโทรม มีเครื่องอุปกรณ์และส่วนควบคุมถูกต้องตามที่กำหนดในกฎกระทรวงโดยผ่านการตรวจสภาพจากกรมการขนส่งทางบกแล้ว จำเลยที่ 2 ไม่ได้ขับรถโดยสารประจำทางบรรทุกคนโดยสารเกินกว่าอัตราที่กฎหมายกำหนดหรือไม่ได้บรรทุกจนน่าจะเป็นเหตุให้เกิดอันตรายแก่บุคคลในรถยนต์นั้น ความเสียหายที่เกิดขึ้นเป็นผลจากความประมาทเลินเล่อของจำเลยที่ 4 แต่เพียงฝ่ายเดียว ขอให้ยกฟ้อง จำเลยที่ 3 ที่ 5 และที่ 6 ให้การว่า เหตุรถชนกันนั้นเกิดขึ้นจากความประมาทเลินเล่อของจำเลยที่ 2 ที่ขับรถโดยสารเสียหลักพุ่งขวางช่องทางเดินรถของจำเลยที่ 4 ที่จำเลยที่ 4 ให้การรับสารภาพในคดีอาญาหมายเลขแดงที่ 355/2531 ของศาลจังหวัดมีนบุรี ไม่มีผลผูกพันจำเลยที่ 5 และที่ 6 ขอให้ยกฟ้อง จำเลยที่ 4 ขาดนัดยื่นคำให้การและขาดนัดพิจารณา ระหว่างพิจารณา โจทก์ที่ 2 ที่ 12 ที่ 23 และที่ 42 ถึงแก่กรรม นางประภา โฆษิตเศรษฐ์ นายเจษฐ์ ดวงเลขา นางอรทัย วันเพ็ญ และนายเจน เจนพิทักษ์ชาติ ทายาทของโจทก์ที่ 2 ที่ 12 ที่ 23 และที่ 42 ยื่นคำร้องขอเข้าเป็นคู่ความแทนตามลำดับ ศาลชั้นต้นอนุญาต ศาลชั้นต้นพิพากษาให้จำเลยที่ 3 ถึงที่ 6 ร่วมกันชดใช้เงินแก่โจทก์ทั้งหกสิบสี่ ดังนี้ โจทก์ที่ 1 จำนวน 2,480,000 บาท โจทก์ที่ 2 จำนวน 396,990 บาท โจทก์ที่ 3 จำนวน 366,650 บาท โจทก์ที่ 4 จำนวน 998,450 บาท โจทก์ที่ 5 จำนวน 1,000,000 บาท โจทก์ที่ 6 จำนวน 992,500 บาท โจทก์ที่ 7 จำนวน 860,100 บาท โจทก์ที่ 8 จำนวน 555,900 บาท โจทก์ที่ 9 จำนวน 375,000 บาท โจทก์ที่ 10 จำนวน 521,300 บาท โจทก์ที่ 11 จำนวน 833,900 บาท โจทก์ที่ 12 จำนวน 202,000 บาท โจทก์ที่ 13 จำนวน 352,000 บาท โจทก์ที่ 14 จำนวน 985,000 บาท โจทก์ที่ 15 จำนวน 995,000 บาท โจทก์ที่ 16 จำนวน 980,000 บาท โจทก์ที่ 17 จำนวน 993,700 บาท โจทก์ที่ 18 และที่ 19 จำนวน 977,000 บาท โจทก์ที่ 20 จำนวน 1,000,000 บาท โจทก์ที่ 21 จำนวน 360,000 บาท โจทก์ที่ 22 จำนวน 408,000 บาท โจทก์ที่ 23 จำนวน 16,800 บาท โจทก์ที่ 24 จำนวน 192,000 บาท โจทก์ที่ 21 ถึงที่ 24 จำนวน 40,000 บาท โจทก์ที่ 25 จำนวน 112,203 บาท โจทก์ที่ 26 จำนวน 30,879 บาท โจทก์ที่ 27 จำนวน 17,004 บาท โจทก์ที่ 28 จำนวน 22,220 บาท โจทก์ที่ 29 จำนวน 80,785 บาท โจทก์ที่ 30 จำนวน 34,945 บาท โจทก์ที่ 31 จำนวน 25,640 บาท โจทก์ที่ 32 จำนวน 57,450 บาท โจทก์ที่ 33 จำนวน 91,570 บาทโจทก์ที่ 34 จำนวน 329,763 บาท โจทก์ที่ 35 จำนวน 33,887 บาท โจทก์ที่ 36 จำนวน 425,453 บาท โจทก์ที่ 37 จำนวน 31,379 บาท โจทก์ที่ 38 จำนวน 92,822 บาท โจทก์ที่ 39 จำนวน 69,203 บาท โจทก์ที่ 40 จำนวน 41,695 บาท โจทก์ที่ 41 จำนวน 26,788 บาท โจทก์ที่ 42 จำนวน 413,130 บาท โจทก์ที่ 43 จำนวน 38,043 บาท โจทก์ที่ 44 จำนวน 184,719 บาท โจทก์ที่ 45 จำนวน 78,146.50 บาท โจทก์ที่ 46 จำนวน 104,196 บาท โจทก์ที่ 47 จำนวน 72,255 บาท โจทก์ที่ 48 จำนวน 47,736 บาท โจทก์ที่ 49 จำนวน 13,531 บาท โจทก์ที่ 50 จำนวน 15,349 บาท โจทก์ที่ 51 จำนวน 71,000 บาท โจทก์ที่ 52 จำนวน 21,701 บาท โจทก์ที่ 53 จำนวน 106,983 บาท โจทก์ที่ 54 จำนวน 24,550 บาท โจทก์ที่ 55 จำนวน 17,174 บาท โจทก์ที่ 56 จำนวน 16,087 บาท โจทก์ที่ 57 จำนวน 14,800 บาท โจทก์ที่ 58 จำนวน 18,780 บาท โจทก์ที่ 59 และที่ 61 คนละ 3,000 บาท โจทก์ที่ 60 จำนวน 13,000 บาท โจทก์ที่ 62 จำนวน 18,371 บาท โจทก์ที่ 63 จำนวน 15,032 บาท และโจทก์ที่ 64 จำนวน 13,352 บาท พร้อมดอกเบี้ยอัตราร้อยละ 7.5 ต่อปี ของจำนวนเงินที่โจทก์แต่ละคนได้รับนับแต่วันที่ 16 ธันวาคม 2530 เป็นต้นไปจนกว่าจะชำระเสร็จ ให้จำเลยที่ 3 ถึงที่ 6 ร่วมกันชดใช้เงินแก่จำเลยที่ 1 จำนวน 150,000 บาท พร้อมด้วยดอกเบี้ยอัตราร้อยละ 7.5 ต่อปี นับแต่วันที่ 16 ธันวาคม 2530 เป็นต้นไปจนกว่าจะชำระเสร็จ คำขอนอกจากนี้ให้ยก และยกฟ้องสำหรับจำเลยที่ 2 โจทก์ที่ 1 อุทธรณ์ ศาลอุทธรณ์พิพากษายืน แต่ให้จำเลยที่ 3 ถึงที่ 6 ร่วมกันใช้ค่าทนายความในศาลชั้นต้นแทนโจทก์ที่ 59 และที่ 61 คนละ 400 บาท ค่าฤชาธรรมเนียมชั้นอุทธรณ์ให้เป็นพับ โจทก์ที่ 1 ฎีกา ศาลฎีกาวินิจฉัยว่า \" ข้อเท็จจริงที่คู่ความรับกันและไม่โต้เถียงกันฟังได้เป็นที่ยุติว่า ในวันเวลาและสถานที่เกิดเหตุตามฟ้อง จำเลยที่ 2 ลูกจ้างของจำเลยที่ 1 ขับรถโดยสารประจำทางสาย 1067 หมายเลขทะเบียน 11-0354 กรุงเทพมหานคร ของจำเลยที่ 1 ไปในทางการที่จ้างของจำเลยที่ 1 แล้วเกิดเหตุเฉี่ยวชนกับรถบรรทุกสิบล้อ หมายเลขทะเบียน 81-3185 นครปฐม ซึ่งมีจำเลยที่ 4 ลูกจ้างของจำเลยที่ 3 ที่ 5 และที่ 6 เป็นผู้ขับ เป็นเหตุให้คนโดยสารในรถโดยสารประจำทางของจำเลยที่ 1 ดังกล่าวถึงแก่ความตาย ได้รับอันตรายสาหัส และได้รับอันตรายแก่กาย ก่อให้เกิดความเสียหายแก่โจทก์ทั้งหกสิบสี่และจำเลยที่ 1 ต่อมาพนักงานอัยการประจำศาลจังหวัดมีนบุรีฟ้องจำเลยที่ 4 ต่อศาลจังหวัดมีนบุรี ข้อหาขับรถโดยประมาทเป็นเหตุให้ผู้อื่นได้รับอันตรายแก่กาย ได้รับอันตรายสาหัส และถึงแก่ความตาย จำเลยที่ 4 ให้การรับสารภาพ ศาลจังหวัดมีนบุรีพิพากษาลงโทษจำเลยที่ 4 ตามประมวลกฎหมายอาญา มาตรา 291 ซึ่งเป็นบทที่มีโทษหนักที่สุด คงจำคุก 6 ปี 8 เดือน ตามคดีอาญาหมายเลขแดงที่ 355/2531 ของศาลจังหวัดมีนบุรี คดีถึงที่สุด และพนักงานอัยการประจำศาลจังหวัดมีนบุรีฟ้องจำเลยที่ 2 ต่อศาลจังหวัดมีนบุรีในข้อหาเดียวกับจำเลยที่ 4 ด้วย โดยโจทก์ที่ 1 เข้าเป็นโจทก์ร่วม จำเลยที่ 2 ให้การปฏิเสธ ศาลจังหวัดมีนบุรีพิพากษาลงโทษจำเลยที่ 2 ตามประมวลกฎหมายอาญา มาตรา 291 ซึ่งเป็นบทที่มีโทษหนักที่สุด จำคุก 10 ปี โจทก์ที่ 1 และจำเลยที่ 2 อุทธรณ์ ศาลอุทธรณ์พิพากษายืน จำเลยที่ 2 ฎีกา ศาลฎีกาพิพากษายกฟ้อง ตามคำพิพากษาศาลฎีกาที่ 5665/2534 คดีถึงที่สุด คดีมีปัญหาข้อกฎหมายต้องวินิจฉัยตามฎีกาของโจทก์ที่ 1 ว่า คำพิพากษาศาลฎีกาที่ 5665/2534 มีผลผูกพันโจทก์ที่ 1 และจำเลยที่ 2 ซึ่งเป็นคู่ความในคดีนี้หรือไม่ เห็นว่า ตามคำพิพากษาศาลฎีกาดังกล่าว ศาลฎีกาวินิจฉัยว่า การที่จำเลยที่ 2 ขับรถในอัตราความเร็วประมาณ 60 ถึง 90 กิโลเมตรต่อชั่วโมง โดยมิได้ชะลอความเร็วลงก่อนจะถึงทางโค้งที่เกิดเหตุ มิใช่สาเหตุของการที่ทำให้รถยนต์ทั้งสองคันชนกัน ข้อเท็จจริงฟังไม่ได้ว่า จำเลยที่ 2 ขับรถโดยประมาทเป็นเหตุให้ชนรถบรรทุกสิบล้อที่จำเลยที่ 4 ขับและเป็นเหตุให้ผู้อื่นถึงแก่ความตายได้รับอันตรายสาหัสและได้รับอันตรายแก่กาย แล้วพิพากษายกฟ้องทุกข้อหา คดีถึงที่สุด ข้อเท็จจริงในคดีอาญาดังกล่าวจึงมีประเด็นโดยตรง ตรงกับประเด็นในคดีนี้ที่ว่าจำเลยที่ 2 ขับรถด้วยความประมาทเลินเล่อปราศจากความระมัดระวังตามที่โจทก์ที่ 1 ฟ้องหรือไม่ เมื่อโจทก์ที่ 1 และจำเลยที่ 2 เป็นคู่ความในคดีดังกล่าว ดังนั้น โจทก์ที่ 1 และจำเลยที่ 2 ต้องผูกพันตามคำพิพากษาคดีอาญาดังกล่าว คดีนี้เป็นคดีแพ่งที่เกี่ยวเนื่องกับคดีอาญา ในการพิพากษาคดีส่วนแพ่ง ศาลจำต้องถือข้อเท็จจริงตามที่ปรากฏในคำพิพากษาคดีส่วนอาญา จึงต้องฟังว่า จำเลยที่ 2 มิได้ขับรถด้วยความประมาทเลินเล่อ เป็นเหตุให้ผู้อื่นถึงแก่ความตาย ได้รับอันตรายสาหัส และได้รับอันตรายแก่กายตามฟ้อง เมื่อจำเลยที่ 2 มิได้กระทำละเมิดต่อโจทก์ที่ 1 จำเลยที่ 1 ซึ่งเป็นนายจ้างของจำเลยที่ 2 จึงไม่ต้องรับผิดใช้ค่าสินไหมทดแทนตามที่โจทก์ที่ 1 ฟ้องด้วย ฎีกาของโจทก์ที่ 1 ฟังไม่ขึ้น อนึ่ง ที่ศาลอุทธรณ์พิพากษายืนตามคำพิพากษาของศาลชั้นต้น ให้จำเลยที่ 3 ถึงที่ 6 ชดใช้เงินให้แก่โจทก์ที่ 3 จำนวน 366,650 บาท โจทก์ที่ 8 จำนวน 555,900 บาท โจทก์ที่ 17 จำนวน 993,700 บาท โจทก์ที่ 56 จำนวน 16,087 บาท และโจทก์ที่ 63 จำนวน 15,032 บาท พร้อมดอกเบี้ยอัตราร้อยละ 7.5 ต่อปี นับแต่วันทำละเมิดนั้น ปรากฏว่าตามคำขอท้ายฟ้องโจทก์แต่ละคนดังกล่าวมีคำขอให้ใช้เงินในวันทำละเมิดจำนวน 366,530 บาท 550,000 บาท 833,500 บาท 16,000 บาท และ 13,000 บาท ตามลำดับ ดังนี้ จึงเป็นการพิพากษาให้จำเลยที่ 3 ถึงที่ 6 ชำระเงินเกินไปกว่าคำขอของโจทก์แต่ละคนดังกล่าว เป็นปัญหาข้อกฎหมายอันเกี่ยวด้วยความสงบเรียบร้อยของประชาชน แม้จะไม่มีคู่ความฝ่ายใดยกขึ้นฎีกา ศาลฎีกาก็มีอำนาจยกขึ้นวินิจฉัยและแก้ไขให้ถูกต้องได้ตามประมวลกฎหมายวิธีพิจารณาความแพ่ง มาตรา 142 ( 5 ) ประกอบมาตรา 246 และมาตรา 247 โดยให้จำเลยที่ 3 ถึงที่ 6 ชดใช้เงินเป็นจำนวนคำขอของโจทก์แต่ละคนดังกล่าว พร้อมดอกเบี้ยอัตราร้อยละ 7.5 ต่อปี นับแต่วันทำละเมิดเป็นต้นไป \" พิพากษาแก้เป็นว่าให้จำเลยที่ 3 ถึงที่ 6 ร่วมกันชดใช้เงินแก่โจทก์ที่ 3 จำนวน 366,530 บาท โจทก์ที่ 8 จำนวน 550,000 บาท โจทก์ที่ 17 จำนวน 833,500 บาท โจทก์ที่ 56 จำนวน 16,000 บาท และโจทก์ที่ 63 จำนวน 13,000 บาท พร้อมดอกเบี้ยอัตราร้อยละ 7.5 ต่อปี ของจำนวนเงินที่โจทก์ดังกล่าวแต่ละคนได้รับ นับแต่วันที่ 16 ธันวาคม 2530 เป็นต้นไปจนกว่าจะชำระเสร็จ นอกจากที่แก้ให้เป็นไปตามคำพิพากษาศาลอุทธรณ์ ค่าฤชาธรรมเนียมชั้นฎีกาให้เป็นพับ',\n",
              " 'label': 0}"
            ]
          },
          "metadata": {},
          "execution_count": 14
        }
      ]
    },
    {
      "cell_type": "markdown",
      "source": [
        "# Tokenize"
      ],
      "metadata": {
        "id": "BmgiR3fwGrdE"
      }
    },
    {
      "cell_type": "code",
      "source": [
        "def tokenize(examples):\n",
        "    tokenized_inputs = tokenizer(examples[\"text\"], \n",
        "                                 is_split_into_words=False,\n",
        "                                 truncation=True,\n",
        "                                 max_length=256)\n",
        "    return tokenized_inputs\n",
        "tokenized_datasets = d.map(tokenize, batched=True)\n"
      ],
      "metadata": {
        "colab": {
          "base_uri": "https://localhost:8080/",
          "referenced_widgets": [
            "18c1ac82599a43e78d01323e21685bf8",
            "9c6c55208c9e4ab1be5db0a6d23921f5",
            "ca2db20820994f1586f03da789472c55",
            "f10964c6e3be48239f878a78477148c4",
            "265c4b5949234090a127ca7b2aea763f",
            "ddadb62c46fb430089c39ab01e1cca41",
            "824f745fca14447693a8503aaf3cd3ba",
            "61e46e1b687544ebbdf13ba3e0e82225",
            "1365a0f107324380b8d21e0fc5f0ca4d",
            "f5ce3f0d9568438784145b164539ca9c",
            "f0484cc8156344c6bbe94dde36f2c942",
            "9ca6c9277bfa46ae9f9e6cfd7bf64911",
            "51b17345b48f4dc9a3bd74662d37ae2c",
            "82556ae991ee42549e8018a096da5579",
            "1fb100b8d57d420db3c9ed4d94774b38",
            "104e770f9095429f88d325cd6266c3cc",
            "faec037a2ce640c299e779bbbd793c73",
            "6302746a80fe4eb3823584a906cc0568",
            "ceb9e4cbd2ff409b8ede1573a17fc709",
            "cd1c7abb40c14a44815d4d0cca19e4ae",
            "63ad92eb910b4ff781017ccf5409e703",
            "c0404774c43149019dc85e262fa5a761"
          ],
          "height": 81
        },
        "id": "Dcgal5YNLR1B",
        "outputId": "4ce6e867-e0af-48d8-87e6-d51e81c08a20"
      },
      "execution_count": null,
      "outputs": [
        {
          "output_type": "display_data",
          "data": {
            "text/plain": [
              "  0%|          | 0/1 [00:00<?, ?ba/s]"
            ],
            "application/vnd.jupyter.widget-view+json": {
              "version_major": 2,
              "version_minor": 0,
              "model_id": "18c1ac82599a43e78d01323e21685bf8"
            }
          },
          "metadata": {}
        },
        {
          "output_type": "display_data",
          "data": {
            "text/plain": [
              "  0%|          | 0/1 [00:00<?, ?ba/s]"
            ],
            "application/vnd.jupyter.widget-view+json": {
              "version_major": 2,
              "version_minor": 0,
              "model_id": "9ca6c9277bfa46ae9f9e6cfd7bf64911"
            }
          },
          "metadata": {}
        }
      ]
    },
    {
      "cell_type": "code",
      "source": [
        "tokenizer.convert_ids_to_tokens(tokenized_datasets['train'][0]['input_ids'])"
      ],
      "metadata": {
        "colab": {
          "base_uri": "https://localhost:8080/"
        },
        "id": "H00_0_J4kbf_",
        "outputId": "330c0b3b-d938-4aef-ef6a-6fa3f55442a3"
      },
      "execution_count": null,
      "outputs": [
        {
          "output_type": "execute_result",
          "data": {
            "text/plain": [
              "['<s>',\n",
              " '▁',\n",
              " '2547',\n",
              " '/2',\n",
              " '69',\n",
              " '▁',\n",
              " 'ย่อ',\n",
              " 'สั้น',\n",
              " '▁',\n",
              " 'คําพิพากษา',\n",
              " 'ศาลฎีกา',\n",
              " 'ซึ่ง',\n",
              " 'ยกฟ้อง',\n",
              " 'จําเลยที่',\n",
              " '▁',\n",
              " '2',\n",
              " '▁',\n",
              " 'ในข้อหา',\n",
              " 'ขับรถ',\n",
              " 'โดยประมาท',\n",
              " 'เป็นเหตุ',\n",
              " 'ให้ผู้อื่น',\n",
              " 'ได้รับ',\n",
              " 'อันตราย',\n",
              " 'แก่',\n",
              " 'กาย',\n",
              " '▁',\n",
              " 'ได้รับ',\n",
              " 'อันตราย',\n",
              " 'สาหัส',\n",
              " '▁และ',\n",
              " 'ถึง',\n",
              " 'แก่ความตาย',\n",
              " '▁',\n",
              " 'มีประเด็น',\n",
              " 'ตรงกับ',\n",
              " 'ประเด็น',\n",
              " 'ในคดีนี้',\n",
              " 'ที่ว่า',\n",
              " '▁',\n",
              " 'จําเลยที่',\n",
              " '▁',\n",
              " '2',\n",
              " '▁',\n",
              " 'ขับรถ',\n",
              " 'ด้วยความ',\n",
              " 'ประมาท',\n",
              " 'เ',\n",
              " 'ลิน',\n",
              " 'เล่อ',\n",
              " 'ปราศจาก',\n",
              " 'ความ',\n",
              " 'ระมัดระวัง',\n",
              " 'ตามที่',\n",
              " 'โจทก์',\n",
              " 'ที่',\n",
              " '▁',\n",
              " '1',\n",
              " '▁',\n",
              " 'ฟ้อง',\n",
              " 'หรือไม่',\n",
              " '▁เมื่อ',\n",
              " 'โจทก์',\n",
              " 'ที่',\n",
              " '▁',\n",
              " '1',\n",
              " '▁และ',\n",
              " 'จําเลยที่',\n",
              " '▁',\n",
              " '2',\n",
              " '▁',\n",
              " 'เป็นคู่',\n",
              " 'ความ',\n",
              " 'ในคดี',\n",
              " 'ดังกล่าว',\n",
              " '▁จึงต้อง',\n",
              " 'ผูกพัน',\n",
              " 'ตาม',\n",
              " 'คําพิพากษา',\n",
              " 'คดีอาญา',\n",
              " 'ดังกล่าว',\n",
              " '▁',\n",
              " 'คดีนี้',\n",
              " 'เป็น',\n",
              " 'คดีแพ่ง',\n",
              " 'ที่',\n",
              " 'เกี่ยว',\n",
              " 'เนื่องกับ',\n",
              " 'คดีอาญา',\n",
              " 'ในการ',\n",
              " 'พิพากษา',\n",
              " 'คดี',\n",
              " 'ส่วน',\n",
              " 'แพ่ง',\n",
              " '▁ศาล',\n",
              " 'จําต้อง',\n",
              " 'ถือ',\n",
              " 'ข้อเท็จ',\n",
              " 'จริง',\n",
              " 'ตาม',\n",
              " 'ที่ปรากฏใน',\n",
              " 'คําพิพากษา',\n",
              " 'คดี',\n",
              " 'ส่วน',\n",
              " 'อาญา',\n",
              " 'จึงต้อง',\n",
              " 'ฟัง',\n",
              " 'ว่า',\n",
              " 'จําเลยที่',\n",
              " '▁',\n",
              " '2',\n",
              " '▁',\n",
              " 'มิได้',\n",
              " 'ขับรถ',\n",
              " 'ด้วยความ',\n",
              " 'ประมาท',\n",
              " 'เ',\n",
              " 'ลิน',\n",
              " 'เล่อ',\n",
              " 'เป็นเหตุ',\n",
              " 'ให้ผู้อื่น',\n",
              " 'ถึง',\n",
              " 'แก่ความตาย',\n",
              " 'ได้รับ',\n",
              " 'อันตราย',\n",
              " 'สาหัส',\n",
              " 'และได้รับ',\n",
              " 'อันตราย',\n",
              " 'แก่',\n",
              " 'กาย',\n",
              " 'ตาม',\n",
              " 'ฟ้อง',\n",
              " '▁เมื่อ',\n",
              " 'จําเลยที่',\n",
              " '▁',\n",
              " '2',\n",
              " '▁',\n",
              " 'มิได้',\n",
              " 'กระทํา',\n",
              " 'ละเมิด',\n",
              " 'ต่อ',\n",
              " 'โจทก์',\n",
              " 'ที่',\n",
              " '▁',\n",
              " '1',\n",
              " '▁',\n",
              " 'จําเลยที่',\n",
              " '▁',\n",
              " '1',\n",
              " '▁ซึ่งเป็น',\n",
              " 'นายจ้าง',\n",
              " 'ของ',\n",
              " 'จําเลยที่',\n",
              " '▁',\n",
              " '2',\n",
              " '▁',\n",
              " 'จึงไม่',\n",
              " 'ต้องรับผิด',\n",
              " 'ใช้',\n",
              " 'ค่า',\n",
              " 'สิน',\n",
              " 'ไหม',\n",
              " 'ทดแทน',\n",
              " 'ตามที่',\n",
              " 'โจทก์',\n",
              " 'ที่',\n",
              " '▁',\n",
              " '1',\n",
              " '▁',\n",
              " 'ฟ้อง',\n",
              " 'ด้วย',\n",
              " '▁การที่',\n",
              " 'ศาลอุทธรณ์',\n",
              " 'พิพากษา',\n",
              " 'ยืน',\n",
              " 'ตาม',\n",
              " 'คําพิพากษา',\n",
              " 'ของ',\n",
              " 'ศาลชั้นต้น',\n",
              " '▁',\n",
              " 'ให้',\n",
              " 'จําเลยที่',\n",
              " '▁',\n",
              " '3',\n",
              " '▁',\n",
              " 'ถึง',\n",
              " 'ที่',\n",
              " '▁',\n",
              " '6',\n",
              " '▁',\n",
              " 'ชดใช้',\n",
              " 'เงิน',\n",
              " 'แก่',\n",
              " 'โจทก์',\n",
              " 'ที่',\n",
              " '▁',\n",
              " '3',\n",
              " '▁',\n",
              " 'ที่',\n",
              " '▁',\n",
              " '8',\n",
              " '▁',\n",
              " 'ที่',\n",
              " '▁',\n",
              " '17',\n",
              " '▁',\n",
              " 'ที่',\n",
              " '▁',\n",
              " '56',\n",
              " '▁และ',\n",
              " 'ที่',\n",
              " '▁',\n",
              " '63',\n",
              " '▁',\n",
              " 'เกินกว่า',\n",
              " 'จํานวน',\n",
              " 'ที่ปรากฏใน',\n",
              " 'คําขอ',\n",
              " 'ท้าย',\n",
              " 'ฟ้อง',\n",
              " 'โจทก์',\n",
              " 'แต่ละคน',\n",
              " 'ดังกล่าว',\n",
              " 'นั้น',\n",
              " '▁',\n",
              " 'เป็นปัญหา',\n",
              " 'ข้อกฎหมาย',\n",
              " 'อัน',\n",
              " 'เกี่ยวกับ',\n",
              " 'ความสงบ',\n",
              " 'เรียบร้อย',\n",
              " 'ของประชาชน',\n",
              " '▁แม้จะ',\n",
              " 'ไม่มี',\n",
              " 'คู่',\n",
              " 'ความ',\n",
              " 'ฝ่ายใด',\n",
              " 'ยก',\n",
              " 'ขึ้น',\n",
              " 'ฎีกา',\n",
              " '▁',\n",
              " 'ศาลฎีกา',\n",
              " 'ก็',\n",
              " 'มีอํานาจ',\n",
              " 'ยก',\n",
              " 'ขึ้น',\n",
              " 'วินิจฉัย',\n",
              " 'และ',\n",
              " 'แก้ไข',\n",
              " 'ให้ถูกต้อง',\n",
              " 'ได้ตาม',\n",
              " '▁',\n",
              " 'ป',\n",
              " '▁',\n",
              " '.',\n",
              " '</s>']"
            ]
          },
          "metadata": {},
          "execution_count": 16
        }
      ]
    },
    {
      "cell_type": "markdown",
      "source": [
        "# Prepare Model"
      ],
      "metadata": {
        "id": "GG-qhc_dGweV"
      }
    },
    {
      "cell_type": "code",
      "source": [
        "model_name.split('/')[-1]"
      ],
      "metadata": {
        "colab": {
          "base_uri": "https://localhost:8080/"
        },
        "id": "3EpYXZTF-DlY",
        "outputId": "7186e577-a77b-4d58-fcc5-bc0377833149"
      },
      "execution_count": null,
      "outputs": [
        {
          "output_type": "execute_result",
          "data": {
            "text/plain": [
              "'wangchanberta-base-att-spm-uncased'"
            ],
            "application/vnd.google.colaboratory.intrinsic+json": {
              "type": "string"
            }
          },
          "metadata": {},
          "execution_count": 17
        }
      ]
    },
    {
      "cell_type": "code",
      "source": [
        "from transformers import DataCollatorWithPadding\n",
        "\n",
        "data_collator = DataCollatorWithPadding(tokenizer,\n",
        "                                        padding=True, pad_to_multiple_of=8)\n",
        "tokenized_datasets = tokenized_datasets.remove_columns([\"text\"])\n",
        "tokenized_datasets[\"train\"].column_names"
      ],
      "metadata": {
        "colab": {
          "base_uri": "https://localhost:8080/"
        },
        "id": "JtZnihsXLQJQ",
        "outputId": "c168ec97-ea2d-45b8-d8ed-6b4c9a2e4db1"
      },
      "execution_count": null,
      "outputs": [
        {
          "output_type": "execute_result",
          "data": {
            "text/plain": [
              "['label', 'input_ids', 'attention_mask']"
            ]
          },
          "metadata": {},
          "execution_count": 18
        }
      ]
    },
    {
      "cell_type": "code",
      "source": [
        "tokenized_datasets['dev'][20]"
      ],
      "metadata": {
        "colab": {
          "base_uri": "https://localhost:8080/"
        },
        "id": "D3rawFweYlva",
        "outputId": "3700acc9-5bcc-4e70-8148-4871e5c65337"
      },
      "execution_count": null,
      "outputs": [
        {
          "output_type": "execute_result",
          "data": {
            "text/plain": [
              "{'label': 2,\n",
              " 'input_ids': [5,\n",
              "  10,\n",
              "  24330,\n",
              "  101,\n",
              "  203,\n",
              "  4515,\n",
              "  10,\n",
              "  4283,\n",
              "  1886,\n",
              "  10,\n",
              "  5202,\n",
              "  23632,\n",
              "  854,\n",
              "  15562,\n",
              "  54,\n",
              "  1283,\n",
              "  17832,\n",
              "  1710,\n",
              "  13758,\n",
              "  9765,\n",
              "  854,\n",
              "  1809,\n",
              "  166,\n",
              "  15228,\n",
              "  390,\n",
              "  15,\n",
              "  5202,\n",
              "  37,\n",
              "  2263,\n",
              "  1983,\n",
              "  18772,\n",
              "  31,\n",
              "  7809,\n",
              "  54,\n",
              "  17712,\n",
              "  24,\n",
              "  19337,\n",
              "  178,\n",
              "  72,\n",
              "  78,\n",
              "  10,\n",
              "  4283,\n",
              "  623,\n",
              "  10,\n",
              "  3897,\n",
              "  1809,\n",
              "  27,\n",
              "  3897,\n",
              "  15,\n",
              "  2370,\n",
              "  854,\n",
              "  718,\n",
              "  183,\n",
              "  26,\n",
              "  233,\n",
              "  10,\n",
              "  15964,\n",
              "  10,\n",
              "  68,\n",
              "  10,\n",
              "  2052,\n",
              "  254,\n",
              "  213,\n",
              "  454,\n",
              "  23632,\n",
              "  12,\n",
              "  718,\n",
              "  44,\n",
              "  54,\n",
              "  133,\n",
              "  17832,\n",
              "  2844,\n",
              "  16,\n",
              "  13758,\n",
              "  10,\n",
              "  3897,\n",
              "  141,\n",
              "  1809,\n",
              "  506,\n",
              "  2672,\n",
              "  854,\n",
              "  5713,\n",
              "  3897,\n",
              "  9787,\n",
              "  15228,\n",
              "  2052,\n",
              "  390,\n",
              "  10,\n",
              "  2052,\n",
              "  8965,\n",
              "  12,\n",
              "  5091,\n",
              "  3897,\n",
              "  17,\n",
              "  30,\n",
              "  3036,\n",
              "  5783,\n",
              "  554,\n",
              "  543,\n",
              "  60,\n",
              "  238,\n",
              "  130,\n",
              "  5816,\n",
              "  1602,\n",
              "  3570,\n",
              "  13758,\n",
              "  13,\n",
              "  600,\n",
              "  1809,\n",
              "  27,\n",
              "  2052,\n",
              "  211,\n",
              "  1885,\n",
              "  2370,\n",
              "  13758,\n",
              "  13,\n",
              "  2052,\n",
              "  94,\n",
              "  18772,\n",
              "  1101,\n",
              "  10,\n",
              "  3897,\n",
              "  5050,\n",
              "  1496,\n",
              "  1809,\n",
              "  12559,\n",
              "  526,\n",
              "  22,\n",
              "  12135,\n",
              "  90,\n",
              "  11007,\n",
              "  2052,\n",
              "  3535,\n",
              "  4545,\n",
              "  10634,\n",
              "  10,\n",
              "  3897,\n",
              "  6524,\n",
              "  10,\n",
              "  9665,\n",
              "  650,\n",
              "  90,\n",
              "  2471,\n",
              "  165,\n",
              "  376,\n",
              "  763,\n",
              "  3897,\n",
              "  3190,\n",
              "  12,\n",
              "  5091,\n",
              "  6642,\n",
              "  17,\n",
              "  554,\n",
              "  2376,\n",
              "  4275,\n",
              "  20098,\n",
              "  528,\n",
              "  12,\n",
              "  2052,\n",
              "  600,\n",
              "  1809,\n",
              "  94,\n",
              "  18772,\n",
              "  1101,\n",
              "  13,\n",
              "  211,\n",
              "  1885,\n",
              "  13758,\n",
              "  72,\n",
              "  211,\n",
              "  528,\n",
              "  576,\n",
              "  141,\n",
              "  4545,\n",
              "  21,\n",
              "  12,\n",
              "  13910,\n",
              "  5713,\n",
              "  1860,\n",
              "  61,\n",
              "  1210,\n",
              "  10,\n",
              "  15228,\n",
              "  2052,\n",
              "  390,\n",
              "  10,\n",
              "  2052,\n",
              "  10800,\n",
              "  10,\n",
              "  5074,\n",
              "  650,\n",
              "  2471,\n",
              "  165,\n",
              "  15,\n",
              "  63,\n",
              "  27,\n",
              "  12,\n",
              "  13910,\n",
              "  44,\n",
              "  543,\n",
              "  2844,\n",
              "  902,\n",
              "  10,\n",
              "  3897,\n",
              "  33,\n",
              "  8945,\n",
              "  5370,\n",
              "  1692,\n",
              "  8266,\n",
              "  895,\n",
              "  43,\n",
              "  182,\n",
              "  94,\n",
              "  420,\n",
              "  26,\n",
              "  233,\n",
              "  10,\n",
              "  15949,\n",
              "  35,\n",
              "  2762,\n",
              "  5126,\n",
              "  10,\n",
              "  68,\n",
              "  10,\n",
              "  1127,\n",
              "  17557,\n",
              "  2966,\n",
              "  6930,\n",
              "  544,\n",
              "  3897,\n",
              "  49,\n",
              "  21192,\n",
              "  366,\n",
              "  10,\n",
              "  3897,\n",
              "  4182,\n",
              "  3288,\n",
              "  24438,\n",
              "  24,\n",
              "  1751,\n",
              "  7068,\n",
              "  9663,\n",
              "  21431,\n",
              "  10,\n",
              "  194,\n",
              "  7084,\n",
              "  14555,\n",
              "  1805,\n",
              "  3483,\n",
              "  2762,\n",
              "  636,\n",
              "  528,\n",
              "  600,\n",
              "  1809,\n",
              "  17557,\n",
              "  6],\n",
              " 'attention_mask': [1,\n",
              "  1,\n",
              "  1,\n",
              "  1,\n",
              "  1,\n",
              "  1,\n",
              "  1,\n",
              "  1,\n",
              "  1,\n",
              "  1,\n",
              "  1,\n",
              "  1,\n",
              "  1,\n",
              "  1,\n",
              "  1,\n",
              "  1,\n",
              "  1,\n",
              "  1,\n",
              "  1,\n",
              "  1,\n",
              "  1,\n",
              "  1,\n",
              "  1,\n",
              "  1,\n",
              "  1,\n",
              "  1,\n",
              "  1,\n",
              "  1,\n",
              "  1,\n",
              "  1,\n",
              "  1,\n",
              "  1,\n",
              "  1,\n",
              "  1,\n",
              "  1,\n",
              "  1,\n",
              "  1,\n",
              "  1,\n",
              "  1,\n",
              "  1,\n",
              "  1,\n",
              "  1,\n",
              "  1,\n",
              "  1,\n",
              "  1,\n",
              "  1,\n",
              "  1,\n",
              "  1,\n",
              "  1,\n",
              "  1,\n",
              "  1,\n",
              "  1,\n",
              "  1,\n",
              "  1,\n",
              "  1,\n",
              "  1,\n",
              "  1,\n",
              "  1,\n",
              "  1,\n",
              "  1,\n",
              "  1,\n",
              "  1,\n",
              "  1,\n",
              "  1,\n",
              "  1,\n",
              "  1,\n",
              "  1,\n",
              "  1,\n",
              "  1,\n",
              "  1,\n",
              "  1,\n",
              "  1,\n",
              "  1,\n",
              "  1,\n",
              "  1,\n",
              "  1,\n",
              "  1,\n",
              "  1,\n",
              "  1,\n",
              "  1,\n",
              "  1,\n",
              "  1,\n",
              "  1,\n",
              "  1,\n",
              "  1,\n",
              "  1,\n",
              "  1,\n",
              "  1,\n",
              "  1,\n",
              "  1,\n",
              "  1,\n",
              "  1,\n",
              "  1,\n",
              "  1,\n",
              "  1,\n",
              "  1,\n",
              "  1,\n",
              "  1,\n",
              "  1,\n",
              "  1,\n",
              "  1,\n",
              "  1,\n",
              "  1,\n",
              "  1,\n",
              "  1,\n",
              "  1,\n",
              "  1,\n",
              "  1,\n",
              "  1,\n",
              "  1,\n",
              "  1,\n",
              "  1,\n",
              "  1,\n",
              "  1,\n",
              "  1,\n",
              "  1,\n",
              "  1,\n",
              "  1,\n",
              "  1,\n",
              "  1,\n",
              "  1,\n",
              "  1,\n",
              "  1,\n",
              "  1,\n",
              "  1,\n",
              "  1,\n",
              "  1,\n",
              "  1,\n",
              "  1,\n",
              "  1,\n",
              "  1,\n",
              "  1,\n",
              "  1,\n",
              "  1,\n",
              "  1,\n",
              "  1,\n",
              "  1,\n",
              "  1,\n",
              "  1,\n",
              "  1,\n",
              "  1,\n",
              "  1,\n",
              "  1,\n",
              "  1,\n",
              "  1,\n",
              "  1,\n",
              "  1,\n",
              "  1,\n",
              "  1,\n",
              "  1,\n",
              "  1,\n",
              "  1,\n",
              "  1,\n",
              "  1,\n",
              "  1,\n",
              "  1,\n",
              "  1,\n",
              "  1,\n",
              "  1,\n",
              "  1,\n",
              "  1,\n",
              "  1,\n",
              "  1,\n",
              "  1,\n",
              "  1,\n",
              "  1,\n",
              "  1,\n",
              "  1,\n",
              "  1,\n",
              "  1,\n",
              "  1,\n",
              "  1,\n",
              "  1,\n",
              "  1,\n",
              "  1,\n",
              "  1,\n",
              "  1,\n",
              "  1,\n",
              "  1,\n",
              "  1,\n",
              "  1,\n",
              "  1,\n",
              "  1,\n",
              "  1,\n",
              "  1,\n",
              "  1,\n",
              "  1,\n",
              "  1,\n",
              "  1,\n",
              "  1,\n",
              "  1,\n",
              "  1,\n",
              "  1,\n",
              "  1,\n",
              "  1,\n",
              "  1,\n",
              "  1,\n",
              "  1,\n",
              "  1,\n",
              "  1,\n",
              "  1,\n",
              "  1,\n",
              "  1,\n",
              "  1,\n",
              "  1,\n",
              "  1,\n",
              "  1,\n",
              "  1,\n",
              "  1,\n",
              "  1,\n",
              "  1,\n",
              "  1,\n",
              "  1,\n",
              "  1,\n",
              "  1,\n",
              "  1,\n",
              "  1,\n",
              "  1,\n",
              "  1,\n",
              "  1,\n",
              "  1,\n",
              "  1,\n",
              "  1,\n",
              "  1,\n",
              "  1,\n",
              "  1,\n",
              "  1,\n",
              "  1,\n",
              "  1,\n",
              "  1,\n",
              "  1,\n",
              "  1,\n",
              "  1,\n",
              "  1,\n",
              "  1,\n",
              "  1,\n",
              "  1,\n",
              "  1,\n",
              "  1,\n",
              "  1,\n",
              "  1,\n",
              "  1,\n",
              "  1,\n",
              "  1,\n",
              "  1,\n",
              "  1,\n",
              "  1,\n",
              "  1,\n",
              "  1,\n",
              "  1,\n",
              "  1,\n",
              "  1,\n",
              "  1,\n",
              "  1,\n",
              "  1,\n",
              "  1]}"
            ]
          },
          "metadata": {},
          "execution_count": 19
        }
      ]
    },
    {
      "cell_type": "code",
      "source": [
        "samples = tokenized_datasets[\"train\"][:8]\n",
        "samples = {k: v for k, v in samples.items()}\n",
        "[len(x) for x in samples[\"input_ids\"]]"
      ],
      "metadata": {
        "colab": {
          "base_uri": "https://localhost:8080/"
        },
        "id": "PJMOOAnkdb6F",
        "outputId": "1f10f268-6dff-455d-cd68-24c82a786d25"
      },
      "execution_count": null,
      "outputs": [
        {
          "output_type": "execute_result",
          "data": {
            "text/plain": [
              "[256, 256, 256, 192, 143, 256, 256, 256]"
            ]
          },
          "metadata": {},
          "execution_count": 20
        }
      ]
    },
    {
      "cell_type": "code",
      "source": [
        "batch = data_collator(samples)\n",
        "{k: v.shape for k, v in batch.items()}"
      ],
      "metadata": {
        "colab": {
          "base_uri": "https://localhost:8080/"
        },
        "id": "rDJWaJx5Wp5-",
        "outputId": "bffb8f41-3c21-46ae-ac14-c4f38c8d049f"
      },
      "execution_count": null,
      "outputs": [
        {
          "output_type": "stream",
          "name": "stderr",
          "text": [
            "You're using a CamembertTokenizerFast tokenizer. Please note that with a fast tokenizer, using the `__call__` method is faster than using a method to encode the text followed by a call to the `pad` method to get a padded encoding.\n"
          ]
        },
        {
          "output_type": "execute_result",
          "data": {
            "text/plain": [
              "{'input_ids': torch.Size([8, 256]),\n",
              " 'attention_mask': torch.Size([8, 256]),\n",
              " 'labels': torch.Size([8])}"
            ]
          },
          "metadata": {},
          "execution_count": 21
        }
      ]
    },
    {
      "cell_type": "code",
      "source": [
        "from datasets import list_metrics, load_metric\n",
        "list_metrics()"
      ],
      "metadata": {
        "colab": {
          "base_uri": "https://localhost:8080/"
        },
        "id": "Dhb2hAG5iLwb",
        "outputId": "4f0ef709-afde-418f-b9ae-9a4b8ec5d6c1"
      },
      "execution_count": null,
      "outputs": [
        {
          "output_type": "stream",
          "name": "stderr",
          "text": [
            "<ipython-input-22-3cf64b9e62a1>:2: FutureWarning: list_metrics is deprecated and will be removed in the next major version of datasets. Use 'evaluate.list_evaluation_modules' instead, from the new library 🤗 Evaluate: https://huggingface.co/docs/evaluate\n",
            "  list_metrics()\n"
          ]
        },
        {
          "output_type": "execute_result",
          "data": {
            "text/plain": [
              "['accuracy',\n",
              " 'bertscore',\n",
              " 'bleu',\n",
              " 'bleurt',\n",
              " 'brier_score',\n",
              " 'cer',\n",
              " 'chrf',\n",
              " 'code_eval',\n",
              " 'comet',\n",
              " 'competition_math',\n",
              " 'coval',\n",
              " 'cuad',\n",
              " 'exact_match',\n",
              " 'f1',\n",
              " 'frugalscore',\n",
              " 'glue',\n",
              " 'google_bleu',\n",
              " 'indic_glue',\n",
              " 'mae',\n",
              " 'mahalanobis',\n",
              " 'mape',\n",
              " 'mase',\n",
              " 'matthews_correlation',\n",
              " 'mauve',\n",
              " 'mean_iou',\n",
              " 'meteor',\n",
              " 'mse',\n",
              " 'pearsonr',\n",
              " 'perplexity',\n",
              " 'poseval',\n",
              " 'precision',\n",
              " 'recall',\n",
              " 'rl_reliability',\n",
              " 'roc_auc',\n",
              " 'rouge',\n",
              " 'sacrebleu',\n",
              " 'sari',\n",
              " 'seqeval',\n",
              " 'smape',\n",
              " 'spearmanr',\n",
              " 'squad',\n",
              " 'squad_v2',\n",
              " 'super_glue',\n",
              " 'ter',\n",
              " 'trec_eval',\n",
              " 'wer',\n",
              " 'wiki_split',\n",
              " 'xnli',\n",
              " 'xtreme_s',\n",
              " 'Drunper/metrica_tesi',\n",
              " 'Felipehonorato/my_metric',\n",
              " 'GMFTBY/dailydialog_evaluate',\n",
              " 'GMFTBY/dailydialogevaluate',\n",
              " 'JP-SystemsX/nDCG',\n",
              " 'KevinSpaghetti/accuracyk',\n",
              " 'NCSOFT/harim_plus',\n",
              " 'NikitaMartynov/spell-check-metric',\n",
              " 'NimaBoscarino/weat',\n",
              " 'Ochiroo/rouge_mn',\n",
              " 'Vertaix/vendiscore',\n",
              " 'Viona/infolm',\n",
              " 'Vlasta/pr_auc',\n",
              " 'abdusah/aradiawer',\n",
              " 'abidlabs/mean_iou',\n",
              " 'abidlabs/mean_iou2',\n",
              " 'angelina-wang/directional_bias_amplification',\n",
              " 'anz2/iliauniiccocrevaluation',\n",
              " 'cakiki/ndcg',\n",
              " 'codeparrot/apps_metric',\n",
              " 'cpllab/syntaxgym',\n",
              " 'daiyizheng/valid',\n",
              " 'dvitel/codebleu',\n",
              " 'erntkn/dice_coefficient',\n",
              " 'giulio98/code_eval_outputs',\n",
              " 'giulio98/codebleu',\n",
              " 'gnail/cosine_similarity',\n",
              " 'gorkaartola/metric_for_tp_fp_samples',\n",
              " 'hack/test_metric',\n",
              " 'hpi-dhc/FairEval',\n",
              " 'idsedykh/codebleu',\n",
              " 'idsedykh/codebleu2',\n",
              " 'idsedykh/megaglue',\n",
              " 'idsedykh/metric',\n",
              " 'jordyvl/ece',\n",
              " 'jpxkqx/peak_signal_to_noise_ratio',\n",
              " 'jpxkqx/signal_to_reconstrution_error',\n",
              " 'jzm-mailchimp/joshs_second_test_metric',\n",
              " 'kaggle/ai4code',\n",
              " 'kaggle/amex',\n",
              " 'kashif/mape',\n",
              " 'kasmith/woodscore',\n",
              " 'kyokote/my_metric2',\n",
              " 'leslyarun/fbeta_score',\n",
              " 'loubnabnl/apps_metric2',\n",
              " 'lvwerra/bary_score',\n",
              " 'lvwerra/test',\n",
              " 'mfumanelli/geometric_mean',\n",
              " 'mgfrantz/roc_auc_macro',\n",
              " 'ola13/precision_at_k',\n",
              " 'ronaldahmed/nwentfaithfulness',\n",
              " 'sportlosos/sescore',\n",
              " 'xu1998hz/sescore',\n",
              " 'yulong-me/yl_metric',\n",
              " 'yzha/ctc_eval',\n",
              " 'zbeloki/m2']"
            ]
          },
          "metadata": {},
          "execution_count": 22
        }
      ]
    },
    {
      "cell_type": "code",
      "source": [
        "load_metric('accuracy')"
      ],
      "metadata": {
        "colab": {
          "base_uri": "https://localhost:8080/"
        },
        "id": "uzXDVyaHihi_",
        "outputId": "6804cf85-e5ca-4e02-9741-aab7bca2908d"
      },
      "execution_count": null,
      "outputs": [
        {
          "output_type": "stream",
          "name": "stderr",
          "text": [
            "<ipython-input-23-180ef0c0d6c3>:1: FutureWarning: load_metric is deprecated and will be removed in the next major version of datasets. Use 'evaluate.load' instead, from the new library 🤗 Evaluate: https://huggingface.co/docs/evaluate\n",
            "  load_metric('accuracy')\n"
          ]
        },
        {
          "output_type": "execute_result",
          "data": {
            "text/plain": [
              "Metric(name: \"accuracy\", features: {'predictions': Value(dtype='int32', id=None), 'references': Value(dtype='int32', id=None)}, usage: \"\"\"\n",
              "Args:\n",
              "    predictions (`list` of `int`): Predicted labels.\n",
              "    references (`list` of `int`): Ground truth labels.\n",
              "    normalize (`boolean`): If set to False, returns the number of correctly classified samples. Otherwise, returns the fraction of correctly classified samples. Defaults to True.\n",
              "    sample_weight (`list` of `float`): Sample weights Defaults to None.\n",
              "\n",
              "Returns:\n",
              "    accuracy (`float` or `int`): Accuracy score. Minimum possible value is 0. Maximum possible value is 1.0, or the number of examples input, if `normalize` is set to `True`.. A higher score means higher accuracy.\n",
              "\n",
              "Examples:\n",
              "\n",
              "    Example 1-A simple example\n",
              "        >>> accuracy_metric = datasets.load_metric(\"accuracy\")\n",
              "        >>> results = accuracy_metric.compute(references=[0, 1, 2, 0, 1, 2], predictions=[0, 1, 1, 2, 1, 0])\n",
              "        >>> print(results)\n",
              "        {'accuracy': 0.5}\n",
              "\n",
              "    Example 2-The same as Example 1, except with `normalize` set to `False`.\n",
              "        >>> accuracy_metric = datasets.load_metric(\"accuracy\")\n",
              "        >>> results = accuracy_metric.compute(references=[0, 1, 2, 0, 1, 2], predictions=[0, 1, 1, 2, 1, 0], normalize=False)\n",
              "        >>> print(results)\n",
              "        {'accuracy': 3.0}\n",
              "\n",
              "    Example 3-The same as Example 1, except with `sample_weight` set.\n",
              "        >>> accuracy_metric = datasets.load_metric(\"accuracy\")\n",
              "        >>> results = accuracy_metric.compute(references=[0, 1, 2, 0, 1, 2], predictions=[0, 1, 1, 2, 1, 0], sample_weight=[0.5, 2, 0.7, 0.5, 9, 0.4])\n",
              "        >>> print(results)\n",
              "        {'accuracy': 0.8778625954198473}\n",
              "\"\"\", stored examples: 0)"
            ]
          },
          "metadata": {},
          "execution_count": 23
        }
      ]
    },
    {
      "cell_type": "markdown",
      "source": [
        "# Training a.k.a. babysitting"
      ],
      "metadata": {
        "id": "piAZstzHGziR"
      }
    },
    {
      "cell_type": "code",
      "source": [
        "args = TrainingArguments(\n",
        "    output_dir='nlp_III'\n",
        ")\n",
        "\n",
        "args2 = TrainingArguments(\n",
        "    output_dir='nlp_law',\n",
        "    learning_rate=3e-5,\n",
        "    per_device_train_batch_size=16,\n",
        "    per_device_eval_batch_size=16,\n",
        "    num_train_epochs=10,  \n",
        ")\n",
        "import numpy as np\n",
        "\n",
        "def compute_metrics(eval_preds):\n",
        "  metric = load_metric(\"accuracy\")\n",
        "  logits, labels = eval_preds\n",
        "  predictions = np.argmax(logits, axis=-1)\n",
        "  return metric.compute(predictions=predictions, references=labels)\n",
        "\n",
        "trainer = Trainer(\n",
        "    model,\n",
        "    args2,\n",
        "    train_dataset=tokenized_datasets[\"train\"],\n",
        "    data_collator=data_collator,\n",
        "    tokenizer=tokenizer,\n",
        "    compute_metrics=compute_metrics\n",
        ")\n",
        "trainer.train()"
      ],
      "metadata": {
        "colab": {
          "base_uri": "https://localhost:8080/",
          "height": 460
        },
        "id": "FvbMWigKOGw7",
        "outputId": "295af93f-5c56-4e5e-bd4d-d41d6622126e"
      },
      "execution_count": null,
      "outputs": [
        {
          "output_type": "stream",
          "name": "stderr",
          "text": [
            "PyTorch: setting up devices\n",
            "The default value for the training argument `--report_to` will change in v5 (from all installed integrations to none). In v5, you will need to use `--report_to all` to get the same behavior as now. You should start updating your code and make this info disappear :-).\n",
            "PyTorch: setting up devices\n",
            "The default value for the training argument `--report_to` will change in v5 (from all installed integrations to none). In v5, you will need to use `--report_to all` to get the same behavior as now. You should start updating your code and make this info disappear :-).\n",
            "/usr/local/lib/python3.8/dist-packages/transformers/optimization.py:306: FutureWarning: This implementation of AdamW is deprecated and will be removed in a future version. Use the PyTorch implementation torch.optim.AdamW instead, or set `no_deprecation_warning=True` to disable this warning\n",
            "  warnings.warn(\n",
            "***** Running training *****\n",
            "  Num examples = 304\n",
            "  Num Epochs = 10\n",
            "  Instantaneous batch size per device = 16\n",
            "  Total train batch size (w. parallel, distributed & accumulation) = 16\n",
            "  Gradient Accumulation steps = 1\n",
            "  Total optimization steps = 190\n",
            "  Number of trainable parameters = 105247492\n"
          ]
        },
        {
          "output_type": "display_data",
          "data": {
            "text/plain": [
              "<IPython.core.display.HTML object>"
            ],
            "text/html": [
              "\n",
              "    <div>\n",
              "      \n",
              "      <progress value='190' max='190' style='width:300px; height:20px; vertical-align: middle;'></progress>\n",
              "      [190/190 02:23, Epoch 10/10]\n",
              "    </div>\n",
              "    <table border=\"1\" class=\"dataframe\">\n",
              "  <thead>\n",
              " <tr style=\"text-align: left;\">\n",
              "      <th>Step</th>\n",
              "      <th>Training Loss</th>\n",
              "    </tr>\n",
              "  </thead>\n",
              "  <tbody>\n",
              "  </tbody>\n",
              "</table><p>"
            ]
          },
          "metadata": {}
        },
        {
          "output_type": "stream",
          "name": "stderr",
          "text": [
            "\n",
            "\n",
            "Training completed. Do not forget to share your model on huggingface.co/models =)\n",
            "\n",
            "\n"
          ]
        },
        {
          "output_type": "execute_result",
          "data": {
            "text/plain": [
              "TrainOutput(global_step=190, training_loss=0.17786331176757814, metrics={'train_runtime': 144.6421, 'train_samples_per_second': 21.017, 'train_steps_per_second': 1.314, 'total_flos': 399935985745920.0, 'train_loss': 0.17786331176757814, 'epoch': 10.0})"
            ]
          },
          "metadata": {},
          "execution_count": 35
        }
      ]
    },
    {
      "cell_type": "code",
      "source": [
        "predictions = trainer.predict(tokenized_datasets['dev'])\n",
        "preds = np.argmax(predictions.predictions, axis=-1)"
      ],
      "metadata": {
        "id": "5lyJD3g4jaPp",
        "colab": {
          "base_uri": "https://localhost:8080/",
          "height": 69
        },
        "outputId": "66446269-7a35-464f-e557-f440a98d93b3"
      },
      "execution_count": null,
      "outputs": [
        {
          "output_type": "stream",
          "name": "stderr",
          "text": [
            "***** Running Prediction *****\n",
            "  Num examples = 76\n",
            "  Batch size = 16\n"
          ]
        },
        {
          "output_type": "display_data",
          "data": {
            "text/plain": [
              "<IPython.core.display.HTML object>"
            ],
            "text/html": []
          },
          "metadata": {}
        }
      ]
    },
    {
      "cell_type": "code",
      "source": [
        "predictions"
      ],
      "metadata": {
        "colab": {
          "base_uri": "https://localhost:8080/"
        },
        "id": "Wz2DW9AZHgnC",
        "outputId": "d618b849-a181-4e11-9db4-06e25db85716"
      },
      "execution_count": null,
      "outputs": [
        {
          "output_type": "execute_result",
          "data": {
            "text/plain": [
              "PredictionOutput(predictions=array([[-0.2976758 , -1.2889723 ,  4.392546  , -3.1200294 ],\n",
              "       [-1.1736763 ,  5.759542  , -1.757885  , -2.5369415 ],\n",
              "       [ 5.4159017 , -1.5092775 , -0.79681516, -2.4689927 ],\n",
              "       [-0.17452627, -2.7269278 ,  4.3028235 , -2.02286   ],\n",
              "       [-0.4895086 ,  5.7312407 , -2.2923644 , -1.8227981 ],\n",
              "       [ 5.1436577 , -2.8871593 ,  0.7056568 , -2.597192  ],\n",
              "       [-2.7462242 ,  5.4570866 , -0.43386212, -1.8233886 ],\n",
              "       [-0.8131154 ,  2.8059444 , -1.9613886 ,  0.6685422 ],\n",
              "       [ 3.3993094 ,  1.8754436 , -0.67666215, -3.7461784 ],\n",
              "       [ 4.0747466 , -1.9341645 ,  1.6515377 , -3.4882298 ],\n",
              "       [-2.9645128 ,  4.973087  , -1.5845639 , -0.30747846],\n",
              "       [ 5.4710007 , -2.5399504 , -0.01585199, -2.2113469 ],\n",
              "       [-1.1466454 , -1.2618296 ,  4.226759  , -2.1484892 ],\n",
              "       [-0.8445054 ,  5.7555313 , -2.8457232 , -0.86735535],\n",
              "       [-0.52502435,  2.7188852 , -1.9798238 ,  0.58032024],\n",
              "       [-0.2434107 , -1.349763  , -1.6565403 ,  3.9226296 ],\n",
              "       [ 0.23301993, -0.7598193 ,  3.828305  , -4.0030103 ],\n",
              "       [ 5.5409913 , -2.1742127 , -0.26180232, -2.2658284 ],\n",
              "       [ 5.914991  , -2.108667  , -0.20025763, -2.7042212 ],\n",
              "       [ 5.4449334 , -2.37787   , -0.56662136, -1.8041537 ],\n",
              "       [-1.4709297 , -0.61401623,  3.928791  , -2.718018  ],\n",
              "       [ 5.538613  , -2.8049343 ,  0.25010395, -2.5884767 ],\n",
              "       [-1.1312625 , -1.2993731 ,  4.451831  , -2.6311784 ],\n",
              "       [-0.8133339 , -0.70133996, -2.1985574 ,  4.1934447 ],\n",
              "       [-0.71458954, -2.400943  , -0.80080235,  4.434333  ],\n",
              "       [-2.1574042 ,  5.737079  , -0.8380873 , -2.2597597 ],\n",
              "       [ 0.1004537 ,  4.828431  , -1.7631361 , -2.476388  ],\n",
              "       [ 2.728122  ,  1.2163526 ,  0.9686978 , -4.378859  ],\n",
              "       [ 5.430085  , -2.3456867 ,  0.28753972, -2.4165344 ],\n",
              "       [ 5.5641346 , -1.9750472 , -0.8072932 , -1.7687014 ],\n",
              "       [ 0.9531059 , -1.5968326 ,  3.7725172 , -3.423948  ],\n",
              "       [-1.2282509 ,  5.27623   , -1.412547  , -2.5605395 ],\n",
              "       [-0.082822  ,  5.593371  , -2.0290115 , -2.7121906 ],\n",
              "       [ 1.1036756 , -1.834902  ,  3.6807003 , -3.5181832 ],\n",
              "       [ 0.24605267, -1.775996  ,  3.807036  , -2.9146686 ],\n",
              "       [ 0.7204905 , -2.601787  , -1.529198  ,  4.0239077 ],\n",
              "       [ 5.821943  , -1.7543911 , -0.7497519 , -2.2823074 ],\n",
              "       [ 4.198078  , -0.64457715, -0.66583127, -2.2341292 ],\n",
              "       [-2.3954997 ,  5.0537157 , -2.316105  , -0.05618076],\n",
              "       [-1.2700558 , -1.4093988 , -1.3346046 ,  4.603426  ],\n",
              "       [-0.62003994,  4.9790983 , -1.7723573 , -2.0341966 ],\n",
              "       [ 5.707622  , -2.1658869 , -0.05148175, -2.390116  ],\n",
              "       [ 0.94364893, -2.339755  ,  3.6624334 , -2.5769236 ],\n",
              "       [ 5.1769605 , -0.89961654, -1.1061416 , -2.5197113 ],\n",
              "       [ 5.3545494 , -1.5543269 ,  0.1176905 , -3.3534708 ],\n",
              "       [ 5.5163293 , -3.4820867 ,  0.51021713, -2.1174388 ],\n",
              "       [ 5.549562  , -0.6302243 , -0.9805601 , -2.8799    ],\n",
              "       [-1.0232338 , -3.1351764 ,  0.11452398,  4.408632  ],\n",
              "       [ 5.4910493 , -1.2965705 , -0.50423944, -2.8079677 ],\n",
              "       [ 3.979259  , -2.0396342 ,  1.8234332 , -3.5361648 ],\n",
              "       [ 0.07866867, -2.685772  ,  4.2883363 , -2.3677046 ],\n",
              "       [ 0.06270552, -1.773008  ,  3.857742  , -2.5543177 ],\n",
              "       [ 5.1614366 , -2.1475797 ,  0.5757588 , -2.9842372 ],\n",
              "       [-0.16403608, -2.5169306 ,  4.5943074 , -2.4735453 ],\n",
              "       [ 5.474073  , -0.19011834, -1.8644524 , -2.038005  ],\n",
              "       [ 5.4716687 , -2.8399925 ,  0.6091459 , -2.6014612 ],\n",
              "       [ 5.4501076 , -1.5999151 , -0.7507609 , -1.7965981 ],\n",
              "       [-1.6183105 ,  5.5291324 , -1.0367715 , -2.8124847 ],\n",
              "       [ 5.220093  , -3.576102  ,  0.87752765, -2.2857645 ],\n",
              "       [-0.45293373,  5.262949  , -1.8490584 , -2.5515919 ],\n",
              "       [ 4.398013  , -3.3515103 ,  1.1339244 , -1.9606403 ],\n",
              "       [-2.6834517 ,  5.385654  ,  0.04006646, -2.3923624 ],\n",
              "       [ 0.7269752 , -2.111945  , -1.9320076 ,  4.2495074 ],\n",
              "       [-0.9933604 , -1.2873292 ,  4.2681212 , -2.503333  ],\n",
              "       [-0.73230135,  5.131727  , -0.74799395, -3.138253  ],\n",
              "       [ 1.0249177 , -2.4968836 ,  4.319287  , -3.2516286 ],\n",
              "       [ 4.9768343 , -1.5256009 , -1.5484685 , -1.0102496 ],\n",
              "       [-1.080151  , -0.19601485, -2.576519  ,  4.5659523 ],\n",
              "       [ 5.8090825 , -1.8083692 , -0.8918648 , -2.3837    ],\n",
              "       [ 1.408274  , -3.2496607 ,  2.8157587 , -1.2336773 ],\n",
              "       [-2.3978746 ,  4.2860756 ,  0.1814241 , -1.8336892 ],\n",
              "       [ 5.1775737 , -2.0943356 ,  0.49682653, -3.2918124 ],\n",
              "       [-2.5224159 ,  5.846687  , -1.0375944 , -1.8705213 ],\n",
              "       [ 5.6896043 , -1.4690678 , -1.7081205 , -1.4006078 ],\n",
              "       [ 2.9477782 ,  0.88602865,  1.0382347 , -4.372019  ],\n",
              "       [-1.4252833 , -1.1942184 , -1.8571446 ,  5.135691  ]],\n",
              "      dtype=float32), label_ids=array([2, 1, 0, 2, 1, 0, 1, 2, 1, 0, 1, 0, 2, 3, 2, 3, 2, 0, 3, 2, 2, 0,\n",
              "       2, 3, 3, 1, 1, 0, 0, 0, 2, 1, 3, 0, 2, 3, 0, 1, 1, 3, 1, 0, 0, 1,\n",
              "       0, 0, 0, 2, 0, 0, 2, 0, 0, 2, 0, 0, 3, 1, 0, 1, 0, 1, 3, 2, 1, 2,\n",
              "       0, 1, 0, 3, 2, 0, 1, 0, 0, 3]), metrics={'test_loss': 1.150428056716919, 'test_accuracy': 0.7763157894736842, 'test_runtime': 2.2955, 'test_samples_per_second': 33.109, 'test_steps_per_second': 2.178})"
            ]
          },
          "metadata": {},
          "execution_count": 37
        }
      ]
    },
    {
      "cell_type": "code",
      "source": [
        "predictions.label_ids"
      ],
      "metadata": {
        "colab": {
          "base_uri": "https://localhost:8080/"
        },
        "id": "sxFbSWoE0aUL",
        "outputId": "f895a24a-4155-4b7b-e2fb-5e392561b9c6"
      },
      "execution_count": null,
      "outputs": [
        {
          "output_type": "execute_result",
          "data": {
            "text/plain": [
              "array([2, 1, 0, 2, 1, 0, 1, 2, 1, 0, 1, 0, 2, 3, 2, 3, 2, 0, 3, 2, 2, 0,\n",
              "       2, 3, 3, 1, 1, 0, 0, 0, 2, 1, 3, 0, 2, 3, 0, 1, 1, 3, 1, 0, 0, 1,\n",
              "       0, 0, 0, 2, 0, 0, 2, 0, 0, 2, 0, 0, 3, 1, 0, 1, 0, 1, 3, 2, 1, 2,\n",
              "       0, 1, 0, 3, 2, 0, 1, 0, 0, 3])"
            ]
          },
          "metadata": {},
          "execution_count": 38
        }
      ]
    },
    {
      "cell_type": "code",
      "source": [
        "preds"
      ],
      "metadata": {
        "id": "U_kUAvF4gQli",
        "colab": {
          "base_uri": "https://localhost:8080/"
        },
        "outputId": "d3d8006e-0fa3-4c4f-941c-258f871275cc"
      },
      "execution_count": null,
      "outputs": [
        {
          "output_type": "execute_result",
          "data": {
            "text/plain": [
              "array([2, 1, 0, 2, 1, 0, 1, 1, 0, 0, 1, 0, 2, 1, 1, 3, 2, 0, 0, 0, 2, 0,\n",
              "       2, 3, 3, 1, 1, 0, 0, 0, 2, 1, 1, 2, 2, 3, 0, 0, 1, 3, 1, 0, 2, 0,\n",
              "       0, 0, 0, 3, 0, 0, 2, 2, 0, 2, 0, 0, 0, 1, 0, 1, 0, 1, 3, 2, 1, 2,\n",
              "       0, 3, 0, 2, 1, 0, 1, 0, 0, 3])"
            ]
          },
          "metadata": {},
          "execution_count": 39
        }
      ]
    },
    {
      "cell_type": "code",
      "source": [
        "predicted_labels = [labels[x] for x in preds]\n",
        "gold = [labels[x] for x in predictions.label_ids]"
      ],
      "metadata": {
        "id": "SPhRt8XyRKwU"
      },
      "execution_count": null,
      "outputs": []
    },
    {
      "cell_type": "markdown",
      "source": [
        "# Evaluation"
      ],
      "metadata": {
        "id": "D-8Gj4ydHAnY"
      }
    },
    {
      "cell_type": "code",
      "source": [
        "from sklearn.metrics import classification_report\n",
        "print(classification_report(gold, predicted_labels))"
      ],
      "metadata": {
        "colab": {
          "base_uri": "https://localhost:8080/"
        },
        "id": "F-T2jDIPs5Yv",
        "outputId": "b48b6644-94c6-4d57-d977-4009db9f7f02"
      },
      "execution_count": null,
      "outputs": [
        {
          "output_type": "stream",
          "name": "stdout",
          "text": [
            "                     precision    recall  f1-score   support\n",
            "\n",
            "          favorable       0.75      0.71      0.73        17\n",
            "              other       0.78      0.58      0.67        12\n",
            "partially favorable       0.81      0.90      0.85        29\n",
            "        unfavorable       0.74      0.78      0.76        18\n",
            "\n",
            "           accuracy                           0.78        76\n",
            "          macro avg       0.77      0.74      0.75        76\n",
            "       weighted avg       0.78      0.78      0.77        76\n",
            "\n"
          ]
        }
      ]
    },
    {
      "cell_type": "markdown",
      "source": [
        "# 90 epoch\n"
      ],
      "metadata": {
        "id": "chrsPHVqnA0h"
      }
    },
    {
      "cell_type": "markdown",
      "source": [
        "![nlpsysproj all2favor bert 90 epoch.png](data:image/png;base64,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)"
      ],
      "metadata": {
        "id": "CjbtoBmH_PmV"
      }
    },
    {
      "cell_type": "markdown",
      "source": [
        "# 90+20 Epoch\n"
      ],
      "metadata": {
        "id": "wxIaktRRqJ5W"
      }
    },
    {
      "cell_type": "markdown",
      "source": [
        "![nlpsysproj all2favor bert 110 epoch.png](data:image/png;base64,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)"
      ],
      "metadata": {
        "id": "Ih1xQZJI_LJJ"
      }
    },
    {
      "cell_type": "markdown",
      "source": [
        "# 10+10 Epochs\n",
        "- tokenizer max length = 256\n",
        "- learning_rate=3e-5\n",
        "- per_device_train_batch_size=16\n",
        "- per_device_eval_batch_size=16\n",
        "- num_train_epochs=10+10"
      ],
      "metadata": {
        "id": "Z1Ljll7feMtZ"
      }
    },
    {
      "cell_type": "markdown",
      "source": [
        "![image.png](data:image/png;base64,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)"
      ],
      "metadata": {
        "id": "mYf-uWAXeJaZ"
      }
    }
  ]
}