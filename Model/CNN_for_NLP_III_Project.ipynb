{
  "cells": [
    {
      "cell_type": "markdown",
      "source": [
        "# import"
      ],
      "metadata": {
        "id": "cYRdivdIkPAQ"
      },
      "id": "cYRdivdIkPAQ"
    },
    {
      "cell_type": "code",
      "execution_count": null,
      "metadata": {
        "id": "47149511-186b-4cd1-b484-a1a1d03f46aa",
        "colab": {
          "base_uri": "https://localhost:8080/"
        },
        "outputId": "52918f55-b08f-4b32-87db-755a50544f40"
      },
      "outputs": [
        {
          "output_type": "stream",
          "name": "stdout",
          "text": [
            "/usr/local/lib/python3.7/dist-packages/gdown/cli.py:131: FutureWarning: Option `--id` was deprecated in version 4.3.1 and will be removed in 5.0. You don't need to pass it anymore to use a file ID.\n",
            "  category=FutureWarning,\n",
            "Downloading...\n",
            "From: https://drive.google.com/uc?id=14lAF3cOiYkcagFvNnW4o9BKIDXMB0RPg\n",
            "To: /content/TNC_embeddings-50.bin\n",
            "100% 13.6M/13.6M [00:00<00:00, 276MB/s]\n",
            "/usr/local/lib/python3.7/dist-packages/gdown/cli.py:131: FutureWarning: Option `--id` was deprecated in version 4.3.1 and will be removed in 5.0. You don't need to pass it anymore to use a file ID.\n",
            "  category=FutureWarning,\n",
            "Downloading...\n",
            "From: https://drive.google.com/uc?id=14bv_aTSP-8rs_Bkudvpp8zcU3UpyRen6\n",
            "To: /content/TNC_embeddings-100.bin\n",
            "100% 25.9M/25.9M [00:00<00:00, 185MB/s]\n",
            "/usr/local/lib/python3.7/dist-packages/gdown/cli.py:131: FutureWarning: Option `--id` was deprecated in version 4.3.1 and will be removed in 5.0. You don't need to pass it anymore to use a file ID.\n",
            "  category=FutureWarning,\n",
            "Downloading...\n",
            "From: https://drive.google.com/uc?id=14k1PLN9MVszCK6zUIRcLzWLwEGdR0ABw\n",
            "To: /content/TNC_embeddings-200.bin\n",
            "100% 50.6M/50.6M [00:00<00:00, 291MB/s]\n"
          ]
        }
      ],
      "source": [
        "### embedd ไทย\n",
        "# # 50-unit embeddings\n",
        "!gdown --id 14lAF3cOiYkcagFvNnW4o9BKIDXMB0RPg\n",
        "\n",
        "# # 100-unit embeddings\n",
        "!gdown --id 14bv_aTSP-8rs_Bkudvpp8zcU3UpyRen6\n",
        "\n",
        "# # 200-unit embeddings\n",
        "!gdown --id 14k1PLN9MVszCK6zUIRcLzWLwEGdR0ABw"
      ],
      "id": "47149511-186b-4cd1-b484-a1a1d03f46aa"
    },
    {
      "cell_type": "code",
      "source": [
        "!pip install pythainlp\n",
        "import pythainlp as pyth\n",
        "import pandas as pd\n",
        "import re"
      ],
      "metadata": {
        "id": "h9kqpQIUyOlw",
        "colab": {
          "base_uri": "https://localhost:8080/"
        },
        "outputId": "b7da6203-f2d0-4ad9-f621-60d1a33b2a29"
      },
      "id": "h9kqpQIUyOlw",
      "execution_count": null,
      "outputs": [
        {
          "output_type": "stream",
          "name": "stdout",
          "text": [
            "Looking in indexes: https://pypi.org/simple, https://us-python.pkg.dev/colab-wheels/public/simple/\n",
            "Collecting pythainlp\n",
            "  Downloading pythainlp-3.1.1-py3-none-any.whl (9.6 MB)\n",
            "\u001b[K     |████████████████████████████████| 9.6 MB 20.5 MB/s \n",
            "\u001b[?25hRequirement already satisfied: requests>=2.22.0 in /usr/local/lib/python3.7/dist-packages (from pythainlp) (2.23.0)\n",
            "Requirement already satisfied: urllib3!=1.25.0,!=1.25.1,<1.26,>=1.21.1 in /usr/local/lib/python3.7/dist-packages (from requests>=2.22.0->pythainlp) (1.24.3)\n",
            "Requirement already satisfied: idna<3,>=2.5 in /usr/local/lib/python3.7/dist-packages (from requests>=2.22.0->pythainlp) (2.10)\n",
            "Requirement already satisfied: certifi>=2017.4.17 in /usr/local/lib/python3.7/dist-packages (from requests>=2.22.0->pythainlp) (2022.9.24)\n",
            "Requirement already satisfied: chardet<4,>=3.0.2 in /usr/local/lib/python3.7/dist-packages (from requests>=2.22.0->pythainlp) (3.0.4)\n",
            "Installing collected packages: pythainlp\n",
            "Successfully installed pythainlp-3.1.1\n"
          ]
        }
      ]
    },
    {
      "cell_type": "code",
      "execution_count": null,
      "metadata": {
        "id": "6E3LFERErdkj"
      },
      "outputs": [],
      "source": [
        "train = pd.read_csv('/content/train.csv')\n",
        "dev = pd.read_csv('/content/dev.csv')"
      ],
      "id": "6E3LFERErdkj"
    },
    {
      "cell_type": "code",
      "execution_count": null,
      "metadata": {
        "colab": {
          "base_uri": "https://localhost:8080/"
        },
        "id": "d5e1fd1c-f9a0-4b2c-8015-17c473dbc783",
        "outputId": "0e9e6a71-c127-4815-fe9d-5e9c6bd5d467"
      },
      "outputs": [
        {
          "output_type": "stream",
          "name": "stdout",
          "text": [
            "Colab only includes TensorFlow 2.x; %tensorflow_version has no effect.\n"
          ]
        }
      ],
      "source": [
        "%tensorflow_version 2.x\n",
        "\n",
        "import numpy as np\n",
        "import pandas as pd\n",
        "from numpy.linalg import norm\n",
        "from sklearn.metrics import classification_report, confusion_matrix\n",
        "from IPython.display import Image, display_png\n",
        "from gensim.models import word2vec, KeyedVectors\n",
        "from tensorflow.keras.models import Sequential\n",
        "from tensorflow.keras.layers import (\n",
        "    Input, Embedding, Dense, Dropout, Flatten, GlobalAveragePooling1D, Conv1D, GlobalMaxPooling1D\n",
        "    )\n",
        "from tensorflow.keras.utils import to_categorical, plot_model\n",
        "from tensorflow.keras.preprocessing.sequence import pad_sequences\n",
        "from tensorflow.keras.optimizers import RMSprop\n",
        "import matplotlib.pyplot as plt\n",
        "plt.style.use('ggplot')"
      ],
      "id": "d5e1fd1c-f9a0-4b2c-8015-17c473dbc783"
    },
    {
      "cell_type": "markdown",
      "metadata": {
        "id": "rg0R3ZLhjYYM"
      },
      "source": [
        "# Load the word embeddings and the data"
      ],
      "id": "rg0R3ZLhjYYM"
    },
    {
      "cell_type": "code",
      "execution_count": null,
      "metadata": {
        "id": "29b8a874-b9ae-40b3-be7a-5966be797dc1",
        "colab": {
          "base_uri": "https://localhost:8080/"
        },
        "outputId": "078f4a42-2daa-4ba3-b87b-dbe130fe6a1c"
      },
      "outputs": [
        {
          "output_type": "stream",
          "name": "stderr",
          "text": [
            "WARNING:gensim.models.utils_any2vec:duplicate word 'พระบาทสมเด็จพระพุทธยอดฟ้าจุฬาโลก' in /content/TNC_embeddings-100.bin, ignoring all but first\n"
          ]
        }
      ],
      "source": [
        "w2v_model = KeyedVectors.load_word2vec_format('/content/TNC_embeddings-100.bin', binary=True,limit=500000, unicode_errors='ignore')\n",
        "vocab_size = len(w2v_model.vocab)\n",
        "vector_dim = w2v_model.vector_size\n",
        "# make weight matrix of word embedding, vocab size + 1 (for padding)\n",
        "embedding_matrix = np.zeros((vocab_size+1, vector_dim), dtype=\"float32\")\n",
        "embedding_matrix[0] = np.zeros(vector_dim)\n",
        "\n",
        "word_to_index = {word:i+1 for i, word in enumerate(w2v_model.vocab)}\n",
        "# word to index dictionary, 0 for padding, UNKNOWN\n",
        "word_to_index['PADDING'] = 0 \n",
        "\n",
        "for i, word in enumerate(w2v_model.vocab):\n",
        "    embedding_matrix[i+1] = w2v_model[word] \n",
        "\n",
        "def convert_words(df, word_to_index, max_length):\n",
        "    tokens = df['text'].apply(lambda x: pyth.word_tokenize(x)) #ทำการ splitt text\n",
        "    list_of_list_of_indices = list(tokens.map(lambda x: [word_to_index.get(word, 0) for word in x]))\n",
        "    return pad_sequences(list_of_list_of_indices, max_length, padding='post', value=0, truncating='post')"
      ],
      "id": "29b8a874-b9ae-40b3-be7a-5966be797dc1"
    },
    {
      "cell_type": "code",
      "execution_count": null,
      "metadata": {
        "id": "aXCMPYsNyaMw"
      },
      "outputs": [],
      "source": [
        "# max length (กำหนดเอง)\n",
        "max_len = 600\n",
        "train_x = convert_words(train, word_to_index, max_len)\n",
        "dev_x = convert_words(dev, word_to_index, max_len)\n",
        "num_classes = 4\n",
        "\n",
        "def get_label(df):\n",
        "    star_to_label = {'favorable':0, 'other':1, 'partially favorable':2, 'unfavorable':3}\n",
        "    # apply functions & convert to np.array\n",
        "    label = np.array(df['label'].replace(star_to_label).tolist())\n",
        "    df['label'] = label\n",
        "    return to_categorical(label, num_classes=num_classes)\n",
        "\n",
        "# label : one-hot vector\n",
        "train_y = get_label(train)\n",
        "dev_y = get_label(dev)"
      ],
      "id": "aXCMPYsNyaMw"
    },
    {
      "cell_type": "markdown",
      "metadata": {
        "id": "JGEVOxT4jUCk"
      },
      "source": [
        "# Train the models"
      ],
      "id": "JGEVOxT4jUCk"
    },
    {
      "cell_type": "code",
      "execution_count": null,
      "metadata": {
        "id": "fd77a06a-3bba-4356-8067-cb874191cdc1"
      },
      "outputs": [],
      "source": [
        "def make_cnn_model(print_model=True):\n",
        "    filters = 150 #number of filters in your Convnet\n",
        "    kernel_size = 45 # a window size of tokens\n",
        "    hidden_dims = 150 #number of neurons at the normal feedforward NN\n",
        "    \n",
        "    cnn_model = Sequential()\n",
        "    cnn_model.add(Embedding(input_dim=vocab_size+1,\n",
        "                        input_length=max_len,\n",
        "                        output_dim=vector_dim, \n",
        "                        weights=[embedding_matrix], \n",
        "                        #mask_zero=True,\n",
        "                        trainable=True))\n",
        "\n",
        "    cnn_model.add(Conv1D(filters,\n",
        "                        kernel_size,\n",
        "                        input_shape=(max_len ,vector_dim),\n",
        "                        #padding='valid',\n",
        "                        activation='relu',\n",
        "                        strides=1,))\n",
        "    cnn_model.add(GlobalMaxPooling1D())\n",
        "    #GlobalMaxPooling1D(n) default = 2.\n",
        "    cnn_model.add(Dense(hidden_dims, activation='relu'))\n",
        "    cnn_model.add(Dropout(0.4))\n",
        "    cnn_model.add(Dense(4, activation='softmax'))\n",
        "    # compile model\n",
        "    cnn_model.compile(optimizer=\"adam\", loss=\"categorical_crossentropy\", metrics=[\"accuracy\"])\n",
        "    if print_model:\n",
        "        cnn_model.summary()\n",
        "        plot_model(cnn_model, show_shapes=True,to_file='model.png')\n",
        "        # display_png(Image('model.png'))\n",
        "    return cnn_model"
      ],
      "id": "fd77a06a-3bba-4356-8067-cb874191cdc1"
    },
    {
      "cell_type": "code",
      "execution_count": null,
      "metadata": {
        "colab": {
          "base_uri": "https://localhost:8080/"
        },
        "id": "EMSh89OtZj9P",
        "outputId": "00ad0870-40fd-4547-d837-4a119f43cd9d"
      },
      "outputs": [
        {
          "output_type": "stream",
          "name": "stdout",
          "text": [
            "Model: \"sequential_126\"\n",
            "_________________________________________________________________\n",
            " Layer (type)                Output Shape              Param #   \n",
            "=================================================================\n",
            " embedding_126 (Embedding)   (None, 600, 100)          6165900   \n",
            "                                                                 \n",
            " conv1d_126 (Conv1D)         (None, 556, 150)          675150    \n",
            "                                                                 \n",
            " global_max_pooling1d_126 (G  (None, 150)              0         \n",
            " lobalMaxPooling1D)                                              \n",
            "                                                                 \n",
            " dense_252 (Dense)           (None, 150)               22650     \n",
            "                                                                 \n",
            " dropout_126 (Dropout)       (None, 150)               0         \n",
            "                                                                 \n",
            " dense_253 (Dense)           (None, 4)                 604       \n",
            "                                                                 \n",
            "=================================================================\n",
            "Total params: 6,864,304\n",
            "Trainable params: 6,864,304\n",
            "Non-trainable params: 0\n",
            "_________________________________________________________________\n"
          ]
        }
      ],
      "source": [
        "cnn_model = make_cnn_model()"
      ],
      "id": "EMSh89OtZj9P"
    },
    {
      "cell_type": "code",
      "execution_count": null,
      "metadata": {
        "colab": {
          "base_uri": "https://localhost:8080/"
        },
        "id": "c83f276a-ff0c-48cb-9cbb-b00dadf2eef5",
        "outputId": "f0c5af3f-7ca9-41d4-a08f-452c0d2cffae"
      },
      "outputs": [
        {
          "output_type": "stream",
          "name": "stdout",
          "text": [
            "Epoch 1/12\n",
            "4/4 [==============================] - 1s 116ms/step - loss: 4.2550 - accuracy: 0.3158 - val_loss: 1.3575 - val_accuracy: 0.5395\n",
            "Epoch 2/12\n",
            "4/4 [==============================] - 0s 46ms/step - loss: 1.5264 - accuracy: 0.6020 - val_loss: 1.6197 - val_accuracy: 0.4868\n",
            "Epoch 3/12\n",
            "4/4 [==============================] - 0s 44ms/step - loss: 0.9916 - accuracy: 0.6809 - val_loss: 0.9521 - val_accuracy: 0.6184\n",
            "Epoch 4/12\n",
            "4/4 [==============================] - 0s 41ms/step - loss: 0.5921 - accuracy: 0.7862 - val_loss: 0.8971 - val_accuracy: 0.7500\n",
            "Epoch 5/12\n",
            "4/4 [==============================] - 0s 41ms/step - loss: 0.3569 - accuracy: 0.8750 - val_loss: 1.0438 - val_accuracy: 0.6711\n",
            "Epoch 6/12\n",
            "4/4 [==============================] - 0s 41ms/step - loss: 0.3515 - accuracy: 0.9112 - val_loss: 0.8856 - val_accuracy: 0.7632\n",
            "Epoch 7/12\n",
            "4/4 [==============================] - 0s 41ms/step - loss: 0.2661 - accuracy: 0.9046 - val_loss: 0.7484 - val_accuracy: 0.7895\n",
            "Epoch 8/12\n",
            "4/4 [==============================] - 0s 41ms/step - loss: 0.3129 - accuracy: 0.9178 - val_loss: 0.7696 - val_accuracy: 0.7632\n",
            "Epoch 9/12\n",
            "4/4 [==============================] - 0s 41ms/step - loss: 0.2843 - accuracy: 0.9145 - val_loss: 0.8348 - val_accuracy: 0.7500\n",
            "Epoch 10/12\n",
            "4/4 [==============================] - 0s 44ms/step - loss: 0.2585 - accuracy: 0.9309 - val_loss: 0.8153 - val_accuracy: 0.7763\n",
            "Epoch 11/12\n",
            "4/4 [==============================] - 0s 40ms/step - loss: 0.2251 - accuracy: 0.9441 - val_loss: 0.7657 - val_accuracy: 0.7763\n",
            "Epoch 12/12\n",
            "4/4 [==============================] - 0s 42ms/step - loss: 0.2570 - accuracy: 0.9342 - val_loss: 0.7245 - val_accuracy: 0.8026\n"
          ]
        }
      ],
      "source": [
        "# train\n",
        "cnn_history = cnn_model.fit(train_x, train_y, batch_size=96, epochs=12, validation_data=(dev_x, dev_y))"
      ],
      "id": "c83f276a-ff0c-48cb-9cbb-b00dadf2eef5"
    },
    {
      "cell_type": "code",
      "execution_count": null,
      "metadata": {
        "colab": {
          "base_uri": "https://localhost:8080/"
        },
        "id": "hQ3jJ21cUhK8",
        "outputId": "b38cf522-bba3-4cc0-b5b4-1432a24d7d02"
      },
      "outputs": [
        {
          "output_type": "stream",
          "name": "stdout",
          "text": [
            "3/3 [==============================] - 0s 3ms/step\n",
            "              precision    recall  f1-score   support\n",
            "\n",
            "           0       0.88      0.78      0.82        18\n",
            "           1       0.88      0.50      0.64        14\n",
            "           2       0.75      0.88      0.81        24\n",
            "           3       0.79      0.95      0.86        20\n",
            "\n",
            "    accuracy                           0.80        76\n",
            "   macro avg       0.82      0.78      0.78        76\n",
            "weighted avg       0.81      0.80      0.79        76\n",
            "\n"
          ]
        }
      ],
      "source": [
        "prediction = [np.argmax(x) for x in cnn_model.predict(dev_x)]\n",
        "print(classification_report(dev['label'], prediction))"
      ],
      "id": "hQ3jJ21cUhK8"
    },
    {
      "cell_type": "markdown",
      "metadata": {
        "id": "TvBRzG6Yv99B"
      },
      "source": [],
      "id": "TvBRzG6Yv99B"
    },
    {
      "cell_type": "code",
      "execution_count": null,
      "metadata": {
        "colab": {
          "base_uri": "https://localhost:8080/",
          "height": 282
        },
        "id": "d188bc80-3284-44a1-adf0-f69032d2f93d",
        "outputId": "55dc427e-c2c8-408f-a84f-1fd466c0e1c5"
      },
      "outputs": [
        {
          "output_type": "display_data",
          "data": {
            "text/plain": [
              "<Figure size 432x288 with 1 Axes>"
            ],
            "image/png": "[encoded data removed]"
          },
          "metadata": {}
        }
      ],
      "source": [
        "plt.plot(cnn_history.history['accuracy'])\n",
        "plt.plot(cnn_history.history['val_accuracy'])\n",
        "plt.ylabel('accuracy')\n",
        "plt.xlabel('epoch')\n",
        "plt.legend(['train', 'dev'], loc='best')\n",
        "plt.show()"
      ],
      "id": "d188bc80-3284-44a1-adf0-f69032d2f93d"
    },
    {
      "cell_type": "code",
      "execution_count": null,
      "metadata": {
        "colab": {
          "base_uri": "https://localhost:8080/",
          "height": 282
        },
        "id": "56416512-bd77-4d2b-82b6-c45b79cfe97e",
        "outputId": "a8a97232-64eb-4a03-ad5e-593afe93e7e6"
      },
      "outputs": [
        {
          "output_type": "display_data",
          "data": {
            "text/plain": [
              "<Figure size 432x288 with 1 Axes>"
            ],
            "image/png": "[encoded data removed]"
          },
          "metadata": {}
        }
      ],
      "source": [
        "plt.plot(cnn_history.history['loss'])\n",
        "plt.plot(cnn_history.history['val_loss'])\n",
        "plt.ylabel('loss')\n",
        "plt.xlabel('epoch')\n",
        "plt.legend(['train', 'dev'], loc='best')\n",
        "plt.show()"
      ],
      "id": "56416512-bd77-4d2b-82b6-c45b79cfe97e"
    },
    {
      "cell_type": "code",
      "execution_count": null,
      "metadata": {
        "colab": {
          "base_uri": "https://localhost:8080/"
        },
        "id": "bOx5xT6eXs0j",
        "outputId": "4927c193-941d-4b46-ce7e-0ca558e36418"
      },
      "outputs": [
        {
          "output_type": "stream",
          "name": "stdout",
          "text": [
            "3/3 [==============================] - 0s 6ms/step - loss: 0.7245 - accuracy: 0.8026\n"
          ]
        },
        {
          "output_type": "execute_result",
          "data": {
            "text/plain": [
              "0.8026315569877625"
            ]
          },
          "metadata": {},
          "execution_count": 607
        }
      ],
      "source": [
        "cnn_model.evaluate(dev_x, dev_y)[1]"
      ],
      "id": "bOx5xT6eXs0j"
    },
    {
      "cell_type": "markdown",
      "source": [
        "# train + fine tune แล้ว\n",
        "- TNC_embeddings-100.bin\n",
        "- max len = 600\n",
        "- filters = 150\n",
        "- kernel_size = 45\n",
        "- hidden_dims = 150\n",
        "- trainable=True\n",
        "- GlobalMaxPooling1D(n) default = 2\n",
        "- strides=1\n",
        "\n",
        "(ปล. ผลค่อนข้างเหวี่ยง หา parameter ที่ทุกครั้งที่ลอง train แล้วได้ผลใกล้เคียงเดิมค่อนข้างลำบาก อย่างมากคือหาได้เป็น f1 ที่ดีที่สุดเท่านั้น)\n",
        "\n",
        "![image.png](data:image/png;base64,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)"
      ],
      "metadata": {
        "id": "E_KTKP5hrE-W"
      },
      "id": "E_KTKP5hrE-W"
    },
    {
      "cell_type": "markdown",
      "metadata": {
        "id": "GnDT5teaogkW"
      },
      "source": [
        "# New Model with new data"
      ],
      "id": "GnDT5teaogkW"
    },
    {
      "cell_type": "code",
      "execution_count": null,
      "metadata": {
        "id": "gK93khmcogkX"
      },
      "outputs": [],
      "source": [
        "def make_cnn_model(print_model=True):\n",
        "    filters = 75 #number of filters in your Convnet\n",
        "    kernel_size = 45 # a window size of tokens\n",
        "    hidden_dims = 400 #number of neurons at the normal feedforward NN\n",
        "\n",
        "    cnn_model = Sequential()\n",
        "    cnn_model.add(Embedding(input_dim=vocab_size+1,\n",
        "                        input_length=max_len,\n",
        "                        output_dim=vector_dim, \n",
        "                        weights=[embedding_matrix], \n",
        "                        #mask_zero=True,\n",
        "                        trainable=True))\n",
        "\n",
        "    cnn_model.add(Conv1D(filters,\n",
        "                        kernel_size,\n",
        "                        input_shape=(max_len ,vector_dim),\n",
        "                        #padding='valid',\n",
        "                        activation='relu',\n",
        "                        strides=2,))\n",
        "    cnn_model.add(GlobalMaxPooling1D())\n",
        "    #GlobalMaxPooling1D(n) default = 2.\n",
        "    cnn_model.add(Dense(hidden_dims, activation='relu'))\n",
        "    cnn_model.add(Dropout(0.5))\n",
        "    cnn_model.add(Dense(4, activation='softmax'))\n",
        "    # compile model\n",
        "    cnn_model.compile(optimizer=\"adam\", loss=\"categorical_crossentropy\", metrics=[\"accuracy\"])\n",
        "    if print_model:\n",
        "        cnn_model.summary()\n",
        "        plot_model(cnn_model, show_shapes=True,to_file='model.png')\n",
        "        # display_png(Image('model.png'))\n",
        "    return cnn_model"
      ],
      "id": "gK93khmcogkX"
    },
    {
      "cell_type": "code",
      "execution_count": null,
      "metadata": {
        "colab": {
          "base_uri": "https://localhost:8080/"
        },
        "outputId": "9b60f2b3-ca66-4330-c96f-404d6f3d4b0f",
        "id": "Gp1o5OX9ogkY"
      },
      "outputs": [
        {
          "output_type": "stream",
          "name": "stdout",
          "text": [
            "Model: \"sequential_104\"\n",
            "_________________________________________________________________\n",
            " Layer (type)                Output Shape              Param #   \n",
            "=================================================================\n",
            " embedding_104 (Embedding)   (None, 600, 100)          6165900   \n",
            "                                                                 \n",
            " conv1d_104 (Conv1D)         (None, 278, 75)           337575    \n",
            "                                                                 \n",
            " global_max_pooling1d_104 (G  (None, 75)               0         \n",
            " lobalMaxPooling1D)                                              \n",
            "                                                                 \n",
            " dense_202 (Dense)           (None, 400)               30400     \n",
            "                                                                 \n",
            " dropout_101 (Dropout)       (None, 400)               0         \n",
            "                                                                 \n",
            " dense_203 (Dense)           (None, 4)                 1604      \n",
            "                                                                 \n",
            "=================================================================\n",
            "Total params: 6,535,479\n",
            "Trainable params: 6,535,479\n",
            "Non-trainable params: 0\n",
            "_________________________________________________________________\n"
          ]
        }
      ],
      "source": [
        "cnn_model = make_cnn_model()"
      ],
      "id": "Gp1o5OX9ogkY"
    },
    {
      "cell_type": "code",
      "execution_count": null,
      "metadata": {
        "colab": {
          "base_uri": "https://localhost:8080/"
        },
        "outputId": "bfb1ac87-ed2b-4c8d-d84f-485308634b27",
        "id": "pkTVw-sjogkZ"
      },
      "outputs": [
        {
          "output_type": "stream",
          "name": "stdout",
          "text": [
            "Epoch 1/12\n",
            "3/3 [==============================] - 1s 144ms/step - loss: 2.2193 - accuracy: 0.3900 - val_loss: 1.3229 - val_accuracy: 0.4533\n",
            "Epoch 2/12\n",
            "3/3 [==============================] - 0s 52ms/step - loss: 1.2309 - accuracy: 0.5200 - val_loss: 0.9721 - val_accuracy: 0.5867\n",
            "Epoch 3/12\n",
            "3/3 [==============================] - 0s 49ms/step - loss: 0.7211 - accuracy: 0.7667 - val_loss: 0.9615 - val_accuracy: 0.6933\n",
            "Epoch 4/12\n",
            "3/3 [==============================] - 0s 50ms/step - loss: 0.4807 - accuracy: 0.8433 - val_loss: 0.9040 - val_accuracy: 0.7600\n",
            "Epoch 5/12\n",
            "3/3 [==============================] - 0s 48ms/step - loss: 0.3063 - accuracy: 0.9067 - val_loss: 0.8261 - val_accuracy: 0.7733\n",
            "Epoch 6/12\n",
            "3/3 [==============================] - 0s 50ms/step - loss: 0.2516 - accuracy: 0.9167 - val_loss: 0.8818 - val_accuracy: 0.7733\n",
            "Epoch 7/12\n",
            "3/3 [==============================] - 0s 50ms/step - loss: 0.2066 - accuracy: 0.9200 - val_loss: 0.9361 - val_accuracy: 0.7600\n",
            "Epoch 8/12\n",
            "3/3 [==============================] - 0s 51ms/step - loss: 0.2332 - accuracy: 0.9133 - val_loss: 0.9159 - val_accuracy: 0.7733\n",
            "Epoch 9/12\n",
            "3/3 [==============================] - 0s 49ms/step - loss: 0.1835 - accuracy: 0.9533 - val_loss: 0.9146 - val_accuracy: 0.8000\n",
            "Epoch 10/12\n",
            "3/3 [==============================] - 0s 50ms/step - loss: 0.2033 - accuracy: 0.9500 - val_loss: 0.9533 - val_accuracy: 0.8000\n",
            "Epoch 11/12\n",
            "3/3 [==============================] - 0s 51ms/step - loss: 0.2025 - accuracy: 0.9433 - val_loss: 0.9433 - val_accuracy: 0.8000\n",
            "Epoch 12/12\n",
            "3/3 [==============================] - 0s 50ms/step - loss: 0.1898 - accuracy: 0.9433 - val_loss: 0.9218 - val_accuracy: 0.8000\n"
          ]
        }
      ],
      "source": [
        "# train\n",
        "cnn_history = cnn_model.fit(train_x, train_y, batch_size=128, epochs=12, validation_data=(dev_x, dev_y))"
      ],
      "id": "pkTVw-sjogkZ"
    },
    {
      "cell_type": "code",
      "execution_count": null,
      "metadata": {
        "colab": {
          "base_uri": "https://localhost:8080/"
        },
        "outputId": "0b97b485-9c2b-43a4-a9dc-c1821dd7dbf0",
        "id": "ZAgVd8OEogkZ"
      },
      "outputs": [
        {
          "output_type": "stream",
          "name": "stdout",
          "text": [
            "3/3 [==============================] - 0s 4ms/step\n",
            "              precision    recall  f1-score   support\n",
            "\n",
            "           0       0.64      0.82      0.72        11\n",
            "           1       0.86      0.46      0.60        13\n",
            "           2       0.88      0.84      0.86        25\n",
            "           3       0.80      0.92      0.86        26\n",
            "\n",
            "    accuracy                           0.80        75\n",
            "   macro avg       0.79      0.76      0.76        75\n",
            "weighted avg       0.81      0.80      0.79        75\n",
            "\n"
          ]
        }
      ],
      "source": [
        "prediction = [np.argmax(x) for x in cnn_model.predict(dev_x)]\n",
        "print(classification_report(dev['label'], prediction))"
      ],
      "id": "ZAgVd8OEogkZ"
    },
    {
      "cell_type": "code",
      "execution_count": null,
      "metadata": {
        "colab": {
          "base_uri": "https://localhost:8080/",
          "height": 282
        },
        "outputId": "aa684b93-80d9-40ee-af34-0fc63b145eb3",
        "id": "lHzre0Ptogka"
      },
      "outputs": [
        {
          "output_type": "display_data",
          "data": {
            "text/plain": [
              "<Figure size 432x288 with 1 Axes>"
            ],
            "image/png": "[encoded data removed]"
          },
          "metadata": {}
        }
      ],
      "source": [
        "plt.plot(cnn_history.history['accuracy'])\n",
        "plt.plot(cnn_history.history['val_accuracy'])\n",
        "plt.ylabel('accuracy')\n",
        "plt.xlabel('epoch')\n",
        "plt.legend(['train', 'dev'], loc='best')\n",
        "plt.show()"
      ],
      "id": "lHzre0Ptogka"
    },
    {
      "cell_type": "code",
      "execution_count": null,
      "metadata": {
        "colab": {
          "base_uri": "https://localhost:8080/",
          "height": 282
        },
        "outputId": "598c7cdb-984e-4823-94f7-3c0d28885e9d",
        "id": "09Jlg40Dogkb"
      },
      "outputs": [
        {
          "output_type": "display_data",
          "data": {
            "text/plain": [
              "<Figure size 432x288 with 1 Axes>"
            ],
            "image/png": "[encoded data removed]"
          },
          "metadata": {}
        }
      ],
      "source": [
        "plt.plot(cnn_history.history['loss'])\n",
        "plt.plot(cnn_history.history['val_loss'])\n",
        "plt.ylabel('loss')\n",
        "plt.xlabel('epoch')\n",
        "plt.legend(['train', 'dev'], loc='best')\n",
        "plt.show()"
      ],
      "id": "09Jlg40Dogkb"
    },
    {
      "cell_type": "code",
      "execution_count": null,
      "metadata": {
        "colab": {
          "base_uri": "https://localhost:8080/"
        },
        "outputId": "24261488-ba5e-4c8b-a9f6-85e9cd501d63",
        "id": "yLCYD_CPogkb"
      },
      "outputs": [
        {
          "output_type": "stream",
          "name": "stdout",
          "text": [
            "3/3 [==============================] - 0s 5ms/step - loss: 0.9218 - accuracy: 0.8000\n"
          ]
        },
        {
          "output_type": "execute_result",
          "data": {
            "text/plain": [
              "0.800000011920929"
            ]
          },
          "metadata": {},
          "execution_count": 645
        }
      ],
      "source": [
        "cnn_model.evaluate(dev_x, dev_y)[1]"
      ],
      "id": "yLCYD_CPogkb"
    },
    {
      "cell_type": "markdown",
      "source": [
        "# new model best score\n",
        "\n",
        "![image.png](data:image/png;base64,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)\n",
        "\n",
        "![image.png](data:image/png;base64,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)"
      ],
      "metadata": {
        "id": "zVXClNSdpbnt"
      },
      "id": "zVXClNSdpbnt"
    },
    {
      "cell_type": "code",
      "source": [],
      "metadata": {
        "id": "8xX2VTg1rxQp"
      },
      "id": "8xX2VTg1rxQp",
      "execution_count": null,
      "outputs": []
    }
  ],
  "metadata": {
    "accelerator": "GPU",
    "colab": {
      "collapsed_sections": [
        "8sxuy5z2envZ"
      ],
      "provenance": []
    },
    "kernelspec": {
      "display_name": "Python 3.7.6 64-bit ('base')",
      "language": "python",
      "name": "python37664bitbase8b8d68f032284cc1a31661d8852815cb"
    },
    "language_info": {
      "codemirror_mode": {
        "name": "ipython",
        "version": 3
      },
      "file_extension": ".py",
      "mimetype": "text/x-python",
      "name": "python",
      "nbconvert_exporter": "python",
      "pygments_lexer": "ipython3",
      "version": "3.7.6"
    }
  },
  "nbformat": 4,
  "nbformat_minor": 5
}