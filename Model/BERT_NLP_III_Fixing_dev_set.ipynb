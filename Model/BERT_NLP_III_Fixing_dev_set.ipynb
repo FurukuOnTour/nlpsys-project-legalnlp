{
  "nbformat": 4,
  "nbformat_minor": 0,
  "metadata": {
    "colab": {
      "provenance": [],
      "collapsed_sections": [
        "htqyxbC2GnJJ",
        "BmgiR3fwGrdE",
        "GG-qhc_dGweV"
      ]
    },
    "kernelspec": {
      "name": "python3",
      "display_name": "Python 3"
    },
    "language_info": {
      "name": "python"
    },
    "accelerator": "GPU",
    "gpuClass": "standard",
    "widgets": {
      "application/vnd.jupyter.widget-state+json": {
        "b6f6b72f8bed4ae8b80b1c677b3fadcb": {
          "model_module": "@jupyter-widgets/controls",
          "model_name": "HBoxModel",
          "model_module_version": "1.5.0",
          "state": {
            "_dom_classes": [],
            "_model_module": "@jupyter-widgets/controls",
            "_model_module_version": "1.5.0",
            "_model_name": "HBoxModel",
            "_view_count": null,
            "_view_module": "@jupyter-widgets/controls",
            "_view_module_version": "1.5.0",
            "_view_name": "HBoxView",
            "box_style": "",
            "children": [
              "IPY_MODEL_7c54fc8a06754020b3d90391eadf2846",
              "IPY_MODEL_4e7f41be993646f4a07c0819d4f838ae",
              "IPY_MODEL_a78eca89bee5417badf725b8d347615b"
            ],
            "layout": "IPY_MODEL_5c3fd0bcf30c4307b47ba8b3751c4ac9"
          }
        },
        "7c54fc8a06754020b3d90391eadf2846": {
          "model_module": "@jupyter-widgets/controls",
          "model_name": "HTMLModel",
          "model_module_version": "1.5.0",
          "state": {
            "_dom_classes": [],
            "_model_module": "@jupyter-widgets/controls",
            "_model_module_version": "1.5.0",
            "_model_name": "HTMLModel",
            "_view_count": null,
            "_view_module": "@jupyter-widgets/controls",
            "_view_module_version": "1.5.0",
            "_view_name": "HTMLView",
            "description": "",
            "description_tooltip": null,
            "layout": "IPY_MODEL_06034c9052d6462db2ba79abc413f9d0",
            "placeholder": "​",
            "style": "IPY_MODEL_44395b56e9ef4193bd6d1a2a31308174",
            "value": "100%"
          }
        },
        "4e7f41be993646f4a07c0819d4f838ae": {
          "model_module": "@jupyter-widgets/controls",
          "model_name": "FloatProgressModel",
          "model_module_version": "1.5.0",
          "state": {
            "_dom_classes": [],
            "_model_module": "@jupyter-widgets/controls",
            "_model_module_version": "1.5.0",
            "_model_name": "FloatProgressModel",
            "_view_count": null,
            "_view_module": "@jupyter-widgets/controls",
            "_view_module_version": "1.5.0",
            "_view_name": "ProgressView",
            "bar_style": "success",
            "description": "",
            "description_tooltip": null,
            "layout": "IPY_MODEL_82d7ce850b274763938c2540973e5812",
            "max": 1,
            "min": 0,
            "orientation": "horizontal",
            "style": "IPY_MODEL_3345bf0e65f14ffe9df3319acbdd8f0a",
            "value": 1
          }
        },
        "a78eca89bee5417badf725b8d347615b": {
          "model_module": "@jupyter-widgets/controls",
          "model_name": "HTMLModel",
          "model_module_version": "1.5.0",
          "state": {
            "_dom_classes": [],
            "_model_module": "@jupyter-widgets/controls",
            "_model_module_version": "1.5.0",
            "_model_name": "HTMLModel",
            "_view_count": null,
            "_view_module": "@jupyter-widgets/controls",
            "_view_module_version": "1.5.0",
            "_view_name": "HTMLView",
            "description": "",
            "description_tooltip": null,
            "layout": "IPY_MODEL_13001c419b0d4e8e903bd6bdafbc25bf",
            "placeholder": "​",
            "style": "IPY_MODEL_0cb7aab65a014859bbf2618d84d67a28",
            "value": " 1/1 [00:00&lt;00:00,  1.23ba/s]"
          }
        },
        "5c3fd0bcf30c4307b47ba8b3751c4ac9": {
          "model_module": "@jupyter-widgets/base",
          "model_name": "LayoutModel",
          "model_module_version": "1.2.0",
          "state": {
            "_model_module": "@jupyter-widgets/base",
            "_model_module_version": "1.2.0",
            "_model_name": "LayoutModel",
            "_view_count": null,
            "_view_module": "@jupyter-widgets/base",
            "_view_module_version": "1.2.0",
            "_view_name": "LayoutView",
            "align_content": null,
            "align_items": null,
            "align_self": null,
            "border": null,
            "bottom": null,
            "display": null,
            "flex": null,
            "flex_flow": null,
            "grid_area": null,
            "grid_auto_columns": null,
            "grid_auto_flow": null,
            "grid_auto_rows": null,
            "grid_column": null,
            "grid_gap": null,
            "grid_row": null,
            "grid_template_areas": null,
            "grid_template_columns": null,
            "grid_template_rows": null,
            "height": null,
            "justify_content": null,
            "justify_items": null,
            "left": null,
            "margin": null,
            "max_height": null,
            "max_width": null,
            "min_height": null,
            "min_width": null,
            "object_fit": null,
            "object_position": null,
            "order": null,
            "overflow": null,
            "overflow_x": null,
            "overflow_y": null,
            "padding": null,
            "right": null,
            "top": null,
            "visibility": null,
            "width": null
          }
        },
        "06034c9052d6462db2ba79abc413f9d0": {
          "model_module": "@jupyter-widgets/base",
          "model_name": "LayoutModel",
          "model_module_version": "1.2.0",
          "state": {
            "_model_module": "@jupyter-widgets/base",
            "_model_module_version": "1.2.0",
            "_model_name": "LayoutModel",
            "_view_count": null,
            "_view_module": "@jupyter-widgets/base",
            "_view_module_version": "1.2.0",
            "_view_name": "LayoutView",
            "align_content": null,
            "align_items": null,
            "align_self": null,
            "border": null,
            "bottom": null,
            "display": null,
            "flex": null,
            "flex_flow": null,
            "grid_area": null,
            "grid_auto_columns": null,
            "grid_auto_flow": null,
            "grid_auto_rows": null,
            "grid_column": null,
            "grid_gap": null,
            "grid_row": null,
            "grid_template_areas": null,
            "grid_template_columns": null,
            "grid_template_rows": null,
            "height": null,
            "justify_content": null,
            "justify_items": null,
            "left": null,
            "margin": null,
            "max_height": null,
            "max_width": null,
            "min_height": null,
            "min_width": null,
            "object_fit": null,
            "object_position": null,
            "order": null,
            "overflow": null,
            "overflow_x": null,
            "overflow_y": null,
            "padding": null,
            "right": null,
            "top": null,
            "visibility": null,
            "width": null
          }
        },
        "44395b56e9ef4193bd6d1a2a31308174": {
          "model_module": "@jupyter-widgets/controls",
          "model_name": "DescriptionStyleModel",
          "model_module_version": "1.5.0",
          "state": {
            "_model_module": "@jupyter-widgets/controls",
            "_model_module_version": "1.5.0",
            "_model_name": "DescriptionStyleModel",
            "_view_count": null,
            "_view_module": "@jupyter-widgets/base",
            "_view_module_version": "1.2.0",
            "_view_name": "StyleView",
            "description_width": ""
          }
        },
        "82d7ce850b274763938c2540973e5812": {
          "model_module": "@jupyter-widgets/base",
          "model_name": "LayoutModel",
          "model_module_version": "1.2.0",
          "state": {
            "_model_module": "@jupyter-widgets/base",
            "_model_module_version": "1.2.0",
            "_model_name": "LayoutModel",
            "_view_count": null,
            "_view_module": "@jupyter-widgets/base",
            "_view_module_version": "1.2.0",
            "_view_name": "LayoutView",
            "align_content": null,
            "align_items": null,
            "align_self": null,
            "border": null,
            "bottom": null,
            "display": null,
            "flex": null,
            "flex_flow": null,
            "grid_area": null,
            "grid_auto_columns": null,
            "grid_auto_flow": null,
            "grid_auto_rows": null,
            "grid_column": null,
            "grid_gap": null,
            "grid_row": null,
            "grid_template_areas": null,
            "grid_template_columns": null,
            "grid_template_rows": null,
            "height": null,
            "justify_content": null,
            "justify_items": null,
            "left": null,
            "margin": null,
            "max_height": null,
            "max_width": null,
            "min_height": null,
            "min_width": null,
            "object_fit": null,
            "object_position": null,
            "order": null,
            "overflow": null,
            "overflow_x": null,
            "overflow_y": null,
            "padding": null,
            "right": null,
            "top": null,
            "visibility": null,
            "width": null
          }
        },
        "3345bf0e65f14ffe9df3319acbdd8f0a": {
          "model_module": "@jupyter-widgets/controls",
          "model_name": "ProgressStyleModel",
          "model_module_version": "1.5.0",
          "state": {
            "_model_module": "@jupyter-widgets/controls",
            "_model_module_version": "1.5.0",
            "_model_name": "ProgressStyleModel",
            "_view_count": null,
            "_view_module": "@jupyter-widgets/base",
            "_view_module_version": "1.2.0",
            "_view_name": "StyleView",
            "bar_color": null,
            "description_width": ""
          }
        },
        "13001c419b0d4e8e903bd6bdafbc25bf": {
          "model_module": "@jupyter-widgets/base",
          "model_name": "LayoutModel",
          "model_module_version": "1.2.0",
          "state": {
            "_model_module": "@jupyter-widgets/base",
            "_model_module_version": "1.2.0",
            "_model_name": "LayoutModel",
            "_view_count": null,
            "_view_module": "@jupyter-widgets/base",
            "_view_module_version": "1.2.0",
            "_view_name": "LayoutView",
            "align_content": null,
            "align_items": null,
            "align_self": null,
            "border": null,
            "bottom": null,
            "display": null,
            "flex": null,
            "flex_flow": null,
            "grid_area": null,
            "grid_auto_columns": null,
            "grid_auto_flow": null,
            "grid_auto_rows": null,
            "grid_column": null,
            "grid_gap": null,
            "grid_row": null,
            "grid_template_areas": null,
            "grid_template_columns": null,
            "grid_template_rows": null,
            "height": null,
            "justify_content": null,
            "justify_items": null,
            "left": null,
            "margin": null,
            "max_height": null,
            "max_width": null,
            "min_height": null,
            "min_width": null,
            "object_fit": null,
            "object_position": null,
            "order": null,
            "overflow": null,
            "overflow_x": null,
            "overflow_y": null,
            "padding": null,
            "right": null,
            "top": null,
            "visibility": null,
            "width": null
          }
        },
        "0cb7aab65a014859bbf2618d84d67a28": {
          "model_module": "@jupyter-widgets/controls",
          "model_name": "DescriptionStyleModel",
          "model_module_version": "1.5.0",
          "state": {
            "_model_module": "@jupyter-widgets/controls",
            "_model_module_version": "1.5.0",
            "_model_name": "DescriptionStyleModel",
            "_view_count": null,
            "_view_module": "@jupyter-widgets/base",
            "_view_module_version": "1.2.0",
            "_view_name": "StyleView",
            "description_width": ""
          }
        },
        "f00170dd1cda4dc2a26fea2d311717fa": {
          "model_module": "@jupyter-widgets/controls",
          "model_name": "HBoxModel",
          "model_module_version": "1.5.0",
          "state": {
            "_dom_classes": [],
            "_model_module": "@jupyter-widgets/controls",
            "_model_module_version": "1.5.0",
            "_model_name": "HBoxModel",
            "_view_count": null,
            "_view_module": "@jupyter-widgets/controls",
            "_view_module_version": "1.5.0",
            "_view_name": "HBoxView",
            "box_style": "",
            "children": [
              "IPY_MODEL_22e211adf91d448aabee48c22d42056f",
              "IPY_MODEL_8357b96cba694b7ca1f953b356217961",
              "IPY_MODEL_b3a38e6ffa5b44fb97a2f356bc55ecdc"
            ],
            "layout": "IPY_MODEL_72c57d7921764c95aa48ad02c053ee1f"
          }
        },
        "22e211adf91d448aabee48c22d42056f": {
          "model_module": "@jupyter-widgets/controls",
          "model_name": "HTMLModel",
          "model_module_version": "1.5.0",
          "state": {
            "_dom_classes": [],
            "_model_module": "@jupyter-widgets/controls",
            "_model_module_version": "1.5.0",
            "_model_name": "HTMLModel",
            "_view_count": null,
            "_view_module": "@jupyter-widgets/controls",
            "_view_module_version": "1.5.0",
            "_view_name": "HTMLView",
            "description": "",
            "description_tooltip": null,
            "layout": "IPY_MODEL_9709625d443a407b98e25dc069016aad",
            "placeholder": "​",
            "style": "IPY_MODEL_60a9ab1f535b4e75bf3c38bea8e0d92d",
            "value": "100%"
          }
        },
        "8357b96cba694b7ca1f953b356217961": {
          "model_module": "@jupyter-widgets/controls",
          "model_name": "FloatProgressModel",
          "model_module_version": "1.5.0",
          "state": {
            "_dom_classes": [],
            "_model_module": "@jupyter-widgets/controls",
            "_model_module_version": "1.5.0",
            "_model_name": "FloatProgressModel",
            "_view_count": null,
            "_view_module": "@jupyter-widgets/controls",
            "_view_module_version": "1.5.0",
            "_view_name": "ProgressView",
            "bar_style": "success",
            "description": "",
            "description_tooltip": null,
            "layout": "IPY_MODEL_7771a687aaee49228d126b8176f986f5",
            "max": 1,
            "min": 0,
            "orientation": "horizontal",
            "style": "IPY_MODEL_9a37dba571094d7ca9d8f9e05e9fcbe6",
            "value": 1
          }
        },
        "b3a38e6ffa5b44fb97a2f356bc55ecdc": {
          "model_module": "@jupyter-widgets/controls",
          "model_name": "HTMLModel",
          "model_module_version": "1.5.0",
          "state": {
            "_dom_classes": [],
            "_model_module": "@jupyter-widgets/controls",
            "_model_module_version": "1.5.0",
            "_model_name": "HTMLModel",
            "_view_count": null,
            "_view_module": "@jupyter-widgets/controls",
            "_view_module_version": "1.5.0",
            "_view_name": "HTMLView",
            "description": "",
            "description_tooltip": null,
            "layout": "IPY_MODEL_3a3a0cf5b15647cc805660912d2cf5c3",
            "placeholder": "​",
            "style": "IPY_MODEL_57a07e11cf3d45a0b56dee4b630f6ef1",
            "value": " 1/1 [00:00&lt;00:00,  6.45ba/s]"
          }
        },
        "72c57d7921764c95aa48ad02c053ee1f": {
          "model_module": "@jupyter-widgets/base",
          "model_name": "LayoutModel",
          "model_module_version": "1.2.0",
          "state": {
            "_model_module": "@jupyter-widgets/base",
            "_model_module_version": "1.2.0",
            "_model_name": "LayoutModel",
            "_view_count": null,
            "_view_module": "@jupyter-widgets/base",
            "_view_module_version": "1.2.0",
            "_view_name": "LayoutView",
            "align_content": null,
            "align_items": null,
            "align_self": null,
            "border": null,
            "bottom": null,
            "display": null,
            "flex": null,
            "flex_flow": null,
            "grid_area": null,
            "grid_auto_columns": null,
            "grid_auto_flow": null,
            "grid_auto_rows": null,
            "grid_column": null,
            "grid_gap": null,
            "grid_row": null,
            "grid_template_areas": null,
            "grid_template_columns": null,
            "grid_template_rows": null,
            "height": null,
            "justify_content": null,
            "justify_items": null,
            "left": null,
            "margin": null,
            "max_height": null,
            "max_width": null,
            "min_height": null,
            "min_width": null,
            "object_fit": null,
            "object_position": null,
            "order": null,
            "overflow": null,
            "overflow_x": null,
            "overflow_y": null,
            "padding": null,
            "right": null,
            "top": null,
            "visibility": null,
            "width": null
          }
        },
        "9709625d443a407b98e25dc069016aad": {
          "model_module": "@jupyter-widgets/base",
          "model_name": "LayoutModel",
          "model_module_version": "1.2.0",
          "state": {
            "_model_module": "@jupyter-widgets/base",
            "_model_module_version": "1.2.0",
            "_model_name": "LayoutModel",
            "_view_count": null,
            "_view_module": "@jupyter-widgets/base",
            "_view_module_version": "1.2.0",
            "_view_name": "LayoutView",
            "align_content": null,
            "align_items": null,
            "align_self": null,
            "border": null,
            "bottom": null,
            "display": null,
            "flex": null,
            "flex_flow": null,
            "grid_area": null,
            "grid_auto_columns": null,
            "grid_auto_flow": null,
            "grid_auto_rows": null,
            "grid_column": null,
            "grid_gap": null,
            "grid_row": null,
            "grid_template_areas": null,
            "grid_template_columns": null,
            "grid_template_rows": null,
            "height": null,
            "justify_content": null,
            "justify_items": null,
            "left": null,
            "margin": null,
            "max_height": null,
            "max_width": null,
            "min_height": null,
            "min_width": null,
            "object_fit": null,
            "object_position": null,
            "order": null,
            "overflow": null,
            "overflow_x": null,
            "overflow_y": null,
            "padding": null,
            "right": null,
            "top": null,
            "visibility": null,
            "width": null
          }
        },
        "60a9ab1f535b4e75bf3c38bea8e0d92d": {
          "model_module": "@jupyter-widgets/controls",
          "model_name": "DescriptionStyleModel",
          "model_module_version": "1.5.0",
          "state": {
            "_model_module": "@jupyter-widgets/controls",
            "_model_module_version": "1.5.0",
            "_model_name": "DescriptionStyleModel",
            "_view_count": null,
            "_view_module": "@jupyter-widgets/base",
            "_view_module_version": "1.2.0",
            "_view_name": "StyleView",
            "description_width": ""
          }
        },
        "7771a687aaee49228d126b8176f986f5": {
          "model_module": "@jupyter-widgets/base",
          "model_name": "LayoutModel",
          "model_module_version": "1.2.0",
          "state": {
            "_model_module": "@jupyter-widgets/base",
            "_model_module_version": "1.2.0",
            "_model_name": "LayoutModel",
            "_view_count": null,
            "_view_module": "@jupyter-widgets/base",
            "_view_module_version": "1.2.0",
            "_view_name": "LayoutView",
            "align_content": null,
            "align_items": null,
            "align_self": null,
            "border": null,
            "bottom": null,
            "display": null,
            "flex": null,
            "flex_flow": null,
            "grid_area": null,
            "grid_auto_columns": null,
            "grid_auto_flow": null,
            "grid_auto_rows": null,
            "grid_column": null,
            "grid_gap": null,
            "grid_row": null,
            "grid_template_areas": null,
            "grid_template_columns": null,
            "grid_template_rows": null,
            "height": null,
            "justify_content": null,
            "justify_items": null,
            "left": null,
            "margin": null,
            "max_height": null,
            "max_width": null,
            "min_height": null,
            "min_width": null,
            "object_fit": null,
            "object_position": null,
            "order": null,
            "overflow": null,
            "overflow_x": null,
            "overflow_y": null,
            "padding": null,
            "right": null,
            "top": null,
            "visibility": null,
            "width": null
          }
        },
        "9a37dba571094d7ca9d8f9e05e9fcbe6": {
          "model_module": "@jupyter-widgets/controls",
          "model_name": "ProgressStyleModel",
          "model_module_version": "1.5.0",
          "state": {
            "_model_module": "@jupyter-widgets/controls",
            "_model_module_version": "1.5.0",
            "_model_name": "ProgressStyleModel",
            "_view_count": null,
            "_view_module": "@jupyter-widgets/base",
            "_view_module_version": "1.2.0",
            "_view_name": "StyleView",
            "bar_color": null,
            "description_width": ""
          }
        },
        "3a3a0cf5b15647cc805660912d2cf5c3": {
          "model_module": "@jupyter-widgets/base",
          "model_name": "LayoutModel",
          "model_module_version": "1.2.0",
          "state": {
            "_model_module": "@jupyter-widgets/base",
            "_model_module_version": "1.2.0",
            "_model_name": "LayoutModel",
            "_view_count": null,
            "_view_module": "@jupyter-widgets/base",
            "_view_module_version": "1.2.0",
            "_view_name": "LayoutView",
            "align_content": null,
            "align_items": null,
            "align_self": null,
            "border": null,
            "bottom": null,
            "display": null,
            "flex": null,
            "flex_flow": null,
            "grid_area": null,
            "grid_auto_columns": null,
            "grid_auto_flow": null,
            "grid_auto_rows": null,
            "grid_column": null,
            "grid_gap": null,
            "grid_row": null,
            "grid_template_areas": null,
            "grid_template_columns": null,
            "grid_template_rows": null,
            "height": null,
            "justify_content": null,
            "justify_items": null,
            "left": null,
            "margin": null,
            "max_height": null,
            "max_width": null,
            "min_height": null,
            "min_width": null,
            "object_fit": null,
            "object_position": null,
            "order": null,
            "overflow": null,
            "overflow_x": null,
            "overflow_y": null,
            "padding": null,
            "right": null,
            "top": null,
            "visibility": null,
            "width": null
          }
        },
        "57a07e11cf3d45a0b56dee4b630f6ef1": {
          "model_module": "@jupyter-widgets/controls",
          "model_name": "DescriptionStyleModel",
          "model_module_version": "1.5.0",
          "state": {
            "_model_module": "@jupyter-widgets/controls",
            "_model_module_version": "1.5.0",
            "_model_name": "DescriptionStyleModel",
            "_view_count": null,
            "_view_module": "@jupyter-widgets/base",
            "_view_module_version": "1.2.0",
            "_view_name": "StyleView",
            "description_width": ""
          }
        }
      }
    }
  },
  "cells": [
    {
      "cell_type": "markdown",
      "source": [
        "### IMPORT"
      ],
      "metadata": {
        "id": "qK9hX6OpTi5o"
      }
    },
    {
      "cell_type": "code",
      "source": [
        "import pandas as pd\n",
        "import re"
      ],
      "metadata": {
        "id": "kSt23c09aRid"
      },
      "execution_count": null,
      "outputs": []
    },
    {
      "cell_type": "markdown",
      "source": [
        "### CHECK AND PREPARE DATA"
      ],
      "metadata": {
        "id": "rRApe8nmTml4"
      }
    },
    {
      "cell_type": "code",
      "source": [
        "# train_df = pd.read_csv('/content/train.csv')\n",
        "# dev_df = pd.read_csv('/content/dev.csv')\n",
        "data = pd.read_csv('/content/all.csv')"
      ],
      "metadata": {
        "id": "tOXSfphiN6gZ"
      },
      "execution_count": null,
      "outputs": []
    },
    {
      "cell_type": "code",
      "source": [
        "from sklearn.model_selection import train_test_split\n",
        "\n",
        "train_df, dev_df = train_test_split(data, train_size=0.8, random_state=77)\n",
        "# dev_df, test_df = train_test_split(dev_test, test_size=0.5, random_state=77)\n",
        "\n",
        "labels = list(set(data['label'].to_list()))\n",
        "label_to_idx = {label:i for i,label in enumerate(labels)}\n",
        "label_list = [0] * len(labels)\n",
        "\n",
        "label_list = [0] * len(label_to_idx)\n",
        "for label in label_to_idx:\n",
        "  label_list[label_to_idx[label]] = label \n",
        "\n",
        "train_df['label'] = train_df['label'].apply(lambda x: label_to_idx[x])\n",
        "dev_df['label'] = dev_df['label'].apply(lambda x: label_to_idx[x])\n",
        "# test_df['label'] = test_df['label'].apply(lambda x: label_to_idx[x])"
      ],
      "metadata": {
        "id": "piIv9wWd6h5s"
      },
      "execution_count": null,
      "outputs": []
    },
    {
      "cell_type": "markdown",
      "source": [
        "# Transformer"
      ],
      "metadata": {
        "id": "lTV9OX8_42OD"
      }
    },
    {
      "cell_type": "code",
      "source": [
        "gpu_info = !nvidia-smi\n",
        "gpu_info = '\\n'.join(gpu_info)\n",
        "if gpu_info.find('failed') >= 0:\n",
        "  print('Not connected to a GPU')\n",
        "else:\n",
        "  print(gpu_info)"
      ],
      "metadata": {
        "colab": {
          "base_uri": "https://localhost:8080/"
        },
        "id": "L_ruNakf41aM",
        "outputId": "0634ca6a-0ae6-47e1-b4f2-63539bbbfd0f"
      },
      "execution_count": null,
      "outputs": [
        {
          "output_type": "stream",
          "name": "stdout",
          "text": [
            "Tue Nov 29 09:21:24 2022       \n",
            "+-----------------------------------------------------------------------------+\n",
            "| NVIDIA-SMI 460.32.03    Driver Version: 460.32.03    CUDA Version: 11.2     |\n",
            "|-------------------------------+----------------------+----------------------+\n",
            "| GPU  Name        Persistence-M| Bus-Id        Disp.A | Volatile Uncorr. ECC |\n",
            "| Fan  Temp  Perf  Pwr:Usage/Cap|         Memory-Usage | GPU-Util  Compute M. |\n",
            "|                               |                      |               MIG M. |\n",
            "|===============================+======================+======================|\n",
            "|   0  Tesla T4            Off  | 00000000:00:04.0 Off |                    0 |\n",
            "| N/A   76C    P8    14W /  70W |      0MiB / 15109MiB |      0%      Default |\n",
            "|                               |                      |                  N/A |\n",
            "+-------------------------------+----------------------+----------------------+\n",
            "                                                                               \n",
            "+-----------------------------------------------------------------------------+\n",
            "| Processes:                                                                  |\n",
            "|  GPU   GI   CI        PID   Type   Process name                  GPU Memory |\n",
            "|        ID   ID                                                   Usage      |\n",
            "|=============================================================================|\n",
            "|  No running processes found                                                 |\n",
            "+-----------------------------------------------------------------------------+\n"
          ]
        }
      ]
    },
    {
      "cell_type": "code",
      "source": [
        "!pip install transformers"
      ],
      "metadata": {
        "colab": {
          "base_uri": "https://localhost:8080/"
        },
        "id": "v0Ug41v0w5Mw",
        "outputId": "02819a68-b407-42c1-aaa4-8714513a7e03"
      },
      "execution_count": null,
      "outputs": [
        {
          "output_type": "stream",
          "name": "stdout",
          "text": [
            "Looking in indexes: https://pypi.org/simple, https://us-python.pkg.dev/colab-wheels/public/simple/\n",
            "Requirement already satisfied: transformers in /usr/local/lib/python3.7/dist-packages (4.24.0)\n",
            "Requirement already satisfied: tqdm>=4.27 in /usr/local/lib/python3.7/dist-packages (from transformers) (4.64.1)\n",
            "Requirement already satisfied: tokenizers!=0.11.3,<0.14,>=0.11.1 in /usr/local/lib/python3.7/dist-packages (from transformers) (0.13.2)\n",
            "Requirement already satisfied: regex!=2019.12.17 in /usr/local/lib/python3.7/dist-packages (from transformers) (2022.6.2)\n",
            "Requirement already satisfied: requests in /usr/local/lib/python3.7/dist-packages (from transformers) (2.23.0)\n",
            "Requirement already satisfied: packaging>=20.0 in /usr/local/lib/python3.7/dist-packages (from transformers) (21.3)\n",
            "Requirement already satisfied: importlib-metadata in /usr/local/lib/python3.7/dist-packages (from transformers) (4.13.0)\n",
            "Requirement already satisfied: huggingface-hub<1.0,>=0.10.0 in /usr/local/lib/python3.7/dist-packages (from transformers) (0.11.1)\n",
            "Requirement already satisfied: filelock in /usr/local/lib/python3.7/dist-packages (from transformers) (3.8.0)\n",
            "Requirement already satisfied: pyyaml>=5.1 in /usr/local/lib/python3.7/dist-packages (from transformers) (6.0)\n",
            "Requirement already satisfied: numpy>=1.17 in /usr/local/lib/python3.7/dist-packages (from transformers) (1.21.6)\n",
            "Requirement already satisfied: typing-extensions>=3.7.4.3 in /usr/local/lib/python3.7/dist-packages (from huggingface-hub<1.0,>=0.10.0->transformers) (4.1.1)\n",
            "Requirement already satisfied: pyparsing!=3.0.5,>=2.0.2 in /usr/local/lib/python3.7/dist-packages (from packaging>=20.0->transformers) (3.0.9)\n",
            "Requirement already satisfied: zipp>=0.5 in /usr/local/lib/python3.7/dist-packages (from importlib-metadata->transformers) (3.10.0)\n",
            "Requirement already satisfied: chardet<4,>=3.0.2 in /usr/local/lib/python3.7/dist-packages (from requests->transformers) (3.0.4)\n",
            "Requirement already satisfied: certifi>=2017.4.17 in /usr/local/lib/python3.7/dist-packages (from requests->transformers) (2022.9.24)\n",
            "Requirement already satisfied: urllib3!=1.25.0,!=1.25.1,<1.26,>=1.21.1 in /usr/local/lib/python3.7/dist-packages (from requests->transformers) (1.25.11)\n",
            "Requirement already satisfied: idna<3,>=2.5 in /usr/local/lib/python3.7/dist-packages (from requests->transformers) (2.10)\n"
          ]
        }
      ]
    },
    {
      "cell_type": "code",
      "source": [
        "!pip install datasets"
      ],
      "metadata": {
        "colab": {
          "base_uri": "https://localhost:8080/"
        },
        "id": "7S7ytf9_7Cg0",
        "outputId": "09901bae-5cfa-4cb8-b5f2-6489b53b12b1"
      },
      "execution_count": null,
      "outputs": [
        {
          "output_type": "stream",
          "name": "stdout",
          "text": [
            "Looking in indexes: https://pypi.org/simple, https://us-python.pkg.dev/colab-wheels/public/simple/\n",
            "Requirement already satisfied: datasets in /usr/local/lib/python3.7/dist-packages (2.7.1)\n",
            "Requirement already satisfied: pyyaml>=5.1 in /usr/local/lib/python3.7/dist-packages (from datasets) (6.0)\n",
            "Requirement already satisfied: requests>=2.19.0 in /usr/local/lib/python3.7/dist-packages (from datasets) (2.23.0)\n",
            "Requirement already satisfied: multiprocess in /usr/local/lib/python3.7/dist-packages (from datasets) (0.70.14)\n",
            "Requirement already satisfied: aiohttp in /usr/local/lib/python3.7/dist-packages (from datasets) (3.8.3)\n",
            "Requirement already satisfied: packaging in /usr/local/lib/python3.7/dist-packages (from datasets) (21.3)\n",
            "Requirement already satisfied: pyarrow>=6.0.0 in /usr/local/lib/python3.7/dist-packages (from datasets) (9.0.0)\n",
            "Requirement already satisfied: pandas in /usr/local/lib/python3.7/dist-packages (from datasets) (1.3.5)\n",
            "Requirement already satisfied: tqdm>=4.62.1 in /usr/local/lib/python3.7/dist-packages (from datasets) (4.64.1)\n",
            "Requirement already satisfied: fsspec[http]>=2021.11.1 in /usr/local/lib/python3.7/dist-packages (from datasets) (2022.11.0)\n",
            "Requirement already satisfied: huggingface-hub<1.0.0,>=0.2.0 in /usr/local/lib/python3.7/dist-packages (from datasets) (0.11.1)\n",
            "Requirement already satisfied: numpy>=1.17 in /usr/local/lib/python3.7/dist-packages (from datasets) (1.21.6)\n",
            "Requirement already satisfied: responses<0.19 in /usr/local/lib/python3.7/dist-packages (from datasets) (0.18.0)\n",
            "Requirement already satisfied: xxhash in /usr/local/lib/python3.7/dist-packages (from datasets) (3.1.0)\n",
            "Requirement already satisfied: importlib-metadata in /usr/local/lib/python3.7/dist-packages (from datasets) (4.13.0)\n",
            "Requirement already satisfied: dill<0.3.7 in /usr/local/lib/python3.7/dist-packages (from datasets) (0.3.6)\n",
            "Requirement already satisfied: charset-normalizer<3.0,>=2.0 in /usr/local/lib/python3.7/dist-packages (from aiohttp->datasets) (2.1.1)\n",
            "Requirement already satisfied: attrs>=17.3.0 in /usr/local/lib/python3.7/dist-packages (from aiohttp->datasets) (22.1.0)\n",
            "Requirement already satisfied: asynctest==0.13.0 in /usr/local/lib/python3.7/dist-packages (from aiohttp->datasets) (0.13.0)\n",
            "Requirement already satisfied: aiosignal>=1.1.2 in /usr/local/lib/python3.7/dist-packages (from aiohttp->datasets) (1.3.1)\n",
            "Requirement already satisfied: yarl<2.0,>=1.0 in /usr/local/lib/python3.7/dist-packages (from aiohttp->datasets) (1.8.1)\n",
            "Requirement already satisfied: async-timeout<5.0,>=4.0.0a3 in /usr/local/lib/python3.7/dist-packages (from aiohttp->datasets) (4.0.2)\n",
            "Requirement already satisfied: multidict<7.0,>=4.5 in /usr/local/lib/python3.7/dist-packages (from aiohttp->datasets) (6.0.2)\n",
            "Requirement already satisfied: frozenlist>=1.1.1 in /usr/local/lib/python3.7/dist-packages (from aiohttp->datasets) (1.3.3)\n",
            "Requirement already satisfied: typing-extensions>=3.7.4 in /usr/local/lib/python3.7/dist-packages (from aiohttp->datasets) (4.1.1)\n",
            "Requirement already satisfied: filelock in /usr/local/lib/python3.7/dist-packages (from huggingface-hub<1.0.0,>=0.2.0->datasets) (3.8.0)\n",
            "Requirement already satisfied: pyparsing!=3.0.5,>=2.0.2 in /usr/local/lib/python3.7/dist-packages (from packaging->datasets) (3.0.9)\n",
            "Requirement already satisfied: idna<3,>=2.5 in /usr/local/lib/python3.7/dist-packages (from requests>=2.19.0->datasets) (2.10)\n",
            "Requirement already satisfied: chardet<4,>=3.0.2 in /usr/local/lib/python3.7/dist-packages (from requests>=2.19.0->datasets) (3.0.4)\n",
            "Requirement already satisfied: urllib3!=1.25.0,!=1.25.1,<1.26,>=1.21.1 in /usr/local/lib/python3.7/dist-packages (from requests>=2.19.0->datasets) (1.25.11)\n",
            "Requirement already satisfied: certifi>=2017.4.17 in /usr/local/lib/python3.7/dist-packages (from requests>=2.19.0->datasets) (2022.9.24)\n",
            "Requirement already satisfied: zipp>=0.5 in /usr/local/lib/python3.7/dist-packages (from importlib-metadata->datasets) (3.10.0)\n",
            "Requirement already satisfied: python-dateutil>=2.7.3 in /usr/local/lib/python3.7/dist-packages (from pandas->datasets) (2.8.2)\n",
            "Requirement already satisfied: pytz>=2017.3 in /usr/local/lib/python3.7/dist-packages (from pandas->datasets) (2022.6)\n",
            "Requirement already satisfied: six>=1.5 in /usr/local/lib/python3.7/dist-packages (from python-dateutil>=2.7.3->pandas->datasets) (1.15.0)\n"
          ]
        }
      ]
    },
    {
      "cell_type": "code",
      "source": [
        "!pip install sentencepiece"
      ],
      "metadata": {
        "colab": {
          "base_uri": "https://localhost:8080/"
        },
        "id": "myELEpzJHbml",
        "outputId": "25c39ec6-04bf-4e41-d748-5a767d929a7e"
      },
      "execution_count": null,
      "outputs": [
        {
          "output_type": "stream",
          "name": "stdout",
          "text": [
            "Looking in indexes: https://pypi.org/simple, https://us-python.pkg.dev/colab-wheels/public/simple/\n",
            "Requirement already satisfied: sentencepiece in /usr/local/lib/python3.7/dist-packages (0.1.97)\n"
          ]
        }
      ]
    },
    {
      "cell_type": "code",
      "source": [
        "from transformers import (\n",
        "    AutoTokenizer, \n",
        "    AutoModel,\n",
        "    AutoModelForSequenceClassification, \n",
        "    AutoConfig,\n",
        "\n",
        "    Trainer, \n",
        "    TrainingArguments,\n",
        ")\n",
        "\n",
        "from datasets import (\n",
        "    Dataset,\n",
        "    DatasetDict,\n",
        "    Features, Sequence, ClassLabel, Value\n",
        ")"
      ],
      "metadata": {
        "id": "OdwPef1jDRs8"
      },
      "execution_count": null,
      "outputs": []
    },
    {
      "cell_type": "code",
      "source": [
        "model_name = 'airesearch/wangchanberta-base-att-spm-uncased'\n",
        "config = AutoConfig.from_pretrained(model_name, num_labels=len(labels))\n",
        "tokenizer = AutoTokenizer.from_pretrained(model_name)\n",
        "model = AutoModelForSequenceClassification.from_pretrained(model_name, \n",
        "                                                           config=config)\n",
        "\n"
      ],
      "metadata": {
        "colab": {
          "base_uri": "https://localhost:8080/"
        },
        "id": "3gByEy5ZUvHw",
        "outputId": "c43589ec-f049-4636-88c5-6bbeafb740c9"
      },
      "execution_count": null,
      "outputs": [
        {
          "output_type": "stream",
          "name": "stderr",
          "text": [
            "Some weights of the model checkpoint at airesearch/wangchanberta-base-att-spm-uncased were not used when initializing CamembertForSequenceClassification: ['lm_head.dense.bias', 'roberta.pooler.dense.weight', 'lm_head.decoder.weight', 'lm_head.layer_norm.weight', 'lm_head.decoder.bias', 'lm_head.layer_norm.bias', 'lm_head.dense.weight', 'lm_head.bias', 'roberta.pooler.dense.bias']\n",
            "- This IS expected if you are initializing CamembertForSequenceClassification from the checkpoint of a model trained on another task or with another architecture (e.g. initializing a BertForSequenceClassification model from a BertForPreTraining model).\n",
            "- This IS NOT expected if you are initializing CamembertForSequenceClassification from the checkpoint of a model that you expect to be exactly identical (initializing a BertForSequenceClassification model from a BertForSequenceClassification model).\n",
            "Some weights of CamembertForSequenceClassification were not initialized from the model checkpoint at airesearch/wangchanberta-base-att-spm-uncased and are newly initialized: ['classifier.out_proj.weight', 'classifier.dense.weight', 'classifier.dense.bias', 'classifier.out_proj.bias']\n",
            "You should probably TRAIN this model on a down-stream task to be able to use it for predictions and inference.\n"
          ]
        }
      ]
    },
    {
      "cell_type": "markdown",
      "source": [
        "# Use Dataset Module"
      ],
      "metadata": {
        "id": "htqyxbC2GnJJ"
      }
    },
    {
      "cell_type": "code",
      "source": [
        "train_dict = train_df.to_dict('series')\n",
        "dev_dict = dev_df.to_dict('series')\n",
        "# test_dict = test_df.to_dict('series')"
      ],
      "metadata": {
        "id": "FOKib1JC_qNe"
      },
      "execution_count": null,
      "outputs": []
    },
    {
      "cell_type": "code",
      "source": [
        "features= Features({\n",
        "                    #\"title tokens\": Sequence(Value(dtype='string')),\n",
        "                    \"text\": Value(dtype='string'),\n",
        "                    \n",
        "                    \"label\": ClassLabel(names=label_list)\n",
        "                })\n",
        "d = DatasetDict({'train': Dataset.from_dict(train_dict, features=features), \n",
        "                 'dev': Dataset.from_dict(dev_dict, features=features)})"
      ],
      "metadata": {
        "id": "TxotnaDQ6_Cc"
      },
      "execution_count": null,
      "outputs": []
    },
    {
      "cell_type": "code",
      "source": [
        "d"
      ],
      "metadata": {
        "colab": {
          "base_uri": "https://localhost:8080/"
        },
        "id": "pAMBhAYz8avJ",
        "outputId": "43c8668e-8509-4fe7-b0ac-8a8ca58cd7ad"
      },
      "execution_count": null,
      "outputs": [
        {
          "output_type": "execute_result",
          "data": {
            "text/plain": [
              "DatasetDict({\n",
              "    train: Dataset({\n",
              "        features: ['text', 'label'],\n",
              "        num_rows: 300\n",
              "    })\n",
              "    dev: Dataset({\n",
              "        features: ['text', 'label'],\n",
              "        num_rows: 75\n",
              "    })\n",
              "})"
            ]
          },
          "metadata": {},
          "execution_count": 12
        }
      ]
    },
    {
      "cell_type": "code",
      "source": [
        "d['train'][0]"
      ],
      "metadata": {
        "colab": {
          "base_uri": "https://localhost:8080/"
        },
        "id": "U7gD5il7ME1j",
        "outputId": "46c52999-05fa-4cc3-fc46-8a5c1ab0a3c3"
      },
      "execution_count": null,
      "outputs": [
        {
          "output_type": "execute_result",
          "data": {
            "text/plain": [
              "{'text': '2525/581ย่อสั้นจำเลยเป็นธนาคารละเลยไม่เรียกเก็บเงินตามเช็คให้โจทก์ซึ่งเป็นลูกค้าทั้งๆที่เงินในบัญชีของผู้สั่งจ่ายเช็คนั้นมีพอที่จะหักเข้าบัญชีให้โจทก์ได้ก่อนและบัญชีของผู้สั่งจ่ายก็อยู่ในธนาคารจำเลยเองเป็นเหตุให้เงินในบัญชีของผู้สั่งจ่ายกลับไม่พอชำระหนี้ตามเช็คให้โจทก์เพราะได้มีการถอนเงินรายอื่นหลายรายการจากบัญชีของผู้สั่งจ่ายในวันนั้นและจำเลยก็มิได้แจ้งเหตุขัดข้องและคืนเช็คให้โจทก์จำเลยจึงต้องรับผิดย่อยาวโจทก์ฟ้องว่าจำเลยที่1เป็นธนาคารจำเลยที่2เป็นลูกจ้างจำเลยที่1ทำหน้าที่สมุห์บัญชีธนาคารจำเลยที่1สาขาพิษณุโลกโจทก์เป็นลูกค้าของจำเลยที่1ได้เปิดบัญชีเงินฝากกระแสรายวันที่ธนาคารจำเลยที่1สาขาพิษณุโลกเมื่อวันที่31ตุลาคม2520โจทก์นำเช็คธนาคารจำเลยที่1สาขาพิษณุโลกเลขที่011399/2333ลงวันที่1พฤศจิกายน2520จำนวนเงิน100,000บาทซึ่งนายวิรัชจิรัฐติกาลโชติสั่งจ่ายชำระหนี้ให้โจทก์ไปฝากเข้าบัญชีของโจทก์เพื่อเรียกเก็บเงินจำเลยที่2เป็นผู้รับเช็คดังกล่าวไว้โจทก์เข้าใจว่าธนาคารจำเลยที่1ได้เรียกเก็บเงินให้โจทก์เรียบร้อยแล้วต่อมาเมื่อเดือนมิถุนายน2521โจทก์ได้ตรวจสอบบัญชีของโจทก์พบว่าจำเลยที่1และจำเลยที่2หาได้เรียกเก็บเงินตามเช็คให้โจทก์ไม่ทั้งไม่ได้แจ้งเหตุขัดข้องและไม่คืนเช็คให้โจทก์เมื่อโจทก์สอบถามก็ถูกปฏิเสธทำให้โจทก์เสียสิทธิเรียกร้องให้นายวิรัชชำระหนี้ตามเช็คเป็นการละเมิดต่อโจทก์จำเลยทั้งสองต้องร่วมกันรับผิดชดใช้ค่าสินไหมทดแทนพร้อมดอกเบี้ยจำเลยที่1ที่2ให้การว่าเมื่อวันที่31ตุลาคม2520โจทก์นำเช็คของธนาคารจำเลยที่1สาขาพิษณุโลกดังกล่าวมาเข้าบัญชีเงินฝากของโจทก์จริงเมื่อเช็คถึงกำหนดปรากฏว่าเงินในบัญชีกระแสรายวันของนายวิรัชผู้สั่งจ่ายไม่พอจ่ายจำเลยที่1จึงปฏิเสธการจ่ายเงินและคืนเช็คพร้อมกับใบคืนเช็คให้โจทก์รับไปแล้วตั้งแต่วันที่1พฤศจิกายน2520โจทก์ชอบที่จะฟ้องเรียกเงินจากนายวิรัชผู้สั่งจ่ายโจทก์ใช้สิทธิไม่สุจริตโจทก์รู้เรื่องธนาคารปฏิเสธการจ่ายเงินตั้งแต่วันที่10พฤศจิกายน2520แต่เพิ่งมาฟ้องคดีนี้เมื่อวันที่23เมษายน2522เกินกว่า1ปีแล้วคดีขาดอายุความขอให้ยกฟ้องศาลชั้นต้นพิพากษายกฟ้องโจทก์อุทธรณ์ศาลอุทธรณ์พิพากษายืนโจทก์ฎีกา',\n",
              " 'label': 1}"
            ]
          },
          "metadata": {},
          "execution_count": 13
        }
      ]
    },
    {
      "cell_type": "markdown",
      "source": [
        "# Tokenize"
      ],
      "metadata": {
        "id": "BmgiR3fwGrdE"
      }
    },
    {
      "cell_type": "code",
      "source": [
        "def tokenize(examples):\n",
        "    tokenized_inputs = tokenizer(examples[\"text\"], \n",
        "                                 is_split_into_words=False,\n",
        "                                 truncation=True,\n",
        "                                 max_length=256)\n",
        "    return tokenized_inputs\n",
        "tokenized_datasets = d.map(tokenize, batched=True)\n"
      ],
      "metadata": {
        "colab": {
          "base_uri": "https://localhost:8080/",
          "referenced_widgets": [
            "b6f6b72f8bed4ae8b80b1c677b3fadcb",
            "7c54fc8a06754020b3d90391eadf2846",
            "4e7f41be993646f4a07c0819d4f838ae",
            "a78eca89bee5417badf725b8d347615b",
            "5c3fd0bcf30c4307b47ba8b3751c4ac9",
            "06034c9052d6462db2ba79abc413f9d0",
            "44395b56e9ef4193bd6d1a2a31308174",
            "82d7ce850b274763938c2540973e5812",
            "3345bf0e65f14ffe9df3319acbdd8f0a",
            "13001c419b0d4e8e903bd6bdafbc25bf",
            "0cb7aab65a014859bbf2618d84d67a28",
            "f00170dd1cda4dc2a26fea2d311717fa",
            "22e211adf91d448aabee48c22d42056f",
            "8357b96cba694b7ca1f953b356217961",
            "b3a38e6ffa5b44fb97a2f356bc55ecdc",
            "72c57d7921764c95aa48ad02c053ee1f",
            "9709625d443a407b98e25dc069016aad",
            "60a9ab1f535b4e75bf3c38bea8e0d92d",
            "7771a687aaee49228d126b8176f986f5",
            "9a37dba571094d7ca9d8f9e05e9fcbe6",
            "3a3a0cf5b15647cc805660912d2cf5c3",
            "57a07e11cf3d45a0b56dee4b630f6ef1"
          ]
        },
        "id": "Dcgal5YNLR1B",
        "outputId": "7f8a4f45-ef0c-4975-bd8f-b9f29f5b92d9"
      },
      "execution_count": null,
      "outputs": [
        {
          "output_type": "display_data",
          "data": {
            "text/plain": [
              "  0%|          | 0/1 [00:00<?, ?ba/s]"
            ],
            "application/vnd.jupyter.widget-view+json": {
              "version_major": 2,
              "version_minor": 0,
              "model_id": "b6f6b72f8bed4ae8b80b1c677b3fadcb"
            }
          },
          "metadata": {}
        },
        {
          "output_type": "display_data",
          "data": {
            "text/plain": [
              "  0%|          | 0/1 [00:00<?, ?ba/s]"
            ],
            "application/vnd.jupyter.widget-view+json": {
              "version_major": 2,
              "version_minor": 0,
              "model_id": "f00170dd1cda4dc2a26fea2d311717fa"
            }
          },
          "metadata": {}
        }
      ]
    },
    {
      "cell_type": "code",
      "source": [
        "tokenizer.convert_ids_to_tokens(tokenized_datasets['train'][0]['input_ids'])"
      ],
      "metadata": {
        "colab": {
          "base_uri": "https://localhost:8080/"
        },
        "id": "H00_0_J4kbf_",
        "outputId": "8d330d30-c2ad-4c55-b8d6-5ab6b410b90a"
      },
      "execution_count": null,
      "outputs": [
        {
          "output_type": "execute_result",
          "data": {
            "text/plain": [
              "['<s>',\n",
              " '▁',\n",
              " '2525',\n",
              " '/5',\n",
              " '81',\n",
              " 'ย่อ',\n",
              " 'สั้น',\n",
              " 'จําเลย',\n",
              " 'เป็น',\n",
              " 'ธนาคาร',\n",
              " 'ละเลย',\n",
              " 'ไม่',\n",
              " 'เรียก',\n",
              " 'เก็บเงิน',\n",
              " 'ตาม',\n",
              " 'เช็ค',\n",
              " 'ให้',\n",
              " 'โจทก์',\n",
              " 'ซึ่งเป็น',\n",
              " 'ลูกค้า',\n",
              " 'ทั้งๆที่',\n",
              " 'เงิน',\n",
              " 'ในบัญชี',\n",
              " 'ของผู้',\n",
              " 'สั่ง',\n",
              " 'จ่าย',\n",
              " 'เช็ค',\n",
              " 'นั้นมี',\n",
              " 'พอที่จะ',\n",
              " 'หัก',\n",
              " 'เข้าบัญชี',\n",
              " 'ให้',\n",
              " 'โจทก์',\n",
              " 'ได้',\n",
              " 'ก่อน',\n",
              " 'และ',\n",
              " 'บัญชี',\n",
              " 'ของผู้',\n",
              " 'สั่ง',\n",
              " 'จ่าย',\n",
              " 'ก็',\n",
              " 'อยู่ใน',\n",
              " 'ธนาคาร',\n",
              " 'จําเลย',\n",
              " 'เอง',\n",
              " 'เป็นเหตุ',\n",
              " 'ให้เงิน',\n",
              " 'ในบัญชี',\n",
              " 'ของผู้',\n",
              " '</s>']"
            ]
          },
          "metadata": {},
          "execution_count": 15
        }
      ]
    },
    {
      "cell_type": "markdown",
      "source": [
        "# Prepare Model"
      ],
      "metadata": {
        "id": "GG-qhc_dGweV"
      }
    },
    {
      "cell_type": "code",
      "source": [
        "model_name.split('/')[-1]"
      ],
      "metadata": {
        "colab": {
          "base_uri": "https://localhost:8080/"
        },
        "id": "3EpYXZTF-DlY",
        "outputId": "953d8705-522b-4d14-86a4-1f65550e3da0"
      },
      "execution_count": null,
      "outputs": [
        {
          "output_type": "execute_result",
          "data": {
            "text/plain": [
              "'wangchanberta-base-att-spm-uncased'"
            ],
            "application/vnd.google.colaboratory.intrinsic+json": {
              "type": "string"
            }
          },
          "metadata": {},
          "execution_count": 16
        }
      ]
    },
    {
      "cell_type": "code",
      "source": [
        "from transformers import DataCollatorWithPadding\n",
        "\n",
        "data_collator = DataCollatorWithPadding(tokenizer,\n",
        "                                        padding=True, pad_to_multiple_of=8)\n",
        "tokenized_datasets = tokenized_datasets.remove_columns([\"text\"])\n",
        "#tokenized_datasets = tokenized_datasets.rename_column(\"label\", \"labels\")\n",
        "#tokenized_datasets.set_format(\"torch\")\n",
        "tokenized_datasets[\"train\"].column_names"
      ],
      "metadata": {
        "colab": {
          "base_uri": "https://localhost:8080/"
        },
        "id": "JtZnihsXLQJQ",
        "outputId": "fbb7a59d-3570-4eb5-f3ef-11e448d055e6"
      },
      "execution_count": null,
      "outputs": [
        {
          "output_type": "execute_result",
          "data": {
            "text/plain": [
              "['label', 'input_ids', 'attention_mask']"
            ]
          },
          "metadata": {},
          "execution_count": 17
        }
      ]
    },
    {
      "cell_type": "code",
      "source": [
        "tokenized_datasets['dev'][20]"
      ],
      "metadata": {
        "colab": {
          "base_uri": "https://localhost:8080/"
        },
        "id": "D3rawFweYlva",
        "outputId": "162a472d-7def-4ea5-fc87-eecd84092b04"
      },
      "execution_count": null,
      "outputs": [
        {
          "output_type": "execute_result",
          "data": {
            "text/plain": [
              "{'label': 0,\n",
              " 'input_ids': [5,\n",
              "  10,\n",
              "  12720,\n",
              "  4554,\n",
              "  790,\n",
              "  4283,\n",
              "  1886,\n",
              "  3897,\n",
              "  33,\n",
              "  2052,\n",
              "  10545,\n",
              "  24988,\n",
              "  1429,\n",
              "  7653,\n",
              "  6971,\n",
              "  10861,\n",
              "  12,\n",
              "  3685,\n",
              "  30,\n",
              "  1171,\n",
              "  1191,\n",
              "  12319,\n",
              "  2052,\n",
              "  1644,\n",
              "  3548,\n",
              "  100,\n",
              "  3897,\n",
              "  3897,\n",
              "  5050,\n",
              "  1496,\n",
              "  1809,\n",
              "  657,\n",
              "  267,\n",
              "  3314,\n",
              "  335,\n",
              "  3645,\n",
              "  32,\n",
              "  2052,\n",
              "  15,\n",
              "  4283,\n",
              "  623,\n",
              "  3897,\n",
              "  1809,\n",
              "  27,\n",
              "  2052,\n",
              "  16153,\n",
              "  23138,\n",
              "  1575,\n",
              "  1429,\n",
              "  6],\n",
              " 'attention_mask': [1,\n",
              "  1,\n",
              "  1,\n",
              "  1,\n",
              "  1,\n",
              "  1,\n",
              "  1,\n",
              "  1,\n",
              "  1,\n",
              "  1,\n",
              "  1,\n",
              "  1,\n",
              "  1,\n",
              "  1,\n",
              "  1,\n",
              "  1,\n",
              "  1,\n",
              "  1,\n",
              "  1,\n",
              "  1,\n",
              "  1,\n",
              "  1,\n",
              "  1,\n",
              "  1,\n",
              "  1,\n",
              "  1,\n",
              "  1,\n",
              "  1,\n",
              "  1,\n",
              "  1,\n",
              "  1,\n",
              "  1,\n",
              "  1,\n",
              "  1,\n",
              "  1,\n",
              "  1,\n",
              "  1,\n",
              "  1,\n",
              "  1,\n",
              "  1,\n",
              "  1,\n",
              "  1,\n",
              "  1,\n",
              "  1,\n",
              "  1,\n",
              "  1,\n",
              "  1,\n",
              "  1,\n",
              "  1,\n",
              "  1]}"
            ]
          },
          "metadata": {},
          "execution_count": 18
        }
      ]
    },
    {
      "cell_type": "code",
      "source": [
        "samples = tokenized_datasets[\"train\"][:8]\n",
        "samples = {k: v for k, v in samples.items()}\n",
        "[len(x) for x in samples[\"input_ids\"]]"
      ],
      "metadata": {
        "colab": {
          "base_uri": "https://localhost:8080/"
        },
        "id": "PJMOOAnkdb6F",
        "outputId": "2fedab33-cca1-4b00-f70c-4404d1d1ba3f"
      },
      "execution_count": null,
      "outputs": [
        {
          "output_type": "execute_result",
          "data": {
            "text/plain": [
              "[50, 50, 50, 25, 50, 50, 50, 50]"
            ]
          },
          "metadata": {},
          "execution_count": 19
        }
      ]
    },
    {
      "cell_type": "code",
      "source": [
        "batch = data_collator(samples)\n",
        "{k: v.shape for k, v in batch.items()}"
      ],
      "metadata": {
        "colab": {
          "base_uri": "https://localhost:8080/"
        },
        "id": "rDJWaJx5Wp5-",
        "outputId": "f5898a51-09c7-4cb0-9946-044baa0aadbb"
      },
      "execution_count": null,
      "outputs": [
        {
          "output_type": "stream",
          "name": "stderr",
          "text": [
            "You're using a CamembertTokenizerFast tokenizer. Please note that with a fast tokenizer, using the `__call__` method is faster than using a method to encode the text followed by a call to the `pad` method to get a padded encoding.\n"
          ]
        },
        {
          "output_type": "execute_result",
          "data": {
            "text/plain": [
              "{'input_ids': torch.Size([8, 56]),\n",
              " 'attention_mask': torch.Size([8, 56]),\n",
              " 'labels': torch.Size([8])}"
            ]
          },
          "metadata": {},
          "execution_count": 20
        }
      ]
    },
    {
      "cell_type": "code",
      "source": [
        "from datasets import list_metrics, load_metric\n",
        "list_metrics()"
      ],
      "metadata": {
        "colab": {
          "base_uri": "https://localhost:8080/"
        },
        "id": "Dhb2hAG5iLwb",
        "outputId": "4e653dfe-b6a5-4b48-d173-ab08a17154b8"
      },
      "execution_count": null,
      "outputs": [
        {
          "output_type": "stream",
          "name": "stderr",
          "text": [
            "/usr/local/lib/python3.7/dist-packages/ipykernel_launcher.py:2: FutureWarning: list_metrics is deprecated and will be removed in the next major version of datasets. Use 'evaluate.list_evaluation_modules' instead, from the new library 🤗 Evaluate: https://huggingface.co/docs/evaluate\n",
            "  \n"
          ]
        },
        {
          "output_type": "execute_result",
          "data": {
            "text/plain": [
              "['accuracy',\n",
              " 'bertscore',\n",
              " 'bleu',\n",
              " 'bleurt',\n",
              " 'brier_score',\n",
              " 'cer',\n",
              " 'chrf',\n",
              " 'code_eval',\n",
              " 'comet',\n",
              " 'competition_math',\n",
              " 'coval',\n",
              " 'cuad',\n",
              " 'exact_match',\n",
              " 'f1',\n",
              " 'frugalscore',\n",
              " 'glue',\n",
              " 'google_bleu',\n",
              " 'indic_glue',\n",
              " 'mae',\n",
              " 'mahalanobis',\n",
              " 'mape',\n",
              " 'mase',\n",
              " 'matthews_correlation',\n",
              " 'mauve',\n",
              " 'mean_iou',\n",
              " 'meteor',\n",
              " 'mse',\n",
              " 'pearsonr',\n",
              " 'perplexity',\n",
              " 'poseval',\n",
              " 'precision',\n",
              " 'recall',\n",
              " 'rl_reliability',\n",
              " 'roc_auc',\n",
              " 'rouge',\n",
              " 'sacrebleu',\n",
              " 'sari',\n",
              " 'seqeval',\n",
              " 'smape',\n",
              " 'spearmanr',\n",
              " 'squad',\n",
              " 'squad_v2',\n",
              " 'super_glue',\n",
              " 'ter',\n",
              " 'trec_eval',\n",
              " 'wer',\n",
              " 'wiki_split',\n",
              " 'xnli',\n",
              " 'xtreme_s',\n",
              " 'Drunper/metrica_tesi',\n",
              " 'Felipehonorato/my_metric',\n",
              " 'GMFTBY/dailydialog_evaluate',\n",
              " 'GMFTBY/dailydialogevaluate',\n",
              " 'JP-SystemsX/nDCG',\n",
              " 'KevinSpaghetti/accuracyk',\n",
              " 'NCSOFT/harim_plus',\n",
              " 'NikitaMartynov/spell-check-metric',\n",
              " 'NimaBoscarino/weat',\n",
              " 'Ochiroo/rouge_mn',\n",
              " 'Vertaix/vendiscore',\n",
              " 'Viona/infolm',\n",
              " 'Vlasta/pr_auc',\n",
              " 'abdusah/aradiawer',\n",
              " 'abidlabs/mean_iou',\n",
              " 'abidlabs/mean_iou2',\n",
              " 'angelina-wang/directional_bias_amplification',\n",
              " 'anz2/iliauniiccocrevaluation',\n",
              " 'cakiki/ndcg',\n",
              " 'codeparrot/apps_metric',\n",
              " 'cpllab/syntaxgym',\n",
              " 'daiyizheng/valid',\n",
              " 'dvitel/codebleu',\n",
              " 'erntkn/dice_coefficient',\n",
              " 'giulio98/code_eval_outputs',\n",
              " 'giulio98/codebleu',\n",
              " 'gnail/cosine_similarity',\n",
              " 'gorkaartola/metric_for_tp_fp_samples',\n",
              " 'hack/test_metric',\n",
              " 'hpi-dhc/FairEval',\n",
              " 'idsedykh/codebleu',\n",
              " 'idsedykh/codebleu2',\n",
              " 'idsedykh/megaglue',\n",
              " 'idsedykh/metric',\n",
              " 'jordyvl/ece',\n",
              " 'jpxkqx/peak_signal_to_noise_ratio',\n",
              " 'jpxkqx/signal_to_reconstrution_error',\n",
              " 'jzm-mailchimp/joshs_second_test_metric',\n",
              " 'kaggle/ai4code',\n",
              " 'kaggle/amex',\n",
              " 'kashif/mape',\n",
              " 'kasmith/woodscore',\n",
              " 'kyokote/my_metric2',\n",
              " 'leslyarun/fbeta_score',\n",
              " 'loubnabnl/apps_metric2',\n",
              " 'lvwerra/bary_score',\n",
              " 'lvwerra/test',\n",
              " 'mfumanelli/geometric_mean',\n",
              " 'mgfrantz/roc_auc_macro',\n",
              " 'ola13/precision_at_k',\n",
              " 'ronaldahmed/nwentfaithfulness',\n",
              " 'sportlosos/sescore',\n",
              " 'xu1998hz/sescore',\n",
              " 'yulong-me/yl_metric',\n",
              " 'yzha/ctc_eval',\n",
              " 'zbeloki/m2']"
            ]
          },
          "metadata": {},
          "execution_count": 21
        }
      ]
    },
    {
      "cell_type": "code",
      "source": [
        "load_metric('accuracy')"
      ],
      "metadata": {
        "colab": {
          "base_uri": "https://localhost:8080/"
        },
        "id": "uzXDVyaHihi_",
        "outputId": "d4d9827c-c0ba-4190-dd7a-061444c38ada"
      },
      "execution_count": null,
      "outputs": [
        {
          "output_type": "stream",
          "name": "stderr",
          "text": [
            "/usr/local/lib/python3.7/dist-packages/ipykernel_launcher.py:1: FutureWarning: load_metric is deprecated and will be removed in the next major version of datasets. Use 'evaluate.load' instead, from the new library 🤗 Evaluate: https://huggingface.co/docs/evaluate\n",
            "  \"\"\"Entry point for launching an IPython kernel.\n"
          ]
        },
        {
          "output_type": "execute_result",
          "data": {
            "text/plain": [
              "Metric(name: \"accuracy\", features: {'predictions': Value(dtype='int32', id=None), 'references': Value(dtype='int32', id=None)}, usage: \"\"\"\n",
              "Args:\n",
              "    predictions (`list` of `int`): Predicted labels.\n",
              "    references (`list` of `int`): Ground truth labels.\n",
              "    normalize (`boolean`): If set to False, returns the number of correctly classified samples. Otherwise, returns the fraction of correctly classified samples. Defaults to True.\n",
              "    sample_weight (`list` of `float`): Sample weights Defaults to None.\n",
              "\n",
              "Returns:\n",
              "    accuracy (`float` or `int`): Accuracy score. Minimum possible value is 0. Maximum possible value is 1.0, or the number of examples input, if `normalize` is set to `True`.. A higher score means higher accuracy.\n",
              "\n",
              "Examples:\n",
              "\n",
              "    Example 1-A simple example\n",
              "        >>> accuracy_metric = datasets.load_metric(\"accuracy\")\n",
              "        >>> results = accuracy_metric.compute(references=[0, 1, 2, 0, 1, 2], predictions=[0, 1, 1, 2, 1, 0])\n",
              "        >>> print(results)\n",
              "        {'accuracy': 0.5}\n",
              "\n",
              "    Example 2-The same as Example 1, except with `normalize` set to `False`.\n",
              "        >>> accuracy_metric = datasets.load_metric(\"accuracy\")\n",
              "        >>> results = accuracy_metric.compute(references=[0, 1, 2, 0, 1, 2], predictions=[0, 1, 1, 2, 1, 0], normalize=False)\n",
              "        >>> print(results)\n",
              "        {'accuracy': 3.0}\n",
              "\n",
              "    Example 3-The same as Example 1, except with `sample_weight` set.\n",
              "        >>> accuracy_metric = datasets.load_metric(\"accuracy\")\n",
              "        >>> results = accuracy_metric.compute(references=[0, 1, 2, 0, 1, 2], predictions=[0, 1, 1, 2, 1, 0], sample_weight=[0.5, 2, 0.7, 0.5, 9, 0.4])\n",
              "        >>> print(results)\n",
              "        {'accuracy': 0.8778625954198473}\n",
              "\"\"\", stored examples: 0)"
            ]
          },
          "metadata": {},
          "execution_count": 22
        }
      ]
    },
    {
      "cell_type": "markdown",
      "source": [
        "# Training a.k.a. babysitting"
      ],
      "metadata": {
        "id": "piAZstzHGziR"
      }
    },
    {
      "cell_type": "code",
      "source": [
        "args = TrainingArguments(\n",
        "    output_dir='nlp_III'\n",
        ")\n",
        "\n",
        "args2 = TrainingArguments(\n",
        "    output_dir='nlp_law',\n",
        "    learning_rate=3e-5,\n",
        "    per_device_train_batch_size=96,\n",
        "    per_device_eval_batch_size=96,\n",
        "    num_train_epochs=90,\n",
        "    # load_best_model_at_end=True,\n",
        "    # metric_for_best_model='accuracy',\n",
        "    # evaluation_strategy='steps', \n",
        "    # eval_steps=2,\n",
        "    #save_strategy='epoch'    \n",
        ")\n",
        "#metric.compute(predictions=preds, references=predictions.label_ids)\n",
        "import numpy as np\n",
        "\n",
        "def compute_metrics(eval_preds):\n",
        "  metric = load_metric(\"accuracy\")\n",
        "  logits, labels = eval_preds\n",
        "  predictions = np.argmax(logits, axis=-1)\n",
        "  return metric.compute(predictions=predictions, references=labels)\n",
        "\n",
        "trainer = Trainer(\n",
        "    model,\n",
        "    args2,\n",
        "    train_dataset=tokenized_datasets[\"train\"],\n",
        "    # eval_dataset=tokenized_datasets[\"dev\"],\n",
        "    data_collator=data_collator,\n",
        "    tokenizer=tokenizer,\n",
        "    compute_metrics=compute_metrics\n",
        ")\n",
        "trainer.train()"
      ],
      "metadata": {
        "colab": {
          "base_uri": "https://localhost:8080/"
        },
        "id": "FvbMWigKOGw7",
        "outputId": "9db53008-34f1-4ff9-b8ef-6a35f14aa03e"
      },
      "execution_count": null,
      "outputs": [
        {
          "output_type": "stream",
          "name": "stderr",
          "text": [
            "/usr/local/lib/python3.7/dist-packages/transformers/optimization.py:310: FutureWarning: This implementation of AdamW is deprecated and will be removed in a future version. Use the PyTorch implementation torch.optim.AdamW instead, or set `no_deprecation_warning=True` to disable this warning\n",
            "  FutureWarning,\n",
            "***** Running training *****\n",
            "  Num examples = 300\n",
            "  Num Epochs = 90\n",
            "  Instantaneous batch size per device = 96\n",
            "  Total train batch size (w. parallel, distributed & accumulation) = 96\n",
            "  Gradient Accumulation steps = 1\n",
            "  Total optimization steps = 360\n",
            "  Number of trainable parameters = 105247492\n"
          ]
        },
        {
          "output_type": "display_data",
          "data": {
            "text/plain": [
              "<IPython.core.display.HTML object>"
            ],
            "text/html": [
              "\n",
              "    <div>\n",
              "      \n",
              "      <progress value='360' max='360' style='width:300px; height:20px; vertical-align: middle;'></progress>\n",
              "      [360/360 04:18, Epoch 90/90]\n",
              "    </div>\n",
              "    <table border=\"1\" class=\"dataframe\">\n",
              "  <thead>\n",
              " <tr style=\"text-align: left;\">\n",
              "      <th>Step</th>\n",
              "      <th>Training Loss</th>\n",
              "    </tr>\n",
              "  </thead>\n",
              "  <tbody>\n",
              "  </tbody>\n",
              "</table><p>"
            ]
          },
          "metadata": {}
        },
        {
          "output_type": "stream",
          "name": "stderr",
          "text": [
            "\n",
            "\n",
            "Training completed. Do not forget to share your model on huggingface.co/models =)\n",
            "\n",
            "\n"
          ]
        },
        {
          "output_type": "execute_result",
          "data": {
            "text/plain": [
              "TrainOutput(global_step=360, training_loss=0.2834252251519097, metrics={'train_runtime': 260.0713, 'train_samples_per_second': 103.818, 'train_steps_per_second': 1.384, 'total_flos': 777013788096000.0, 'train_loss': 0.2834252251519097, 'epoch': 90.0})"
            ]
          },
          "metadata": {},
          "execution_count": 23
        }
      ]
    },
    {
      "cell_type": "code",
      "source": [
        "predictions = trainer.predict(tokenized_datasets['dev'])\n",
        "preds = np.argmax(predictions.predictions, axis=-1)\n"
      ],
      "metadata": {
        "id": "5lyJD3g4jaPp",
        "colab": {
          "base_uri": "https://localhost:8080/"
        },
        "outputId": "017baf40-bcc7-412c-f31c-e7b860e7e5b4"
      },
      "execution_count": null,
      "outputs": [
        {
          "output_type": "stream",
          "name": "stderr",
          "text": [
            "***** Running Prediction *****\n",
            "  Num examples = 75\n",
            "  Batch size = 96\n"
          ]
        },
        {
          "output_type": "display_data",
          "data": {
            "text/plain": [
              "<IPython.core.display.HTML object>"
            ],
            "text/html": []
          },
          "metadata": {}
        }
      ]
    },
    {
      "cell_type": "code",
      "source": [
        "predictions"
      ],
      "metadata": {
        "colab": {
          "base_uri": "https://localhost:8080/"
        },
        "id": "Wz2DW9AZHgnC",
        "outputId": "13e66c94-1298-473c-9ff7-5c643c12c389"
      },
      "execution_count": null,
      "outputs": [
        {
          "output_type": "execute_result",
          "data": {
            "text/plain": [
              "PredictionOutput(predictions=array([[-2.992997  , -0.96178794, -1.6672978 ,  5.433237  ],\n",
              "       [-3.3667786 , -1.4892448 , -0.84481514,  5.4702134 ],\n",
              "       [-2.6109064 ,  4.927654  , -1.5070606 , -1.3372573 ],\n",
              "       [-2.1174135 , -1.8084865 , -1.1346183 ,  5.559157  ],\n",
              "       [ 5.760464  , -2.4777722 , -1.821674  , -2.260896  ],\n",
              "       [ 3.2688663 , -1.678241  , -2.9831991 ,  0.9870791 ],\n",
              "       [ 5.706802  , -3.0012054 , -1.2729127 , -2.2479737 ],\n",
              "       [-2.1941319 , -1.7608334 , -1.5345688 ,  5.476687  ],\n",
              "       [ 5.489679  , -2.969306  , -0.6140075 , -2.5093002 ],\n",
              "       [-1.4849871 , -1.5021783 , -2.6306133 ,  5.4657946 ],\n",
              "       [-2.9556992 ,  5.0055437 , -0.70868546, -1.4841292 ],\n",
              "       [ 5.4814515 , -2.4891274 , -0.75967157, -2.9492989 ],\n",
              "       [-2.4541862 ,  5.0896373 , -1.5677617 , -1.5119424 ],\n",
              "       [-1.2031412 ,  3.7686882 , -1.8628564 , -1.7298275 ],\n",
              "       [ 5.4749084 , -1.9896944 , -1.7841341 , -2.4229126 ],\n",
              "       [-0.6449286 , -1.6975801 ,  4.7264824 , -2.6675181 ],\n",
              "       [ 5.399289  , -2.1741633 , -0.5942117 , -3.0519907 ],\n",
              "       [ 1.7139252 , -1.1957148 ,  1.7114362 , -3.1811433 ],\n",
              "       [-1.9554683 , -0.9352037 ,  4.7863007 , -1.7379726 ],\n",
              "       [-2.2915967 , -0.939261  , -1.9275359 ,  5.4101086 ],\n",
              "       [ 0.28353482,  2.9732516 , -1.788509  , -2.1036932 ],\n",
              "       [-2.721087  ,  4.9976287 , -0.7652774 , -1.6320326 ],\n",
              "       [-2.3003016 , -1.3767891 , -2.093744  ,  5.4266357 ],\n",
              "       [-3.1103888 ,  2.276352  , -0.2685767 ,  0.5392387 ],\n",
              "       [-2.1557312 , -1.4843495 , -2.2118213 ,  5.6750584 ],\n",
              "       [ 0.28353482,  2.9732516 , -1.788509  , -2.1036932 ],\n",
              "       [-1.5035816 , -2.5067215 ,  0.02648624,  3.8716002 ],\n",
              "       [-1.1583223 , -1.731406  ,  4.559002  , -1.9881577 ],\n",
              "       [ 5.6515326 , -2.71483   , -0.20187223, -3.132985  ],\n",
              "       [ 5.803502  , -1.9832692 , -1.5993241 , -3.1528785 ],\n",
              "       [-2.405913  ,  4.7439895 , -0.79089385, -2.0340672 ],\n",
              "       [ 1.439225  , -1.2895143 ,  0.02775949, -0.7792625 ],\n",
              "       [ 1.439225  , -1.2895143 ,  0.02775949, -0.7792625 ],\n",
              "       [-1.5440991 ,  5.121428  , -1.8577356 , -2.151352  ],\n",
              "       [-1.0500628 , -1.9424403 ,  4.5407248 , -1.9630812 ],\n",
              "       [ 5.560292  , -1.8865899 , -1.1304026 , -3.3785548 ],\n",
              "       [-1.6075925 , -2.857335  , -1.0836054 ,  5.5974813 ],\n",
              "       [-1.9886261 , -1.8708558 , -1.9759535 ,  5.708607  ],\n",
              "       [ 5.7021995 , -2.2772384 , -1.537224  , -2.7917097 ],\n",
              "       [-2.3623323 , -0.9255609 , -2.7366853 ,  5.661089  ],\n",
              "       [-3.0668967 , -1.2365115 , -0.90130174,  5.027385  ],\n",
              "       [ 1.0303501 , -3.9284306 ,  1.8604265 ,  0.5460704 ],\n",
              "       [ 5.8656325 , -2.2880976 , -1.2796174 , -2.781502  ],\n",
              "       [-2.6027024 , -2.040585  , -0.87596613,  5.5269313 ],\n",
              "       [ 3.2688663 , -1.678241  , -2.9831991 ,  0.9870791 ],\n",
              "       [ 5.3963494 , -1.9104133 , -0.7927795 , -3.146566  ],\n",
              "       [ 5.454176  , -3.0482392 ,  0.19137062, -3.1864328 ],\n",
              "       [-2.1575239 ,  5.102573  , -1.7426369 , -1.7502673 ],\n",
              "       [-1.773723  ,  4.7200804 , -2.2959607 , -1.4080445 ],\n",
              "       [-2.7847774 ,  5.4532394 , -1.031972  , -1.6305599 ],\n",
              "       [ 5.9271255 , -1.8451334 , -1.4710876 , -3.3281872 ],\n",
              "       [-1.131552  , -1.8118371 , -2.2794461 ,  5.0452704 ],\n",
              "       [-1.6782017 , -2.108052  , -1.5135795 ,  5.375416  ],\n",
              "       [-1.2031412 ,  3.7686882 , -1.8628564 , -1.7298275 ],\n",
              "       [-0.6449286 , -1.6975801 ,  4.7264824 , -2.6675181 ],\n",
              "       [-1.205742  , -1.7546703 ,  4.796556  , -2.064349  ],\n",
              "       [ 6.1510434 , -2.0681944 , -2.1399407 , -2.6986175 ],\n",
              "       [-2.1036747 ,  4.927182  , -1.6617006 , -1.8503112 ],\n",
              "       [-2.350653  , -0.6992775 , -2.60145   ,  5.576788  ],\n",
              "       [-1.1225609 , -1.8056043 ,  4.6682243 , -1.876557  ],\n",
              "       [-1.6923716 ,  4.98412   , -2.284864  , -1.2795112 ],\n",
              "       [-2.0316486 , -1.3586614 , -2.4029727 ,  5.7950788 ],\n",
              "       [ 5.890757  , -2.2085824 , -2.0839229 , -2.1874776 ],\n",
              "       [-0.96124154, -2.7813725 , -2.2003372 ,  5.4557157 ],\n",
              "       [ 5.671241  , -2.364521  , -1.0219743 , -2.6726513 ],\n",
              "       [-1.7848742 , -1.1380336 , -2.893706  ,  5.5134826 ],\n",
              "       [-1.5035816 , -2.5067215 ,  0.02648624,  3.8716002 ],\n",
              "       [ 5.7285056 , -1.2807271 , -1.4669574 , -3.3600554 ],\n",
              "       [ 5.694614  , -2.0180922 , -1.2228388 , -2.995041  ],\n",
              "       [-2.2136915 , -2.2045465 , -1.5090861 ,  5.685726  ],\n",
              "       [-2.1239054 ,  5.166526  , -1.3544074 , -2.0654385 ],\n",
              "       [-1.9652272 , -1.7908306 , -1.744501  ,  5.350056  ],\n",
              "       [-2.8775034 ,  5.1256404 , -1.257085  , -1.222283  ],\n",
              "       [-2.8440182 , -0.900785  , -1.0263337 ,  5.138193  ],\n",
              "       [-0.79763734, -1.4896998 ,  4.41778   , -2.5095472 ]],\n",
              "      dtype=float32), label_ids=array([1, 3, 1, 3, 0, 0, 0, 3, 0, 3, 1, 0, 1, 2, 0, 2, 0, 2, 2, 3, 0, 0,\n",
              "       3, 2, 3, 0, 3, 2, 0, 0, 3, 2, 2, 1, 2, 0, 3, 1, 0, 3, 3, 0, 0, 3,\n",
              "       0, 0, 0, 1, 1, 3, 0, 0, 3, 2, 2, 2, 0, 1, 3, 2, 1, 3, 0, 3, 0, 3,\n",
              "       3, 0, 0, 3, 3, 3, 1, 3, 3]), metrics={'test_loss': 1.087593674659729, 'test_accuracy': 0.7733333333333333, 'test_runtime': 1.2269, 'test_samples_per_second': 61.13, 'test_steps_per_second': 0.815})"
            ]
          },
          "metadata": {},
          "execution_count": 25
        }
      ]
    },
    {
      "cell_type": "code",
      "source": [
        "predictions.label_ids"
      ],
      "metadata": {
        "colab": {
          "base_uri": "https://localhost:8080/"
        },
        "id": "sxFbSWoE0aUL",
        "outputId": "7d45a8e0-4d61-4bd4-ef28-e2c9171f6ecb"
      },
      "execution_count": null,
      "outputs": [
        {
          "output_type": "execute_result",
          "data": {
            "text/plain": [
              "array([1, 3, 1, 3, 0, 0, 0, 3, 0, 3, 1, 0, 1, 2, 0, 2, 0, 2, 2, 3, 0, 0,\n",
              "       3, 2, 3, 0, 3, 2, 0, 0, 3, 2, 2, 1, 2, 0, 3, 1, 0, 3, 3, 0, 0, 3,\n",
              "       0, 0, 0, 1, 1, 3, 0, 0, 3, 2, 2, 2, 0, 1, 3, 2, 1, 3, 0, 3, 0, 3,\n",
              "       3, 0, 0, 3, 3, 3, 1, 3, 3])"
            ]
          },
          "metadata": {},
          "execution_count": 26
        }
      ]
    },
    {
      "cell_type": "code",
      "source": [
        "preds"
      ],
      "metadata": {
        "id": "U_kUAvF4gQli",
        "colab": {
          "base_uri": "https://localhost:8080/"
        },
        "outputId": "d80de032-df21-48d2-c170-3a9bfa2dacbe"
      },
      "execution_count": null,
      "outputs": [
        {
          "output_type": "execute_result",
          "data": {
            "text/plain": [
              "array([3, 3, 1, 3, 0, 0, 0, 3, 0, 3, 1, 0, 1, 1, 0, 2, 0, 0, 2, 3, 1, 1,\n",
              "       3, 1, 3, 1, 3, 2, 0, 0, 1, 0, 0, 1, 2, 0, 3, 3, 0, 3, 3, 2, 0, 3,\n",
              "       0, 0, 0, 1, 1, 1, 0, 3, 3, 1, 2, 2, 0, 1, 3, 2, 1, 3, 0, 3, 0, 3,\n",
              "       3, 0, 0, 3, 1, 3, 1, 3, 2])"
            ]
          },
          "metadata": {},
          "execution_count": 27
        }
      ]
    },
    {
      "cell_type": "code",
      "source": [
        "predicted_labels = [labels[x] for x in preds]\n",
        "gold = [labels[x] for x in predictions.label_ids]"
      ],
      "metadata": {
        "id": "SPhRt8XyRKwU"
      },
      "execution_count": null,
      "outputs": []
    },
    {
      "cell_type": "markdown",
      "source": [
        "# Evaluation No.1 (no fine tune)"
      ],
      "metadata": {
        "id": "D-8Gj4ydHAnY"
      }
    },
    {
      "cell_type": "code",
      "source": [
        "from sklearn.metrics import classification_report\n",
        "print(classification_report(gold, predicted_labels))"
      ],
      "metadata": {
        "colab": {
          "base_uri": "https://localhost:8080/"
        },
        "id": "F-T2jDIPs5Yv",
        "outputId": "ad2c8fd0-a5d8-4781-cd1a-956a1e41dcee"
      },
      "execution_count": null,
      "outputs": [
        {
          "output_type": "stream",
          "name": "stdout",
          "text": [
            "                     precision    recall  f1-score   support\n",
            "\n",
            "          favorable       0.50      0.82      0.62        11\n",
            "              other       0.78      0.54      0.64        13\n",
            "partially favorable       0.88      0.84      0.86        25\n",
            "        unfavorable       0.88      0.81      0.84        26\n",
            "\n",
            "           accuracy                           0.77        75\n",
            "          macro avg       0.76      0.75      0.74        75\n",
            "       weighted avg       0.80      0.77      0.78        75\n",
            "\n"
          ]
        }
      ]
    },
    {
      "cell_type": "code",
      "source": [
        "### reset model\n",
        "# Trainer = 0"
      ],
      "metadata": {
        "id": "pTSZo3QZip5G"
      },
      "execution_count": null,
      "outputs": []
    },
    {
      "cell_type": "code",
      "source": [
        "# from google.colab import files\n",
        "\n",
        "# files.download('/content/wongnai-review-2')"
      ],
      "metadata": {
        "id": "D-qcoRg0INai"
      },
      "execution_count": null,
      "outputs": []
    },
    {
      "cell_type": "code",
      "source": [
        "# !zip -r /content/wongnai-review-2.zip /content/wongnai-review-2"
      ],
      "metadata": {
        "id": "IlALI5XcIuQ5"
      },
      "execution_count": null,
      "outputs": []
    },
    {
      "cell_type": "code",
      "source": [
        "# from google.colab import files\n",
        "# files.download(\"/content/wongnai-review-2.zip\")"
      ],
      "metadata": {
        "id": "FhUUBY9GIsta"
      },
      "execution_count": null,
      "outputs": []
    },
    {
      "cell_type": "markdown",
      "source": [
        "# STAT\n",
        "- learning_rate=3e-5\n",
        "- per_device_train_batch_size=96\n",
        "- per_device_eval_batch_size=96\n",
        "- num_train_epochs=60\n",
        "\n",
        "+ epoch 20 อีกรอบ"
      ],
      "metadata": {
        "id": "mdkm3inI8zH0"
      }
    },
    {
      "cell_type": "markdown",
      "source": [
        "![image.png](data:image/png;base64,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)"
      ],
      "metadata": {
        "id": "S0ct3aExghpI"
      }
    },
    {
      "cell_type": "markdown",
      "source": [
        "# 60 epoch แท้"
      ],
      "metadata": {
        "id": "chrsPHVqnA0h"
      }
    },
    {
      "cell_type": "markdown",
      "source": [
        "![image.png](data:image/png;base64,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)"
      ],
      "metadata": {
        "id": "cCKdeTwpnJs8"
      }
    },
    {
      "cell_type": "markdown",
      "source": [
        "# 80 Epoch\n",
        "![image.png](data:image/png;base64,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)"
      ],
      "metadata": {
        "id": "wxIaktRRqJ5W"
      }
    },
    {
      "cell_type": "code",
      "source": [],
      "metadata": {
        "id": "rL_9ROc-qNzx"
      },
      "execution_count": null,
      "outputs": []
    }
  ]
}