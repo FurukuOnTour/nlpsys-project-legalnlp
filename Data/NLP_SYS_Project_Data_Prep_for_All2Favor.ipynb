{
  "nbformat": 4,
  "nbformat_minor": 0,
  "metadata": {
    "colab": {
      "provenance": [],
      "mount_file_id": "1Bksh42M7m7iBSJK-Ylql9wX75k5b6dyk",
      "authorship_tag": "ABX9TyMcuTlWQ9Xc2ME5NcY8jYol",
      "include_colab_link": true
    },
    "kernelspec": {
      "name": "python3",
      "display_name": "Python 3"
    },
    "language_info": {
      "name": "python"
    }
  },
  "cells": [
    {
      "cell_type": "markdown",
      "metadata": {
        "id": "view-in-github",
        "colab_type": "text"
      },
      "source": [
        "<a href=\"https://colab.research.google.com/github/FurukuOnTour/nlpsys-project-legalnlp/blob/main/NLP_SYS_Project_Data_Prep_for_All2Favor.ipynb\" target=\"_parent\"><img src=\"https://colab.research.google.com/assets/colab-badge.svg\" alt=\"Open In Colab\"/></a>"
      ]
    },
    {
      "cell_type": "code",
      "execution_count": null,
      "metadata": {
        "id": "qv2ssevnWpPK"
      },
      "outputs": [],
      "source": [
        "import pandas as pd\n",
        "import re\n",
        "from nltk.corpus.reader import ConllChunkCorpusReader\n",
        "import os"
      ]
    },
    {
      "cell_type": "code",
      "source": [
        "def list_full_paths(directory):\n",
        "    return [os.path.join(directory, file) for file in os.listdir(directory)]"
      ],
      "metadata": {
        "id": "f8evXU0bfdnk"
      },
      "execution_count": null,
      "outputs": []
    },
    {
      "cell_type": "code",
      "source": [
        "# Mount Drive and Retrieve all files\n",
        "\n",
        "ter_raw_filepath = list_full_paths('/content/drive/MyDrive/Colab Notebooks/NLP SYS Project/Law_NLP_TerAnnotate_tsv_iob/Law NLP-1Wwskjb14Xb/ROOT-vic22527_gmail_com')\n",
        "furuku_raw_filepath = list_full_paths('/content/drive/MyDrive/Colab Notebooks/NLP SYS Project/NLP SYS Project Data 1_output_Nov_17_2022_tsv_iob/NLP SYS Project Data 1-rR1KctfT6AI/ROOT-natchanon_pollertlam_gmail_com')"
      ],
      "metadata": {
        "id": "2CxVeoZgbWCm"
      },
      "execution_count": null,
      "outputs": []
    },
    {
      "cell_type": "code",
      "source": [
        "furuku_raw_filepath[:5]"
      ],
      "metadata": {
        "colab": {
          "base_uri": "https://localhost:8080/"
        },
        "id": "IP8ABVH-fk7b",
        "outputId": "433e56a6-4e49-4f18-a9fa-33d3f78ba498"
      },
      "execution_count": null,
      "outputs": [
        {
          "output_type": "execute_result",
          "data": {
            "text/plain": [
              "['/content/drive/MyDrive/Colab Notebooks/NLP SYS Project/NLP SYS Project Data 1_output_Nov_17_2022_tsv_iob/NLP SYS Project Data 1-rR1KctfT6AI/ROOT-natchanon_pollertlam_gmail_com/2484_888.txt.tsv',\n",
              " '/content/drive/MyDrive/Colab Notebooks/NLP SYS Project/NLP SYS Project Data 1_output_Nov_17_2022_tsv_iob/NLP SYS Project Data 1-rR1KctfT6AI/ROOT-natchanon_pollertlam_gmail_com/2483_378.txt.tsv',\n",
              " '/content/drive/MyDrive/Colab Notebooks/NLP SYS Project/NLP SYS Project Data 1_output_Nov_17_2022_tsv_iob/NLP SYS Project Data 1-rR1KctfT6AI/ROOT-natchanon_pollertlam_gmail_com/2490_874.txt.tsv',\n",
              " '/content/drive/MyDrive/Colab Notebooks/NLP SYS Project/NLP SYS Project Data 1_output_Nov_17_2022_tsv_iob/NLP SYS Project Data 1-rR1KctfT6AI/ROOT-natchanon_pollertlam_gmail_com/2491_256.txt.tsv',\n",
              " '/content/drive/MyDrive/Colab Notebooks/NLP SYS Project/NLP SYS Project Data 1_output_Nov_17_2022_tsv_iob/NLP SYS Project Data 1-rR1KctfT6AI/ROOT-natchanon_pollertlam_gmail_com/2490_731.txt.tsv']"
            ]
          },
          "metadata": {},
          "execution_count": 5
        }
      ]
    },
    {
      "cell_type": "code",
      "source": [
        "def read_verdict(file_path):\n",
        "    with open(file_path) as f:\n",
        "        text = []\n",
        "        tag = []\n",
        "        try:\n",
        "            for line in f:\n",
        "                line = line.strip().split('\\t')\n",
        "                # print(line)\n",
        "                if line != ['']:\n",
        "                    if len(line) > 1 and line[1] != 'O':\n",
        "                        text.append(line[0])\n",
        "                        tag.append(line[1].split('-')[1])\n",
        "            return (' '.join(text), list(set(tag))[0])\n",
        "        except Exception as e:\n",
        "            print(\"Exception occurred for value '\"+ ''.join(line) + \"': \"+ repr(e))"
      ],
      "metadata": {
        "id": "JvxNDri9b0KV"
      },
      "execution_count": null,
      "outputs": []
    },
    {
      "cell_type": "code",
      "source": [
        "def read_data(file_path):\n",
        "    with open(file_path) as f:\n",
        "        text = []\n",
        "        tag = []\n",
        "        try:\n",
        "            for line in f:\n",
        "                line = line.strip().split('\\t')\n",
        "                # print(line)\n",
        "                if line != ['']:\n",
        "                    text.append(line[0])\n",
        "                    if len(line) > 1 and line[1] != 'O':\n",
        "                        tag.append(line[1].split('-')[1])\n",
        "            return (' '.join(text), list(set(tag))[0])\n",
        "        except Exception as e:\n",
        "            print(\"Exception occurred for value '\"+ ''.join(line) + \"': \"+ repr(e))"
      ],
      "metadata": {
        "id": "l-kjLf0p5rgQ"
      },
      "execution_count": null,
      "outputs": []
    },
    {
      "cell_type": "code",
      "source": [
        "raw_filepath = ter_raw_filepath + furuku_raw_filepath\n",
        "series = {\n",
        "    'text': [],\n",
        "    'label': []\n",
        "}\n",
        "for path in raw_filepath:\n",
        "    text, label = read_data(path)\n",
        "    series['text'].append(text)\n",
        "    series['label'].append(label)\n",
        "\n",
        "df = pd.DataFrame(series)\n",
        "df"
      ],
      "metadata": {
        "colab": {
          "base_uri": "https://localhost:8080/",
          "height": 424
        },
        "id": "MY5O9gZTg0k2",
        "outputId": "6c063757-171a-457d-e849-f1b6e1cfa0df"
      },
      "execution_count": null,
      "outputs": [
        {
          "output_type": "execute_result",
          "data": {
            "text/plain": [
              "                                                  text                label\n",
              "0    2534/3796 ย่อสั้น โจทก์ที่ 2 ทำสัญญาเช่าซื้อรถ...  partially favorable\n",
              "1    2522/1049 ย่อสั้น โจทก์ได้เลียนแบบลายกนกสลากปิ...          unfavorable\n",
              "2    2517/2647 ย่อสั้น จำเลยเป็นข้าราชการในสังกัดขอ...            favorable\n",
              "3    2557/18869 ย่อสั้น จำเลยที่ 1 กับพวกเห็นว่าคณะ...  partially favorable\n",
              "4    2513/1371 ย่อสั้น ผู้เสียหายเป็นโจทก์ฟ้องคดีแพ...  partially favorable\n",
              "..                                                 ...                  ...\n",
              "375  2557/5870 ย่อสั้น โจทก์เป็นเจ้าพนักงานพิทักษ์ข...                other\n",
              "376  2543/4493 ย่อสั้น พระราชบัญญัติอาคารชุดฯ ต้องก...  partially favorable\n",
              "377  2550/4352 ย่อสั้น คดีอาญาที่พนักงานอัยการและโจ...  partially favorable\n",
              "378  2547/8794 ย่อสั้น ตาม ป.พ.พ. มาตรา 442 ประกอบม...          unfavorable\n",
              "379  2550/5207 ย่อสั้น โจทก์ได้รับบาดเจ็บไม่ร้ายแรง...  partially favorable\n",
              "\n",
              "[380 rows x 2 columns]"
            ],
            "text/html": [
              "\n",
              "  <div id=\"df-990fec9f-f7fc-4720-ba0d-9f47549aaf2d\">\n",
              "    <div class=\"colab-df-container\">\n",
              "      <div>\n",
              "<style scoped>\n",
              "    .dataframe tbody tr th:only-of-type {\n",
              "        vertical-align: middle;\n",
              "    }\n",
              "\n",
              "    .dataframe tbody tr th {\n",
              "        vertical-align: top;\n",
              "    }\n",
              "\n",
              "    .dataframe thead th {\n",
              "        text-align: right;\n",
              "    }\n",
              "</style>\n",
              "<table border=\"1\" class=\"dataframe\">\n",
              "  <thead>\n",
              "    <tr style=\"text-align: right;\">\n",
              "      <th></th>\n",
              "      <th>text</th>\n",
              "      <th>label</th>\n",
              "    </tr>\n",
              "  </thead>\n",
              "  <tbody>\n",
              "    <tr>\n",
              "      <th>0</th>\n",
              "      <td>2534/3796 ย่อสั้น โจทก์ที่ 2 ทำสัญญาเช่าซื้อรถ...</td>\n",
              "      <td>partially favorable</td>\n",
              "    </tr>\n",
              "    <tr>\n",
              "      <th>1</th>\n",
              "      <td>2522/1049 ย่อสั้น โจทก์ได้เลียนแบบลายกนกสลากปิ...</td>\n",
              "      <td>unfavorable</td>\n",
              "    </tr>\n",
              "    <tr>\n",
              "      <th>2</th>\n",
              "      <td>2517/2647 ย่อสั้น จำเลยเป็นข้าราชการในสังกัดขอ...</td>\n",
              "      <td>favorable</td>\n",
              "    </tr>\n",
              "    <tr>\n",
              "      <th>3</th>\n",
              "      <td>2557/18869 ย่อสั้น จำเลยที่ 1 กับพวกเห็นว่าคณะ...</td>\n",
              "      <td>partially favorable</td>\n",
              "    </tr>\n",
              "    <tr>\n",
              "      <th>4</th>\n",
              "      <td>2513/1371 ย่อสั้น ผู้เสียหายเป็นโจทก์ฟ้องคดีแพ...</td>\n",
              "      <td>partially favorable</td>\n",
              "    </tr>\n",
              "    <tr>\n",
              "      <th>...</th>\n",
              "      <td>...</td>\n",
              "      <td>...</td>\n",
              "    </tr>\n",
              "    <tr>\n",
              "      <th>375</th>\n",
              "      <td>2557/5870 ย่อสั้น โจทก์เป็นเจ้าพนักงานพิทักษ์ข...</td>\n",
              "      <td>other</td>\n",
              "    </tr>\n",
              "    <tr>\n",
              "      <th>376</th>\n",
              "      <td>2543/4493 ย่อสั้น พระราชบัญญัติอาคารชุดฯ ต้องก...</td>\n",
              "      <td>partially favorable</td>\n",
              "    </tr>\n",
              "    <tr>\n",
              "      <th>377</th>\n",
              "      <td>2550/4352 ย่อสั้น คดีอาญาที่พนักงานอัยการและโจ...</td>\n",
              "      <td>partially favorable</td>\n",
              "    </tr>\n",
              "    <tr>\n",
              "      <th>378</th>\n",
              "      <td>2547/8794 ย่อสั้น ตาม ป.พ.พ. มาตรา 442 ประกอบม...</td>\n",
              "      <td>unfavorable</td>\n",
              "    </tr>\n",
              "    <tr>\n",
              "      <th>379</th>\n",
              "      <td>2550/5207 ย่อสั้น โจทก์ได้รับบาดเจ็บไม่ร้ายแรง...</td>\n",
              "      <td>partially favorable</td>\n",
              "    </tr>\n",
              "  </tbody>\n",
              "</table>\n",
              "<p>380 rows × 2 columns</p>\n",
              "</div>\n",
              "      <button class=\"colab-df-convert\" onclick=\"convertToInteractive('df-990fec9f-f7fc-4720-ba0d-9f47549aaf2d')\"\n",
              "              title=\"Convert this dataframe to an interactive table.\"\n",
              "              style=\"display:none;\">\n",
              "        \n",
              "  <svg xmlns=\"http://www.w3.org/2000/svg\" height=\"24px\"viewBox=\"0 0 24 24\"\n",
              "       width=\"24px\">\n",
              "    <path d=\"M0 0h24v24H0V0z\" fill=\"none\"/>\n",
              "    <path d=\"M18.56 5.44l.94 2.06.94-2.06 2.06-.94-2.06-.94-.94-2.06-.94 2.06-2.06.94zm-11 1L8.5 8.5l.94-2.06 2.06-.94-2.06-.94L8.5 2.5l-.94 2.06-2.06.94zm10 10l.94 2.06.94-2.06 2.06-.94-2.06-.94-.94-2.06-.94 2.06-2.06.94z\"/><path d=\"M17.41 7.96l-1.37-1.37c-.4-.4-.92-.59-1.43-.59-.52 0-1.04.2-1.43.59L10.3 9.45l-7.72 7.72c-.78.78-.78 2.05 0 2.83L4 21.41c.39.39.9.59 1.41.59.51 0 1.02-.2 1.41-.59l7.78-7.78 2.81-2.81c.8-.78.8-2.07 0-2.86zM5.41 20L4 18.59l7.72-7.72 1.47 1.35L5.41 20z\"/>\n",
              "  </svg>\n",
              "      </button>\n",
              "      \n",
              "  <style>\n",
              "    .colab-df-container {\n",
              "      display:flex;\n",
              "      flex-wrap:wrap;\n",
              "      gap: 12px;\n",
              "    }\n",
              "\n",
              "    .colab-df-convert {\n",
              "      background-color: #E8F0FE;\n",
              "      border: none;\n",
              "      border-radius: 50%;\n",
              "      cursor: pointer;\n",
              "      display: none;\n",
              "      fill: #1967D2;\n",
              "      height: 32px;\n",
              "      padding: 0 0 0 0;\n",
              "      width: 32px;\n",
              "    }\n",
              "\n",
              "    .colab-df-convert:hover {\n",
              "      background-color: #E2EBFA;\n",
              "      box-shadow: 0px 1px 2px rgba(60, 64, 67, 0.3), 0px 1px 3px 1px rgba(60, 64, 67, 0.15);\n",
              "      fill: #174EA6;\n",
              "    }\n",
              "\n",
              "    [theme=dark] .colab-df-convert {\n",
              "      background-color: #3B4455;\n",
              "      fill: #D2E3FC;\n",
              "    }\n",
              "\n",
              "    [theme=dark] .colab-df-convert:hover {\n",
              "      background-color: #434B5C;\n",
              "      box-shadow: 0px 1px 3px 1px rgba(0, 0, 0, 0.15);\n",
              "      filter: drop-shadow(0px 1px 2px rgba(0, 0, 0, 0.3));\n",
              "      fill: #FFFFFF;\n",
              "    }\n",
              "  </style>\n",
              "\n",
              "      <script>\n",
              "        const buttonEl =\n",
              "          document.querySelector('#df-990fec9f-f7fc-4720-ba0d-9f47549aaf2d button.colab-df-convert');\n",
              "        buttonEl.style.display =\n",
              "          google.colab.kernel.accessAllowed ? 'block' : 'none';\n",
              "\n",
              "        async function convertToInteractive(key) {\n",
              "          const element = document.querySelector('#df-990fec9f-f7fc-4720-ba0d-9f47549aaf2d');\n",
              "          const dataTable =\n",
              "            await google.colab.kernel.invokeFunction('convertToInteractive',\n",
              "                                                     [key], {});\n",
              "          if (!dataTable) return;\n",
              "\n",
              "          const docLinkHtml = 'Like what you see? Visit the ' +\n",
              "            '<a target=\"_blank\" href=https://colab.research.google.com/notebooks/data_table.ipynb>data table notebook</a>'\n",
              "            + ' to learn more about interactive tables.';\n",
              "          element.innerHTML = '';\n",
              "          dataTable['output_type'] = 'display_data';\n",
              "          await google.colab.output.renderOutput(dataTable, element);\n",
              "          const docLink = document.createElement('div');\n",
              "          docLink.innerHTML = docLinkHtml;\n",
              "          element.appendChild(docLink);\n",
              "        }\n",
              "      </script>\n",
              "    </div>\n",
              "  </div>\n",
              "  "
            ]
          },
          "metadata": {},
          "execution_count": 9
        }
      ]
    },
    {
      "cell_type": "code",
      "source": [
        "df.to_csv('all2favor_all.csv', index=False)"
      ],
      "metadata": {
        "id": "tygBPIaQjCGt"
      },
      "execution_count": null,
      "outputs": []
    },
    {
      "cell_type": "code",
      "source": [
        "df2 = pd.read_csv('/content/all2favor_all.csv')\n",
        "df2"
      ],
      "metadata": {
        "id": "lwdo31GNjhjm",
        "colab": {
          "base_uri": "https://localhost:8080/",
          "height": 424
        },
        "outputId": "39403e8c-ea78-4688-aa3a-9e8438dc5d10"
      },
      "execution_count": null,
      "outputs": [
        {
          "output_type": "execute_result",
          "data": {
            "text/plain": [
              "                                                  text                label\n",
              "0    2534/3796 ย่อสั้น โจทก์ที่ 2 ทำสัญญาเช่าซื้อรถ...  partially favorable\n",
              "1    2522/1049 ย่อสั้น โจทก์ได้เลียนแบบลายกนกสลากปิ...          unfavorable\n",
              "2    2517/2647 ย่อสั้น จำเลยเป็นข้าราชการในสังกัดขอ...            favorable\n",
              "3    2557/18869 ย่อสั้น จำเลยที่ 1 กับพวกเห็นว่าคณะ...  partially favorable\n",
              "4    2513/1371 ย่อสั้น ผู้เสียหายเป็นโจทก์ฟ้องคดีแพ...  partially favorable\n",
              "..                                                 ...                  ...\n",
              "375  2557/5870 ย่อสั้น โจทก์เป็นเจ้าพนักงานพิทักษ์ข...                other\n",
              "376  2543/4493 ย่อสั้น พระราชบัญญัติอาคารชุดฯ ต้องก...  partially favorable\n",
              "377  2550/4352 ย่อสั้น คดีอาญาที่พนักงานอัยการและโจ...  partially favorable\n",
              "378  2547/8794 ย่อสั้น ตาม ป.พ.พ. มาตรา 442 ประกอบม...          unfavorable\n",
              "379  2550/5207 ย่อสั้น โจทก์ได้รับบาดเจ็บไม่ร้ายแรง...  partially favorable\n",
              "\n",
              "[380 rows x 2 columns]"
            ],
            "text/html": [
              "\n",
              "  <div id=\"df-d50424ea-f075-467c-9479-0781803b8596\">\n",
              "    <div class=\"colab-df-container\">\n",
              "      <div>\n",
              "<style scoped>\n",
              "    .dataframe tbody tr th:only-of-type {\n",
              "        vertical-align: middle;\n",
              "    }\n",
              "\n",
              "    .dataframe tbody tr th {\n",
              "        vertical-align: top;\n",
              "    }\n",
              "\n",
              "    .dataframe thead th {\n",
              "        text-align: right;\n",
              "    }\n",
              "</style>\n",
              "<table border=\"1\" class=\"dataframe\">\n",
              "  <thead>\n",
              "    <tr style=\"text-align: right;\">\n",
              "      <th></th>\n",
              "      <th>text</th>\n",
              "      <th>label</th>\n",
              "    </tr>\n",
              "  </thead>\n",
              "  <tbody>\n",
              "    <tr>\n",
              "      <th>0</th>\n",
              "      <td>2534/3796 ย่อสั้น โจทก์ที่ 2 ทำสัญญาเช่าซื้อรถ...</td>\n",
              "      <td>partially favorable</td>\n",
              "    </tr>\n",
              "    <tr>\n",
              "      <th>1</th>\n",
              "      <td>2522/1049 ย่อสั้น โจทก์ได้เลียนแบบลายกนกสลากปิ...</td>\n",
              "      <td>unfavorable</td>\n",
              "    </tr>\n",
              "    <tr>\n",
              "      <th>2</th>\n",
              "      <td>2517/2647 ย่อสั้น จำเลยเป็นข้าราชการในสังกัดขอ...</td>\n",
              "      <td>favorable</td>\n",
              "    </tr>\n",
              "    <tr>\n",
              "      <th>3</th>\n",
              "      <td>2557/18869 ย่อสั้น จำเลยที่ 1 กับพวกเห็นว่าคณะ...</td>\n",
              "      <td>partially favorable</td>\n",
              "    </tr>\n",
              "    <tr>\n",
              "      <th>4</th>\n",
              "      <td>2513/1371 ย่อสั้น ผู้เสียหายเป็นโจทก์ฟ้องคดีแพ...</td>\n",
              "      <td>partially favorable</td>\n",
              "    </tr>\n",
              "    <tr>\n",
              "      <th>...</th>\n",
              "      <td>...</td>\n",
              "      <td>...</td>\n",
              "    </tr>\n",
              "    <tr>\n",
              "      <th>375</th>\n",
              "      <td>2557/5870 ย่อสั้น โจทก์เป็นเจ้าพนักงานพิทักษ์ข...</td>\n",
              "      <td>other</td>\n",
              "    </tr>\n",
              "    <tr>\n",
              "      <th>376</th>\n",
              "      <td>2543/4493 ย่อสั้น พระราชบัญญัติอาคารชุดฯ ต้องก...</td>\n",
              "      <td>partially favorable</td>\n",
              "    </tr>\n",
              "    <tr>\n",
              "      <th>377</th>\n",
              "      <td>2550/4352 ย่อสั้น คดีอาญาที่พนักงานอัยการและโจ...</td>\n",
              "      <td>partially favorable</td>\n",
              "    </tr>\n",
              "    <tr>\n",
              "      <th>378</th>\n",
              "      <td>2547/8794 ย่อสั้น ตาม ป.พ.พ. มาตรา 442 ประกอบม...</td>\n",
              "      <td>unfavorable</td>\n",
              "    </tr>\n",
              "    <tr>\n",
              "      <th>379</th>\n",
              "      <td>2550/5207 ย่อสั้น โจทก์ได้รับบาดเจ็บไม่ร้ายแรง...</td>\n",
              "      <td>partially favorable</td>\n",
              "    </tr>\n",
              "  </tbody>\n",
              "</table>\n",
              "<p>380 rows × 2 columns</p>\n",
              "</div>\n",
              "      <button class=\"colab-df-convert\" onclick=\"convertToInteractive('df-d50424ea-f075-467c-9479-0781803b8596')\"\n",
              "              title=\"Convert this dataframe to an interactive table.\"\n",
              "              style=\"display:none;\">\n",
              "        \n",
              "  <svg xmlns=\"http://www.w3.org/2000/svg\" height=\"24px\"viewBox=\"0 0 24 24\"\n",
              "       width=\"24px\">\n",
              "    <path d=\"M0 0h24v24H0V0z\" fill=\"none\"/>\n",
              "    <path d=\"M18.56 5.44l.94 2.06.94-2.06 2.06-.94-2.06-.94-.94-2.06-.94 2.06-2.06.94zm-11 1L8.5 8.5l.94-2.06 2.06-.94-2.06-.94L8.5 2.5l-.94 2.06-2.06.94zm10 10l.94 2.06.94-2.06 2.06-.94-2.06-.94-.94-2.06-.94 2.06-2.06.94z\"/><path d=\"M17.41 7.96l-1.37-1.37c-.4-.4-.92-.59-1.43-.59-.52 0-1.04.2-1.43.59L10.3 9.45l-7.72 7.72c-.78.78-.78 2.05 0 2.83L4 21.41c.39.39.9.59 1.41.59.51 0 1.02-.2 1.41-.59l7.78-7.78 2.81-2.81c.8-.78.8-2.07 0-2.86zM5.41 20L4 18.59l7.72-7.72 1.47 1.35L5.41 20z\"/>\n",
              "  </svg>\n",
              "      </button>\n",
              "      \n",
              "  <style>\n",
              "    .colab-df-container {\n",
              "      display:flex;\n",
              "      flex-wrap:wrap;\n",
              "      gap: 12px;\n",
              "    }\n",
              "\n",
              "    .colab-df-convert {\n",
              "      background-color: #E8F0FE;\n",
              "      border: none;\n",
              "      border-radius: 50%;\n",
              "      cursor: pointer;\n",
              "      display: none;\n",
              "      fill: #1967D2;\n",
              "      height: 32px;\n",
              "      padding: 0 0 0 0;\n",
              "      width: 32px;\n",
              "    }\n",
              "\n",
              "    .colab-df-convert:hover {\n",
              "      background-color: #E2EBFA;\n",
              "      box-shadow: 0px 1px 2px rgba(60, 64, 67, 0.3), 0px 1px 3px 1px rgba(60, 64, 67, 0.15);\n",
              "      fill: #174EA6;\n",
              "    }\n",
              "\n",
              "    [theme=dark] .colab-df-convert {\n",
              "      background-color: #3B4455;\n",
              "      fill: #D2E3FC;\n",
              "    }\n",
              "\n",
              "    [theme=dark] .colab-df-convert:hover {\n",
              "      background-color: #434B5C;\n",
              "      box-shadow: 0px 1px 3px 1px rgba(0, 0, 0, 0.15);\n",
              "      filter: drop-shadow(0px 1px 2px rgba(0, 0, 0, 0.3));\n",
              "      fill: #FFFFFF;\n",
              "    }\n",
              "  </style>\n",
              "\n",
              "      <script>\n",
              "        const buttonEl =\n",
              "          document.querySelector('#df-d50424ea-f075-467c-9479-0781803b8596 button.colab-df-convert');\n",
              "        buttonEl.style.display =\n",
              "          google.colab.kernel.accessAllowed ? 'block' : 'none';\n",
              "\n",
              "        async function convertToInteractive(key) {\n",
              "          const element = document.querySelector('#df-d50424ea-f075-467c-9479-0781803b8596');\n",
              "          const dataTable =\n",
              "            await google.colab.kernel.invokeFunction('convertToInteractive',\n",
              "                                                     [key], {});\n",
              "          if (!dataTable) return;\n",
              "\n",
              "          const docLinkHtml = 'Like what you see? Visit the ' +\n",
              "            '<a target=\"_blank\" href=https://colab.research.google.com/notebooks/data_table.ipynb>data table notebook</a>'\n",
              "            + ' to learn more about interactive tables.';\n",
              "          element.innerHTML = '';\n",
              "          dataTable['output_type'] = 'display_data';\n",
              "          await google.colab.output.renderOutput(dataTable, element);\n",
              "          const docLink = document.createElement('div');\n",
              "          docLink.innerHTML = docLinkHtml;\n",
              "          element.appendChild(docLink);\n",
              "        }\n",
              "      </script>\n",
              "    </div>\n",
              "  </div>\n",
              "  "
            ]
          },
          "metadata": {},
          "execution_count": 12
        }
      ]
    },
    {
      "cell_type": "markdown",
      "source": [
        "# split data"
      ],
      "metadata": {
        "id": "tDfqHD-yokRQ"
      }
    },
    {
      "cell_type": "code",
      "metadata": {
        "id": "oKub_shJ6OtT"
      },
      "source": [
        "from sklearn.model_selection import train_test_split\n",
        "\n",
        "train, dev = train_test_split(df, test_size=0.2)"
      ],
      "execution_count": null,
      "outputs": []
    },
    {
      "cell_type": "code",
      "metadata": {
        "id": "AIB-oHfL6OtT",
        "outputId": "fa653e8c-d740-4ad2-ff0a-52f15ca8ae1b",
        "colab": {
          "base_uri": "https://localhost:8080/"
        }
      },
      "source": [
        "print(len(train))\n",
        "print(len(dev))"
      ],
      "execution_count": null,
      "outputs": [
        {
          "output_type": "stream",
          "name": "stdout",
          "text": [
            "304\n",
            "76\n"
          ]
        }
      ]
    },
    {
      "cell_type": "code",
      "metadata": {
        "id": "qPGxrbTc6OtU"
      },
      "source": [
        "train.to_csv('all2favor-train.csv', index=False)"
      ],
      "execution_count": null,
      "outputs": []
    },
    {
      "cell_type": "code",
      "metadata": {
        "id": "eQcCs9Xl6OtU"
      },
      "source": [
        "loaded_data = pd.read_csv('all2favor-train.csv')"
      ],
      "execution_count": null,
      "outputs": []
    },
    {
      "cell_type": "code",
      "metadata": {
        "id": "D1rQWKei6OtU",
        "outputId": "1a603574-0460-4938-8da8-3e3d58f6f30c",
        "colab": {
          "base_uri": "https://localhost:8080/",
          "height": 206
        }
      },
      "source": [
        "loaded_data.head()"
      ],
      "execution_count": null,
      "outputs": [
        {
          "output_type": "execute_result",
          "data": {
            "text/plain": [
              "                                                text                label\n",
              "0  2523/139 ย่อสั้น คนของโจทก์รับเงินจากลูกค้าแล้...  partially favorable\n",
              "1  2545/3535 ย่อสั้น ตามสัญญาซื้อขายระบุว่า ป. ซื...          unfavorable\n",
              "2  2558/10955 ย่อสั้น ตาม พ . ร . บ . องค์การสงเค...          unfavorable\n",
              "3  2548/4823 ย่อสั้น จำเลยที่ 1 เป็นเจ้าพนักงานที...  partially favorable\n",
              "4  2511/1204 ย่อสั้น ค่าเสียหายฐานทำละเมิดปิดทางภ...  partially favorable"
            ],
            "text/html": [
              "\n",
              "  <div id=\"df-12d5e0e5-3258-4a66-b14b-d9e7511f8e64\">\n",
              "    <div class=\"colab-df-container\">\n",
              "      <div>\n",
              "<style scoped>\n",
              "    .dataframe tbody tr th:only-of-type {\n",
              "        vertical-align: middle;\n",
              "    }\n",
              "\n",
              "    .dataframe tbody tr th {\n",
              "        vertical-align: top;\n",
              "    }\n",
              "\n",
              "    .dataframe thead th {\n",
              "        text-align: right;\n",
              "    }\n",
              "</style>\n",
              "<table border=\"1\" class=\"dataframe\">\n",
              "  <thead>\n",
              "    <tr style=\"text-align: right;\">\n",
              "      <th></th>\n",
              "      <th>text</th>\n",
              "      <th>label</th>\n",
              "    </tr>\n",
              "  </thead>\n",
              "  <tbody>\n",
              "    <tr>\n",
              "      <th>0</th>\n",
              "      <td>2523/139 ย่อสั้น คนของโจทก์รับเงินจากลูกค้าแล้...</td>\n",
              "      <td>partially favorable</td>\n",
              "    </tr>\n",
              "    <tr>\n",
              "      <th>1</th>\n",
              "      <td>2545/3535 ย่อสั้น ตามสัญญาซื้อขายระบุว่า ป. ซื...</td>\n",
              "      <td>unfavorable</td>\n",
              "    </tr>\n",
              "    <tr>\n",
              "      <th>2</th>\n",
              "      <td>2558/10955 ย่อสั้น ตาม พ . ร . บ . องค์การสงเค...</td>\n",
              "      <td>unfavorable</td>\n",
              "    </tr>\n",
              "    <tr>\n",
              "      <th>3</th>\n",
              "      <td>2548/4823 ย่อสั้น จำเลยที่ 1 เป็นเจ้าพนักงานที...</td>\n",
              "      <td>partially favorable</td>\n",
              "    </tr>\n",
              "    <tr>\n",
              "      <th>4</th>\n",
              "      <td>2511/1204 ย่อสั้น ค่าเสียหายฐานทำละเมิดปิดทางภ...</td>\n",
              "      <td>partially favorable</td>\n",
              "    </tr>\n",
              "  </tbody>\n",
              "</table>\n",
              "</div>\n",
              "      <button class=\"colab-df-convert\" onclick=\"convertToInteractive('df-12d5e0e5-3258-4a66-b14b-d9e7511f8e64')\"\n",
              "              title=\"Convert this dataframe to an interactive table.\"\n",
              "              style=\"display:none;\">\n",
              "        \n",
              "  <svg xmlns=\"http://www.w3.org/2000/svg\" height=\"24px\"viewBox=\"0 0 24 24\"\n",
              "       width=\"24px\">\n",
              "    <path d=\"M0 0h24v24H0V0z\" fill=\"none\"/>\n",
              "    <path d=\"M18.56 5.44l.94 2.06.94-2.06 2.06-.94-2.06-.94-.94-2.06-.94 2.06-2.06.94zm-11 1L8.5 8.5l.94-2.06 2.06-.94-2.06-.94L8.5 2.5l-.94 2.06-2.06.94zm10 10l.94 2.06.94-2.06 2.06-.94-2.06-.94-.94-2.06-.94 2.06-2.06.94z\"/><path d=\"M17.41 7.96l-1.37-1.37c-.4-.4-.92-.59-1.43-.59-.52 0-1.04.2-1.43.59L10.3 9.45l-7.72 7.72c-.78.78-.78 2.05 0 2.83L4 21.41c.39.39.9.59 1.41.59.51 0 1.02-.2 1.41-.59l7.78-7.78 2.81-2.81c.8-.78.8-2.07 0-2.86zM5.41 20L4 18.59l7.72-7.72 1.47 1.35L5.41 20z\"/>\n",
              "  </svg>\n",
              "      </button>\n",
              "      \n",
              "  <style>\n",
              "    .colab-df-container {\n",
              "      display:flex;\n",
              "      flex-wrap:wrap;\n",
              "      gap: 12px;\n",
              "    }\n",
              "\n",
              "    .colab-df-convert {\n",
              "      background-color: #E8F0FE;\n",
              "      border: none;\n",
              "      border-radius: 50%;\n",
              "      cursor: pointer;\n",
              "      display: none;\n",
              "      fill: #1967D2;\n",
              "      height: 32px;\n",
              "      padding: 0 0 0 0;\n",
              "      width: 32px;\n",
              "    }\n",
              "\n",
              "    .colab-df-convert:hover {\n",
              "      background-color: #E2EBFA;\n",
              "      box-shadow: 0px 1px 2px rgba(60, 64, 67, 0.3), 0px 1px 3px 1px rgba(60, 64, 67, 0.15);\n",
              "      fill: #174EA6;\n",
              "    }\n",
              "\n",
              "    [theme=dark] .colab-df-convert {\n",
              "      background-color: #3B4455;\n",
              "      fill: #D2E3FC;\n",
              "    }\n",
              "\n",
              "    [theme=dark] .colab-df-convert:hover {\n",
              "      background-color: #434B5C;\n",
              "      box-shadow: 0px 1px 3px 1px rgba(0, 0, 0, 0.15);\n",
              "      filter: drop-shadow(0px 1px 2px rgba(0, 0, 0, 0.3));\n",
              "      fill: #FFFFFF;\n",
              "    }\n",
              "  </style>\n",
              "\n",
              "      <script>\n",
              "        const buttonEl =\n",
              "          document.querySelector('#df-12d5e0e5-3258-4a66-b14b-d9e7511f8e64 button.colab-df-convert');\n",
              "        buttonEl.style.display =\n",
              "          google.colab.kernel.accessAllowed ? 'block' : 'none';\n",
              "\n",
              "        async function convertToInteractive(key) {\n",
              "          const element = document.querySelector('#df-12d5e0e5-3258-4a66-b14b-d9e7511f8e64');\n",
              "          const dataTable =\n",
              "            await google.colab.kernel.invokeFunction('convertToInteractive',\n",
              "                                                     [key], {});\n",
              "          if (!dataTable) return;\n",
              "\n",
              "          const docLinkHtml = 'Like what you see? Visit the ' +\n",
              "            '<a target=\"_blank\" href=https://colab.research.google.com/notebooks/data_table.ipynb>data table notebook</a>'\n",
              "            + ' to learn more about interactive tables.';\n",
              "          element.innerHTML = '';\n",
              "          dataTable['output_type'] = 'display_data';\n",
              "          await google.colab.output.renderOutput(dataTable, element);\n",
              "          const docLink = document.createElement('div');\n",
              "          docLink.innerHTML = docLinkHtml;\n",
              "          element.appendChild(docLink);\n",
              "        }\n",
              "      </script>\n",
              "    </div>\n",
              "  </div>\n",
              "  "
            ]
          },
          "metadata": {},
          "execution_count": 17
        }
      ]
    },
    {
      "cell_type": "code",
      "source": [
        "dev.to_csv('all2favor-dev.csv', index=False)"
      ],
      "metadata": {
        "id": "U6V20FPxp-iy"
      },
      "execution_count": null,
      "outputs": []
    }
  ]
}
